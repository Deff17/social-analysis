{
 "cells": [
  {
   "cell_type": "code",
   "execution_count": null,
   "metadata": {},
   "outputs": [],
   "source": [
    "import psycopg2\n",
    "import pandas as pd\n",
    "import os\n",
    "import itertools\n",
    "import numpy as np\n",
    "\n",
    "conn = psycopg2.connect(\n",
    "    host='localhost',\n",
    "    port=54320,\n",
    "    dbname='my_database',\n",
    "    password='pass',\n",
    "    user='user',\n",
    "    )\n",
    "conn.autocommit = False\n"
   ]
  },
  {
   "cell_type": "code",
   "execution_count": null,
   "metadata": {},
   "outputs": [],
   "source": [
    "df = pd.read_csv(\"FeatureTableCSV.csv\", sep=\";\")"
   ]
  },
  {
   "cell_type": "code",
   "execution_count": null,
   "metadata": {},
   "outputs": [],
   "source": [
    "df"
   ]
  },
  {
   "cell_type": "code",
   "execution_count": null,
   "metadata": {},
   "outputs": [],
   "source": [
    "df.where(df[\"NazwaFolderu\"] == \"FrequencyOfPosts\")"
   ]
  },
  {
   "cell_type": "code",
   "execution_count": null,
   "metadata": {},
   "outputs": [],
   "source": [
    "list(df.loc[df[\"NazwaFolderu\"] == \"FrequencyOfPosts\"][\"NazwaCechy\"])"
   ]
  },
  {
   "cell_type": "code",
   "execution_count": null,
   "metadata": {},
   "outputs": [],
   "source": [
    "import datetime\n",
    "from datetime import timedelta \n",
    "\n",
    "authors = \"authors\"\n",
    "comments = \"comments\"\n",
    "posts = \"posts\"\n",
    "category = \"category\"\n",
    "topics = \"topics\"\n",
    "user_id = 590\n",
    "\n",
    "start_date_comments = datetime.date(2008, 12, 9)\n",
    "end_date_comments = datetime.date(2013,11, 16)\n",
    "# start_date_comments = datetime.date(2011, 12, 24)\n",
    "# end_date_comments = datetime.date(2012, 2, 23)\n",
    "# 2008-12-09 18:41:00 - comments \n",
    "# 2013-11-16 21:35:00 - comments\n",
    "\n",
    "# 2005-12-09 09:50:17 - posts\n",
    "# 2013-11-14 10:13:00 - posts\n"
   ]
  },
  {
   "cell_type": "code",
   "execution_count": null,
   "metadata": {},
   "outputs": [],
   "source": []
  },
  {
   "cell_type": "code",
   "execution_count": null,
   "metadata": {},
   "outputs": [],
   "source": [
    "def get_all_table(table_name):\n",
    "    cur = conn.cursor()\n",
    "    query = \"\"\"\n",
    "    SELECT * FROM {}\n",
    "    \"\"\".format(table_name)\n",
    "    cur.execute(query)\n",
    "    res = cur.fetchall()\n",
    "    conn.commit()\n",
    "    cur.close()\n",
    "    return res"
   ]
  },
  {
   "cell_type": "code",
   "execution_count": null,
   "metadata": {},
   "outputs": [],
   "source": [
    "def get_all_users():\n",
    "    cur = conn.cursor()\n",
    "    query = \"\"\"\n",
    "    SELECT id, name FROM {} order by id\n",
    "    \"\"\".format(authors)\n",
    "    cur.execute(query)\n",
    "    res = cur.fetchall()\n",
    "    conn.commit()\n",
    "    cur.close()\n",
    "    return res"
   ]
  },
  {
   "cell_type": "code",
   "execution_count": null,
   "metadata": {},
   "outputs": [],
   "source": [
    "def get_all_ids():\n",
    "    result = get_all_users()\n",
    "    return [x[0] for x in result]"
   ]
  },
  {
   "cell_type": "code",
   "execution_count": null,
   "metadata": {},
   "outputs": [],
   "source": [
    "len(get_all_ids())"
   ]
  },
  {
   "cell_type": "code",
   "execution_count": null,
   "metadata": {},
   "outputs": [],
   "source": [
    "def save_data_to_file(folder_name, file_name, data):\n",
    "    try:\n",
    "        # Create target Directory\n",
    "        os.mkdir(folder_name)\n",
    "        print(\"Directory \" , folder_name ,  \" Created \") \n",
    "    except FileExistsError:\n",
    "        e = 1\n",
    "        #print(\"Directory \" , folder_name ,  \" already exists\")\n",
    "    data.to_csv(folder_name + \"/\" + file_name, index=False)"
   ]
  },
  {
   "cell_type": "code",
   "execution_count": null,
   "metadata": {},
   "outputs": [],
   "source": [
    "#########\n",
    "\n",
    "\n",
    "# number of written comments to others users - months periods\n",
    "def get_number_of_written_comments_to_other_users(user_id, start_date, end_date):\n",
    "    cur = conn.cursor()\n",
    "    query = \"\"\"\n",
    "    SELECT COUNT(*) FROM {} c\n",
    "    JOIN {} p ON p.id = c.post_id\n",
    "    WHERE c.author_id = {} and p.author_id <> {} AND\n",
    "    c.date between '{}' and '{}'\n",
    "    \"\"\".format(comments, posts, user_id, user_id, start_date, end_date)\n",
    "    cur.execute(query)\n",
    "    res = cur.fetchone()\n",
    "    conn.commit()\n",
    "    cur.close()\n",
    "    return res\n",
    "#     conn.close()\n"
   ]
  },
  {
   "cell_type": "code",
   "execution_count": null,
   "metadata": {},
   "outputs": [],
   "source": [
    "# res = get_number_of_written_comments_to_other_users(591, start_date_comments, start_date_comments + timedelta(days=30))\n",
    "def generate_number_of_written_comments_to_other_users(users):\n",
    "    start_date = start_date_comments\n",
    "    while start_date < end_date_comments:\n",
    "        print(start_date)\n",
    "        data = []\n",
    "        for user_id in users:\n",
    "            written_com = get_number_of_written_comments_to_other_users(user_id, start_date, start_date + timedelta(days=30))\n",
    "            result = []\n",
    "            result.append(written_com[0])\n",
    "            result.append(user_id)\n",
    "            result.append(str(start_date))\n",
    "            data.append(result)\n",
    "        df = pd.DataFrame(data, columns = ['number_of_written_comments_to_other_users', 'user_id', 'start_date'])\n",
    "        save_data_to_file(\"WrittenCommToOthers\", \"feateures_\" + str(start_date) + \".csv\", df)\n",
    "        start_date += timedelta(days=15)\n",
    "        "
   ]
  },
  {
   "cell_type": "code",
   "execution_count": null,
   "metadata": {},
   "outputs": [],
   "source": [
    "################\n",
    "\n",
    "# the number of received responses (comments) for user’s posts\n",
    "def get_number_of_received_responses_for_users_posts(user_id, start_date, end_date):\n",
    "    cur = conn.cursor()\n",
    "    query = \"\"\"\n",
    "    SELECT AVG(cs.resp_amount), stddev(cs.resp_amount),\n",
    "    percentile_cont(0.5) WITHIN GROUP (ORDER BY cs.resp_amount),\n",
    "    percentile_cont(0.75) WITHIN GROUP (ORDER BY cs.resp_amount),\n",
    "    MAX(cs.resp_amount), MIN(cs.resp_amount) FROM\n",
    "    (SELECT COUNT(*) as resp_amount FROM {} c\n",
    "    JOIN {} p ON p.id = c.post_id\n",
    "    WHERE p.author_id = {} and c.author_id <> {} AND\n",
    "    c.date between '{}' and '{}'\n",
    "    GROUP BY p.id) as cs\n",
    "    \"\"\".format(comments, posts, user_id, user_id, start_date, end_date)\n",
    "    cur.execute(query)\n",
    "    res = cur.fetchone()\n",
    "    conn.commit()\n",
    "    cur.close()\n",
    "    return res"
   ]
  },
  {
   "cell_type": "code",
   "execution_count": null,
   "metadata": {},
   "outputs": [],
   "source": [
    "def generate_number_of_received_responses_for_users_posts(users):\n",
    "    start_date = start_date_comments\n",
    "    while start_date < end_date_comments:\n",
    "        print(start_date)\n",
    "        data = []\n",
    "        for user_id in users:\n",
    "            receive_posts = get_number_of_received_responses_for_users_posts(user_id, start_date, start_date + timedelta(days=30))\n",
    "            #print(\"Proceding data: of user: {}\".format(user_id))\n",
    "            receive_posts = [0 if v is None else v for v in receive_posts]\n",
    "            #print(receive_posts)\n",
    "            result = []\n",
    "            result.extend(receive_posts)\n",
    "            result.append(user_id)\n",
    "            result.append(str(start_date))\n",
    "            data.append(result)\n",
    "        \n",
    "        df = pd.DataFrame(data, columns = ['avg_responses_to_posts','std_responses', 'median_responses_to_posts','q3','min','max', 'user_id', 'start_date'])\n",
    "        save_data_to_file(\"NumOfReceiveResponseToUserPosts\", \"feateures_\" + str(start_date) + \".csv\", df)\n",
    "        start_date += timedelta(days=15)\n",
    "        "
   ]
  },
  {
   "cell_type": "code",
   "execution_count": null,
   "metadata": {},
   "outputs": [],
   "source": [
    "# the number of comments written by user under his own posts\n",
    "\n",
    "\n",
    "##############################\n",
    "\n",
    "def get_number_of_comments_written_by_user_under_his_own_posts(user_id, start_date, end_date):\n",
    "    cur = conn.cursor()\n",
    "    query = \"\"\"\n",
    "    SELECT AVG(cs.resp_amount), stddev(cs.resp_amount),\n",
    "    percentile_cont(0.5) WITHIN GROUP (ORDER BY cs.resp_amount),\n",
    "    percentile_cont(0.75) WITHIN GROUP (ORDER BY cs.resp_amount),\n",
    "    MAX(cs.resp_amount), MIN(cs.resp_amount) FROM\n",
    "    (SELECT COUNT(*) as resp_amount FROM {} c\n",
    "    JOIN {} p ON p.id = c.post_id\n",
    "    WHERE p.author_id = {} and c.author_id = {} AND\n",
    "    c.date between '{}' and '{}'\n",
    "    GROUP BY p.id) as cs\n",
    "    \"\"\".format(comments, posts, user_id, user_id, start_date, end_date)\n",
    "    cur.execute(query)\n",
    "    res = cur.fetchone()\n",
    "    conn.commit()\n",
    "    cur.close()\n",
    "    return res"
   ]
  },
  {
   "cell_type": "code",
   "execution_count": null,
   "metadata": {},
   "outputs": [],
   "source": [
    "def generate_number_of_comments_written_by_user_under_his_own_posts(users):\n",
    "    start_date = start_date_comments\n",
    "    while start_date < end_date_comments:\n",
    "        print(start_date)\n",
    "        data = []\n",
    "        for user_id in users:\n",
    "            comm = get_number_of_comments_written_by_user_under_his_own_posts(user_id, start_date, start_date + timedelta(days=30))\n",
    "            #print(\"Proceding data: of user: {}\".format(user_id))\n",
    "            comm = [0 if v is None else v for v in comm]\n",
    "            #print(receive_posts)\n",
    "            result = []\n",
    "            result.extend(comm)\n",
    "            result.append(user_id)\n",
    "            result.append(str(start_date))\n",
    "            data.append(result)\n",
    "        \n",
    "        df = pd.DataFrame(data, columns = ['avg_comments_to_own_posts','std_comments', 'median_responses_to_posts','q3','min','max', 'user_id', 'start_date'])\n",
    "        save_data_to_file(\"NumOfOwnCommToUserPosts\", \"feateures_\" + str(start_date) + \".csv\", df)\n",
    "        start_date += timedelta(days=15)"
   ]
  },
  {
   "cell_type": "code",
   "execution_count": null,
   "metadata": {},
   "outputs": [],
   "source": [
    "# the number of received responses under user’s comments\n",
    "\n",
    "######################################\n",
    "\n",
    "def get_number_of_received_responses_under_users_comments(user_id, start_date, end_date):\n",
    "    cur = conn.cursor()\n",
    "    query = \"\"\"\n",
    "    SELECT AVG(cs.resp_amount), stddev(cs.resp_amount),\n",
    "    percentile_cont(0.5) WITHIN GROUP (ORDER BY cs.resp_amount),\n",
    "    percentile_cont(0.75) WITHIN GROUP (ORDER BY cs.resp_amount),\n",
    "    MAX(cs.resp_amount), MIN(cs.resp_amount) FROM\n",
    "    (SELECT COUNT(*) as resp_amount FROM {} c\n",
    "    JOIN {} c2 ON c.parentcomment_id = c2.id\n",
    "    WHERE c2.author_id = {} and c.author_id <> {} AND\n",
    "    c.date between '{}' and '{}'\n",
    "    GROUP BY c.parentcomment_id) as cs\n",
    "    \"\"\".format(comments, comments, user_id, user_id, start_date, end_date)\n",
    "    cur.execute(query)\n",
    "    res = cur.fetchone()\n",
    "    conn.commit()\n",
    "    cur.close()\n",
    "    return res"
   ]
  },
  {
   "cell_type": "code",
   "execution_count": null,
   "metadata": {},
   "outputs": [],
   "source": [
    "def generate_number_of_received_responses_under_users_comments(users):\n",
    "    start_date = start_date_comments\n",
    "    while start_date < end_date_comments:\n",
    "        print(start_date)\n",
    "        data = []\n",
    "        for user_id in users:\n",
    "            comm = get_number_of_received_responses_under_users_comments(user_id, start_date, start_date + timedelta(days=30))\n",
    "            #print(\"Proceding data: of user: {}\".format(user_id))\n",
    "            comm = [0 if v is None else v for v in comm]\n",
    "            #print(receive_posts)\n",
    "            result = []\n",
    "            result.extend(comm)\n",
    "            result.append(user_id)\n",
    "            result.append(str(start_date))\n",
    "            data.append(result)\n",
    "        \n",
    "        df = pd.DataFrame(data, columns = ['avg_comments_to_comm','std_comments', 'median_responses_to_comm','q3','min','max', 'user_id', 'start_date'])\n",
    "        save_data_to_file(\"NumOfCommToUserComm\", \"feateures_\" + str(start_date) + \".csv\", df)\n",
    "        start_date += timedelta(days=15)"
   ]
  },
  {
   "cell_type": "code",
   "execution_count": null,
   "metadata": {},
   "outputs": [],
   "source": [
    "#####################\n",
    "\n",
    "# number of user’s posts\n",
    "def get_number_of_users_posts(user_id, start_date, end_date):\n",
    "    cur = conn.cursor()\n",
    "    query = \"\"\"\n",
    "    SELECT COUNT(*) FROM {} WHERE author_id = {} AND\n",
    "    date between '{}' and '{}'\n",
    "    \"\"\".format(posts, user_id, start_date, end_date)\n",
    "    cur.execute(query)\n",
    "    res = cur.fetchone()\n",
    "    conn.commit()\n",
    "    cur.close()\n",
    "    return res"
   ]
  },
  {
   "cell_type": "code",
   "execution_count": null,
   "metadata": {},
   "outputs": [],
   "source": [
    "def generate_number_of_users_posts(users):\n",
    "    start_date = start_date_comments\n",
    "    while start_date < end_date_comments:\n",
    "        print(start_date)\n",
    "        data = []\n",
    "        for user_id in users:\n",
    "            posts = get_number_of_users_posts(user_id, start_date, start_date + timedelta(days=30))\n",
    "            #print(\"Proceding data: of user: {}\".format(user_id))\n",
    "            posts = [0 if v is None else v for v in posts]\n",
    "            #print(receive_posts)\n",
    "            result = []\n",
    "            result.extend(posts)\n",
    "            result.append(user_id)\n",
    "            result.append(str(start_date))\n",
    "            data.append(result)\n",
    "        \n",
    "        df = pd.DataFrame(data, columns = ['num_of_posts', 'user_id', 'start_date'])\n",
    "        save_data_to_file(\"NumOfUsersPosts\", \"feateures_\" + str(start_date) + \".csv\", df)\n",
    "        start_date += timedelta(days=15)"
   ]
  },
  {
   "cell_type": "code",
   "execution_count": null,
   "metadata": {},
   "outputs": [],
   "source": [
    "def get_freq_stats(dates, timedelta_days):\n",
    "    dates = [x for x in dates if x is not None]\n",
    "    dates = sorted(dates)\n",
    "    freq_stats = []\n",
    "    i = 0\n",
    "    d = dates[0]\n",
    "    while i < len(dates):\n",
    "        posts = 0\n",
    "        while i < len(dates):\n",
    "            if dates[i] < d + timedelta(days=timedelta_days):\n",
    "                posts += 1\n",
    "            else:\n",
    "                break\n",
    "            i += 1\n",
    "        freq_stats.append(posts)\n",
    "        d += timedelta(days=timedelta_days)\n",
    "    freq_stats = np.array(freq_stats)\n",
    "    activity_time = dates[len(dates) - 1] - dates[0]\n",
    "    return (freq_stats, activity_time)"
   ]
  },
  {
   "cell_type": "code",
   "execution_count": null,
   "metadata": {},
   "outputs": [],
   "source": [
    "def calculate_posts_frequency(dates, timedelta_days):\n",
    "    posts_stats, activity_time = get_freq_stats(dates, timedelta_days)\n",
    "    return {\n",
    "        'posts_activity_time': activity_time.days + 1,\n",
    "        'posts_freq_avg': round(np.average(posts_stats),2),\n",
    "        'posts_freq_stddev': round(np.std(posts_stats), 2),\n",
    "        'posts_freq_median': round(np.median(posts_stats), 2),\n",
    "        'posts_freq_q3': round(np.percentile(posts_stats, 75),2),\n",
    "        'posts_freq_max': np.max(posts_stats),\n",
    "        'posts_freq_min': np.min(posts_stats)\n",
    "    }"
   ]
  },
  {
   "cell_type": "code",
   "execution_count": null,
   "metadata": {},
   "outputs": [],
   "source": [
    "def calculate_comments_frequency(dates, timedelta_days):\n",
    "    comm_stats, activity_time = get_freq_stats(dates, timedelta_days)\n",
    "    return {\n",
    "        'comments_freq_avg': round(np.average(comm_stats),2),\n",
    "        'comments_freq_stddev': round(np.std(comm_stats), 2),\n",
    "        'comments_freq_median': round(np.median(comm_stats), 2),\n",
    "        'comments_freq_q3': round(np.percentile(comm_stats, 75),2),\n",
    "        'comments_freq_max': np.max(comm_stats),\n",
    "        'comments_freq_min': np.min(comm_stats)\n",
    "    }"
   ]
  },
  {
   "cell_type": "code",
   "execution_count": null,
   "metadata": {},
   "outputs": [],
   "source": [
    "# time period in which user was actively writing posts - jak to liczyczy w ciagu miesiaca ?\n",
    "# post_activity time + frequency of writing posts\n",
    "def get_post_activity_time_and_frequency(user_id, start_date, end_date, timedelta_days=7):\n",
    "    cur = conn.cursor()\n",
    "    query = \"\"\"\n",
    "    SELECT date FROM {} WHERE author_id = {} AND\n",
    "    date between '{}' and '{}'\n",
    "    \"\"\".format(posts, user_id, start_date, end_date)\n",
    "    cur.execute(query)\n",
    "    res = cur.fetchall()\n",
    "    conn.commit()\n",
    "    cur.close()\n",
    "    dates = []\n",
    "    for i in range(len(res)):\n",
    "        dates.append(res[i][0])\n",
    "    if len(res) > 0:\n",
    "        return calculate_posts_frequency(dates, timedelta_days)\n",
    "    else:\n",
    "        return {\n",
    "            'posts_activity_time': 0.0,\n",
    "            'posts_freq_avg': 0.0,\n",
    "            'posts_freq_stddev': 0.0,\n",
    "            'posts_freq_median': 0.0,\n",
    "            'posts_freq_q3': 0.0,\n",
    "            'posts_freq_max': 0.0,\n",
    "            'posts_freq_min': 0.0\n",
    "            }"
   ]
  },
  {
   "cell_type": "code",
   "execution_count": null,
   "metadata": {},
   "outputs": [],
   "source": [
    "def generate_post_activity_time_and_frequency(users):\n",
    "    start_date = start_date_comments\n",
    "    while start_date < end_date_comments:\n",
    "        print(start_date)\n",
    "        data = []\n",
    "        for user_id in users:\n",
    "            posts = get_post_activity_time_and_frequency(user_id, start_date, start_date + timedelta(days=30)).values()\n",
    "            #print(\"Proceding data: of user: {}\".format(user_id))\n",
    "            posts = [0 if v is None else v for v in posts]\n",
    "            #print(receive_posts)\n",
    "            result = []\n",
    "            result.extend(posts)\n",
    "            result.append(user_id)\n",
    "            result.append(str(start_date))\n",
    "            data.append(result)\n",
    "        \n",
    "        df = pd.DataFrame(data, columns = ['posts_activity_time', 'posts_freq_avg', 'posts_freq_stddev', 'posts_freq_median', 'posts_freq_q3', 'posts_freq_max', 'posts_freq_min', 'user_id', 'start_date'])\n",
    "        save_data_to_file(\"NumOfUsersPostsFrequency\", \"feateures_\" + str(start_date) + \".csv\", df)\n",
    "        start_date += timedelta(days=15)"
   ]
  },
  {
   "cell_type": "code",
   "execution_count": null,
   "metadata": {},
   "outputs": [],
   "source": [
    "# frequency of writting comments\n",
    "def get_comments_frequency(user_id, start_date, end_date, timedelta_days=7):\n",
    "    cur = conn.cursor()\n",
    "    query = \"\"\"\n",
    "    SELECT date FROM {} WHERE author_id = {} AND\n",
    "    date between '{}' and '{}'\n",
    "    \"\"\".format(comments, user_id, start_date, end_date)\n",
    "    cur.execute(query)\n",
    "    res = cur.fetchall()\n",
    "    conn.commit()\n",
    "    cur.close()\n",
    "    dates = []\n",
    "    for i in range(len(res)):\n",
    "        dates.append(res[i][0])\n",
    "    if len(res) > 0:\n",
    "        return calculate_comments_frequency(dates, timedelta_days)\n",
    "    else:\n",
    "        return {\n",
    "                'comments_freq_avg': 0.0,\n",
    "                'comments_freq_stddev': 0.0,\n",
    "                'comments_freq_median': 0.0,\n",
    "                'comments_freq_q3': 0.0,\n",
    "                'comments_freq_max': 0.0,\n",
    "                'comments_freq_min': 0.0\n",
    "            }"
   ]
  },
  {
   "cell_type": "code",
   "execution_count": null,
   "metadata": {},
   "outputs": [],
   "source": []
  },
  {
   "cell_type": "code",
   "execution_count": null,
   "metadata": {},
   "outputs": [],
   "source": [
    "def generate_comments_frequency(users):\n",
    "    start_date = start_date_comments\n",
    "    while start_date < end_date_comments:\n",
    "        print(start_date)\n",
    "        data = []\n",
    "        for user_id in users:\n",
    "            posts = get_comments_frequency(user_id, start_date, start_date + timedelta(days=30)).values()\n",
    "            #print(posts.values())\n",
    "            #print(\"Proceding data: of user: {}\".format(user_id))\n",
    "            comments = [0 if v is None else v for v in posts]\n",
    "            #print(receive_posts)\n",
    "            result = []\n",
    "            result.extend(comments)\n",
    "            result.append(user_id)\n",
    "            result.append(str(start_date))\n",
    "            #print(result)\n",
    "            data.append(result)\n",
    "            #print(data)\n",
    "        \n",
    "        df = pd.DataFrame(data, columns = ['comments_freq_avg', 'comments_freq_stddev', 'comments_freq_median', 'comments_freq_q3', 'comments_freq_max', 'comments_freq_min', 'user_id', 'start_date'])\n",
    "        save_data_to_file(\"NumOfUsersCommentsFrequency\", \"feateures_\" + str(start_date) + \".csv\", df)\n",
    "        start_date += timedelta(days=15)"
   ]
  },
  {
   "cell_type": "code",
   "execution_count": null,
   "metadata": {},
   "outputs": [],
   "source": [
    "generate_post_activity_time_and_frequency(get_all_ids())"
   ]
  },
  {
   "cell_type": "code",
   "execution_count": null,
   "metadata": {},
   "outputs": [],
   "source": [
    "generate_comments_frequency(get_all_ids())"
   ]
  },
  {
   "cell_type": "code",
   "execution_count": null,
   "metadata": {},
   "outputs": [],
   "source": []
  },
  {
   "cell_type": "code",
   "execution_count": null,
   "metadata": {},
   "outputs": [],
   "source": [
    "# num of words of users comments\n",
    "\n",
    "##############################\n",
    "\n",
    "def get_num_of_words_of_comments(user_id, start_date, end_date):\n",
    "    cur = conn.cursor()\n",
    "    query = \"\"\"\n",
    "    SELECT AVG(cs.len), stddev(cs.len),\n",
    "                       percentile_cont(0.5) WITHIN GROUP (ORDER BY cs.len), \n",
    "                       percentile_cont(0.75) WITHIN GROUP (ORDER BY cs.len),\n",
    "                       MAX(cs.len), MIN(cs.len) FROM\n",
    "                       (SELECT array_length(regexp_split_to_array(c.content, \\'\\s\\'),1) as len FROM {} c \n",
    "                       JOIN {} p ON p.id = c.post_id\n",
    "                       WHERE c.author_id = {} and p.author_id <> {} AND\n",
    "                       c.date between '{}' and '{}') as cs            \n",
    "    \"\"\".format(comments, posts, user_id, user_id, start_date, end_date)\n",
    "    cur.execute(query)\n",
    "    result = cur.fetchall()[0]\n",
    "    conn.commit()\n",
    "    cur.close()\n",
    "    features = {\n",
    "            'written_comments_word_count_avg': float(result[0]) if result[0] is not None else 0.0,\n",
    "            'written_comments_word_count_stddev': float(result[1]) if result[1] is not None else 0.0,\n",
    "            'written_comments_word_count_median': float(result[2]) if result[2] is not None else 0.0,\n",
    "            'written_comments_word_count_q3': float(result[3]) if result[3] is not None else 0.0,\n",
    "            'written_comments_word_count_max': float(result[4]) if result[4] is not None else 0.0,\n",
    "            'written_comments_word_count_min': float(result[5]) if result[5] is not None else 0.0\n",
    "        }\n",
    "    return features"
   ]
  },
  {
   "cell_type": "code",
   "execution_count": null,
   "metadata": {},
   "outputs": [],
   "source": [
    "def generate_num_of_words_of_comments(users):\n",
    "    start_date = start_date_comments\n",
    "    while start_date < end_date_comments:\n",
    "        print(start_date)\n",
    "        data = []\n",
    "        for user_id in users:\n",
    "            comments = get_num_of_words_of_comments(user_id, start_date, start_date + timedelta(days=30))\n",
    "            #print(\"Proceding data: of user: {}\".format(user_id))\n",
    "            comments = [0 if v is None else v for v in comments]\n",
    "            #print(receive_posts)\n",
    "            result = []\n",
    "            result.extend(comments)\n",
    "            result.append(user_id)\n",
    "            result.append(str(start_date))\n",
    "            data.append(result)\n",
    "        \n",
    "        df = pd.DataFrame(data, columns = ['written_comments_word_count_avg', 'written_comments_word_count_stddev', 'written_comments_word_count_median', 'written_comments_word_count_q3', 'written_comments_word_count_max', 'written_comments_word_count_min', 'user_id', 'start_date'])\n",
    "        save_data_to_file(\"NumOfWordsOFUsersComments\", \"feateures_\" + str(start_date) + \".csv\", df)\n",
    "        start_date += timedelta(days=15)"
   ]
  },
  {
   "cell_type": "code",
   "execution_count": null,
   "metadata": {},
   "outputs": [],
   "source": [
    "# num of words of users posts\n",
    "\n",
    "\n",
    "\n",
    "#######################\n",
    "def get_num_of_words_of_posts(user_id, start_date, end_date):\n",
    "    cur = conn.cursor()\n",
    "    query = \"\"\"\n",
    "    SELECT AVG(array_length(regexp_split_to_array(content, \\'\\s\\'),1)),\n",
    "                       stddev(array_length(regexp_split_to_array(content, \\'\\s\\'),1)),\n",
    "                       percentile_cont(0.5) WITHIN GROUP (ORDER BY array_length(regexp_split_to_array(content, \\'\\s\\'),1)),\n",
    "                       percentile_cont(0.75) WITHIN GROUP (ORDER BY array_length(regexp_split_to_array(content, \\'\\s\\'),1)),\n",
    "                       MAX(array_length(regexp_split_to_array(content, \\'\\s\\'),1)),\n",
    "                       MIN(array_length(regexp_split_to_array(content, \\'\\s\\'),1))\n",
    "                       FROM {} WHERE author_id = {} AND date between '{}' and '{}'      \n",
    "    \"\"\".format(posts, user_id, start_date, end_date)\n",
    "    cur.execute(query)\n",
    "    result = cur.fetchall()[0]\n",
    "    conn.commit()\n",
    "    cur.close()\n",
    "    features = {\n",
    "            'posts_word_count_avg': float(result[0]) if result[0] is not None else 0.0,\n",
    "            'posts_word_count_stddev': float(result[1]) if result[1] is not None else 0.0,\n",
    "            'posts_word_count_median': float(result[2]) if result[2] is not None else 0.0,\n",
    "            'posts_word_count_q3': float(result[3]) if result[3] is not None else 0.0,\n",
    "            'posts_word_count_max': float(result[4]) if result[4] is not None else 0.0,\n",
    "            'posts_word_count_min': float(result[5]) if result[5] is not None else 0.0\n",
    "        }\n",
    "    return features"
   ]
  },
  {
   "cell_type": "code",
   "execution_count": null,
   "metadata": {},
   "outputs": [],
   "source": [
    "def generate_num_of_words_of_posts(users):\n",
    "    start_date = start_date_comments\n",
    "    while start_date < end_date_comments:\n",
    "        print(start_date)\n",
    "        data = []\n",
    "        for user_id in users:\n",
    "            comments = get_num_of_words_of_posts(user_id, start_date, start_date + timedelta(days=30)).values()\n",
    "            #print(\"Proceding data: of user: {}\".format(user_id))\n",
    "            comments = [0 if v is None else v for v in comments]\n",
    "            #print(receive_posts)\n",
    "            result = []\n",
    "            result.extend(comments)\n",
    "            result.append(user_id)\n",
    "            result.append(str(start_date))\n",
    "            data.append(result)\n",
    "        \n",
    "        df = pd.DataFrame(data, columns = ['posts_word_count_avg', 'posts_word_count_stddev', 'posts_word_count_median', 'posts_word_count_q3', 'posts_word_count_max', 'posts_word_count_min', 'user_id', 'start_date'])\n",
    "        save_data_to_file(\"NumOfWordsOFUsersPosts\", \"feateures_\" + str(start_date) + \".csv\", df)\n",
    "        start_date += timedelta(days=15)"
   ]
  },
  {
   "cell_type": "code",
   "execution_count": null,
   "metadata": {},
   "outputs": [],
   "source": [
    "# num of words in responses for users posts\n",
    "\n",
    "####################\n",
    "\n",
    "def get_num_of_words_of_received_post_responses(user_id, start_date, end_date):\n",
    "    cur = conn.cursor()\n",
    "    query = \"\"\"\n",
    "    SELECT AVG(cs.len), stddev(cs.len),\n",
    "                       percentile_cont(0.5) WITHIN GROUP (ORDER BY cs.len),\n",
    "                       percentile_cont(0.75) WITHIN GROUP (ORDER BY cs.len),\n",
    "                       MAX(cs.len), MIN(cs.len) FROM\n",
    "                       (SELECT array_length(regexp_split_to_array(c.content, \\'\\s\\'),1) as len FROM {} c\n",
    "                       JOIN {} p ON p.id = c.post_id\n",
    "                       WHERE p.author_id = {} and c.author_id <> {} \n",
    "                       AND c.date between '{}' and '{}') as cs\n",
    "    \"\"\".format(comments, posts, user_id, user_id, start_date, end_date)\n",
    "    cur.execute(query)\n",
    "    result = cur.fetchall()[0]\n",
    "    conn.commit()\n",
    "    cur.close()\n",
    "    features = {\n",
    "            'received_posts_responses_word_count_avg': float(result[0]) if result[0] is not None else 0.0,\n",
    "            'received_posts_responses_word_count_stddev': float(result[1]) if result[1] is not None else 0.0,\n",
    "            'received_posts_responses_word_count_median': float(result[2]) if result[2] is not None else 0.0,\n",
    "            'received_posts_responses_word_count_q3': float(result[3]) if result[3] is not None else 0.0,\n",
    "            'received_posts_responses_word_count_max': float(result[4]) if result[4] is not None else 0.0,\n",
    "            'received_posts_responses_word_count_min': float(result[5]) if result[5] is not None else 0.0\n",
    "        }\n",
    "    return features"
   ]
  },
  {
   "cell_type": "code",
   "execution_count": null,
   "metadata": {},
   "outputs": [],
   "source": [
    "def generate_num_of_words_of_received_post_responses(users):\n",
    "    start_date = start_date_comments\n",
    "    while start_date < end_date_comments:\n",
    "        print(start_date)\n",
    "        data = []\n",
    "        for user_id in users:\n",
    "            comments = get_num_of_words_of_received_post_responses(user_id, start_date, start_date + timedelta(days=30)).values()\n",
    "            #print(\"Proceding data: of user: {}\".format(user_id))\n",
    "            comments = [0 if v is None else v for v in comments]\n",
    "            #print(receive_posts)\n",
    "            result = []\n",
    "            result.extend(comments)\n",
    "            result.append(user_id)\n",
    "            result.append(str(start_date))\n",
    "            data.append(result)\n",
    "        \n",
    "        df = pd.DataFrame(data, columns = ['received_posts_responses_word_count_avg', 'received_posts_responses_word_count_stddev', 'received_posts_responses_word_count_median', 'received_posts_responses_word_count_q3', 'received_posts_responses_word_count_max', 'received_posts_responses_word_count_min', 'user_id', 'start_date'])\n",
    "        save_data_to_file(\"NumOfWordsOFResponsesToUsersPosts\", \"feateures_\" + str(start_date) + \".csv\", df)\n",
    "        start_date += timedelta(days=15)"
   ]
  },
  {
   "cell_type": "code",
   "execution_count": null,
   "metadata": {},
   "outputs": [],
   "source": [
    "# num of words in responses for users posts\n",
    "\n",
    "def get_num_of_words_of_own_post_responses(user_id, start_date, end_date):\n",
    "    cur = conn.cursor()\n",
    "    query = \"\"\"\n",
    "    SELECT AVG(cs.len), stddev(cs.len),\n",
    "                       percentile_cont(0.5) WITHIN GROUP (ORDER BY cs.len),\n",
    "                       percentile_cont(0.75) WITHIN GROUP (ORDER BY cs.len),\n",
    "                       MAX(cs.len), MIN(cs.len) FROM\n",
    "                       (SELECT array_length(regexp_split_to_array(c.content, \\'\\s\\'),1) as len FROM {} c\n",
    "                       JOIN {} p ON p.id = c.post_id\n",
    "                       WHERE p.author_id = {} and c.author_id = {} AND\n",
    "                       c.date between '{}' and '{}') as cs\n",
    "    \"\"\".format(comments, posts, user_id, user_id, start_date, end_date)\n",
    "    cur.execute(query)\n",
    "    result = cur.fetchall()[0]\n",
    "    conn.commit()\n",
    "    cur.close()\n",
    "    features = {\n",
    "            'own_posts_responses_word_count_avg': float(result[0]) if result[0] is not None else 0.0,\n",
    "            'own_posts_responses_word_count_stddev': float(result[1]) if result[1] is not None else 0.0,\n",
    "            'own_posts_responses_word_count_median': float(result[2]) if result[2] is not None else 0.0,\n",
    "            'own_posts_responses_word_count_q3': float(result[3]) if result[3] is not None else 0.0,\n",
    "            'own_posts_responses_word_count_max': float(result[4]) if result[4] is not None else 0.0,\n",
    "            'own_posts_responses_word_count_min': float(result[5]) if result[5] is not None else 0.0\n",
    "        }\n",
    "    return features"
   ]
  },
  {
   "cell_type": "code",
   "execution_count": null,
   "metadata": {},
   "outputs": [],
   "source": [
    "def generate_num_of_words_of_own_post_responses(users):\n",
    "    start_date = start_date_comments\n",
    "    while start_date < end_date_comments:\n",
    "        print(start_date)\n",
    "        data = []\n",
    "        for user_id in users:\n",
    "            comments = get_num_of_words_of_own_post_responses(user_id, start_date, start_date + timedelta(days=30)).values()\n",
    "            #print(\"Proceding data: of user: {}\".format(user_id))\n",
    "            comments = [0 if v is None else v for v in comments]\n",
    "            #print(receive_posts)\n",
    "            result = []\n",
    "            result.extend(comments)\n",
    "            result.append(user_id)\n",
    "            result.append(str(start_date))\n",
    "            data.append(result)\n",
    "        \n",
    "        df = pd.DataFrame(data, columns = ['own_posts_responses_word_count_avg', 'own_posts_responses_word_count_stddev', 'own_posts_responses_word_count_median', 'own_posts_responses_word_count_q3', 'own_posts_responses_word_count_max', 'own_posts_responses_word_count_min', 'user_id', 'start_date'])\n",
    "        save_data_to_file(\"NumOfWordsOf_OWN_ResponsesToUsersPosts\", \"feateures_\" + str(start_date) + \".csv\", df)\n",
    "        start_date += timedelta(days=15)"
   ]
  },
  {
   "cell_type": "code",
   "execution_count": null,
   "metadata": {},
   "outputs": [],
   "source": [
    "# 2008-12-09\n",
    "# 2008-12-24\n",
    "# 2009-01-08\n",
    "# 2009-01-23\n",
    "# 2009-02-07\n",
    "# 2009-02-22"
   ]
  },
  {
   "cell_type": "code",
   "execution_count": null,
   "metadata": {},
   "outputs": [],
   "source": [
    "generate_number_of_written_comments_to_other_users(get_all_ids())"
   ]
  },
  {
   "cell_type": "code",
   "execution_count": null,
   "metadata": {},
   "outputs": [],
   "source": []
  },
  {
   "cell_type": "code",
   "execution_count": null,
   "metadata": {},
   "outputs": [],
   "source": [
    "generate_number_of_received_responses_under_users_comments(get_all_ids())"
   ]
  },
  {
   "cell_type": "code",
   "execution_count": null,
   "metadata": {},
   "outputs": [],
   "source": [
    "generate_number_of_comments_written_by_user_under_his_own_posts(get_all_ids())"
   ]
  },
  {
   "cell_type": "code",
   "execution_count": null,
   "metadata": {},
   "outputs": [],
   "source": [
    "generate_number_of_users_posts(get_all_ids())"
   ]
  },
  {
   "cell_type": "code",
   "execution_count": null,
   "metadata": {},
   "outputs": [],
   "source": [
    "generate_post_activity_time_and_frequency(get_all_ids())"
   ]
  },
  {
   "cell_type": "code",
   "execution_count": null,
   "metadata": {},
   "outputs": [],
   "source": [
    "generate_comments_frequency(get_all_ids())"
   ]
  },
  {
   "cell_type": "code",
   "execution_count": null,
   "metadata": {},
   "outputs": [],
   "source": [
    "generate_num_of_words_of_comments(get_all_ids())"
   ]
  },
  {
   "cell_type": "code",
   "execution_count": null,
   "metadata": {},
   "outputs": [],
   "source": [
    "generate_num_of_words_of_posts(get_all_ids())"
   ]
  },
  {
   "cell_type": "code",
   "execution_count": null,
   "metadata": {},
   "outputs": [],
   "source": [
    "generate_num_of_wor ds_of_own_post_responses(get_all_ids())"
   ]
  },
  {
   "cell_type": "code",
   "execution_count": null,
   "metadata": {},
   "outputs": [],
   "source": [
    "generate_num_of_words_of_received_post_responses(get_all_ids())"
   ]
  },
  {
   "cell_type": "code",
   "execution_count": null,
   "metadata": {},
   "outputs": [],
   "source": [
    "generate_number_of_received_responses_for_users_posts(get_all_ids()[200000:400000])"
   ]
  },
  {
   "cell_type": "code",
   "execution_count": null,
   "metadata": {},
   "outputs": [],
   "source": [
    "conn.close()"
   ]
  },
  {
   "cell_type": "code",
   "execution_count": null,
   "metadata": {},
   "outputs": [],
   "source": []
  },
  {
   "cell_type": "code",
   "execution_count": null,
   "metadata": {},
   "outputs": [],
   "source": []
  },
  {
   "cell_type": "code",
   "execution_count": null,
   "metadata": {},
   "outputs": [],
   "source": []
  },
  {
   "cell_type": "code",
   "execution_count": null,
   "metadata": {},
   "outputs": [],
   "source": []
  },
  {
   "cell_type": "code",
   "execution_count": null,
   "metadata": {},
   "outputs": [],
   "source": []
  },
  {
   "cell_type": "code",
   "execution_count": null,
   "metadata": {},
   "outputs": [],
   "source": []
  },
  {
   "cell_type": "code",
   "execution_count": null,
   "metadata": {},
   "outputs": [],
   "source": []
  },
  {
   "cell_type": "code",
   "execution_count": null,
   "metadata": {},
   "outputs": [],
   "source": []
  },
  {
   "cell_type": "code",
   "execution_count": null,
   "metadata": {},
   "outputs": [],
   "source": []
  },
  {
   "cell_type": "code",
   "execution_count": null,
   "metadata": {},
   "outputs": [],
   "source": []
  },
  {
   "cell_type": "code",
   "execution_count": null,
   "metadata": {},
   "outputs": [],
   "source": []
  },
  {
   "cell_type": "code",
   "execution_count": null,
   "metadata": {},
   "outputs": [],
   "source": []
  },
  {
   "cell_type": "code",
   "execution_count": null,
   "metadata": {},
   "outputs": [],
   "source": []
  },
  {
   "cell_type": "code",
   "execution_count": null,
   "metadata": {},
   "outputs": [],
   "source": []
  },
  {
   "cell_type": "code",
   "execution_count": null,
   "metadata": {},
   "outputs": [],
   "source": []
  },
  {
   "cell_type": "markdown",
   "metadata": {},
   "source": [
    "###                      NOWY KOD"
   ]
  },
  {
   "cell_type": "code",
   "execution_count": null,
   "metadata": {},
   "outputs": [],
   "source": [
    "import psycopg2\n",
    "import pandas as pd\n",
    "import os\n",
    "import itertools\n",
    "import numpy as np\n",
    "\n",
    "conn = psycopg2.connect(\n",
    "    host='localhost',\n",
    "    port=54320,\n",
    "    dbname='my_database',\n",
    "    password='pass',\n",
    "    user='user',\n",
    "    )\n",
    "conn.autocommit = False\n"
   ]
  },
  {
   "cell_type": "code",
   "execution_count": null,
   "metadata": {},
   "outputs": [],
   "source": [
    "import datetime\n",
    "from datetime import timedelta \n",
    "\n",
    "authors = \"authors\"\n",
    "comments = \"comments\"\n",
    "posts = \"posts\"\n",
    "category = \"category\"\n",
    "topics = \"topics\"\n",
    "post_sentiment = \"post_sentiment\"\n",
    "comment_sentiment = \"comment_sentiment\"\n",
    "user_id = 590\n",
    "\n",
    "start_date_comments = datetime.date(2008, 12, 9)\n",
    "end_date_comments = datetime.date(2013,11, 16)\n",
    "# start_date_comments = datetime.date(2011, 12, 24)\n",
    "# end_date_comments = datetime.date(2012, 2, 23)\n",
    "# 2008-12-09 18:41:00 - comments \n",
    "# 2013-11-16 21:35:00 - comments\n",
    "\n",
    "# 2005-12-09 09:50:17 - posts\n",
    "# 2013-11-14 10:13:00 - posts"
   ]
  },
  {
   "cell_type": "code",
   "execution_count": null,
   "metadata": {},
   "outputs": [],
   "source": [
    "df = pd.read_csv(\"FeatureTableCSV.csv\", sep=\";\")"
   ]
  },
  {
   "cell_type": "code",
   "execution_count": null,
   "metadata": {},
   "outputs": [],
   "source": [
    "def get_all_users():\n",
    "    cur = conn.cursor()\n",
    "    query = \"\"\"\n",
    "    SELECT id, name FROM {} order by id\n",
    "    \"\"\".format(authors)\n",
    "    cur.execute(query)\n",
    "    res = cur.fetchall()\n",
    "    conn.commit()\n",
    "    cur.close()\n",
    "    return res"
   ]
  },
  {
   "cell_type": "code",
   "execution_count": null,
   "metadata": {},
   "outputs": [],
   "source": [
    "def get_all_ids():\n",
    "    result = get_all_users()\n",
    "    return [x[0] for x in result]"
   ]
  },
  {
   "cell_type": "code",
   "execution_count": null,
   "metadata": {},
   "outputs": [],
   "source": [
    "def save_data_to_file(folder_name, file_name, data):\n",
    "    try:\n",
    "        # Create target Directory\n",
    "        os.mkdir(folder_name)\n",
    "        print(\"Directory \" , folder_name ,  \" Created \") \n",
    "    except FileExistsError:\n",
    "        e = 1\n",
    "        #print(\"Directory \" , folder_name ,  \" already exists\")\n",
    "    data.to_csv(folder_name + \"/\" + file_name, index=False)"
   ]
  },
  {
   "cell_type": "code",
   "execution_count": null,
   "metadata": {},
   "outputs": [],
   "source": [
    "def clear_none_values(results):\n",
    "    data = []\n",
    "    for res in results:\n",
    "        res = [0 if v is None else v for v in res]\n",
    "        data.append(res)\n",
    "    return data"
   ]
  },
  {
   "cell_type": "code",
   "execution_count": null,
   "metadata": {},
   "outputs": [],
   "source": [
    "start_date = datetime.date(2011, 12, 24)\n",
    "end_date = datetime.date(2012, 2, 23)"
   ]
  },
  {
   "cell_type": "code",
   "execution_count": null,
   "metadata": {},
   "outputs": [],
   "source": [
    "def generate_feature(start_date, end_date, is_clear, feature_function, columns, folder_name):\n",
    "    \n",
    "    while start_date < end_date:\n",
    "        print(start_date)\n",
    "        results = feature_function(start_date, start_date + timedelta(days=28))\n",
    "        res = []\n",
    "        if is_clear:\n",
    "            res = results\n",
    "        else:\n",
    "            res = clear_none_values(results)\n",
    "        data = []\n",
    "        data.extend(res)\n",
    "        df = pd.DataFrame(data, columns = columns )\n",
    "        df['start_date'] = pd.Series(start_date, index=df.index)\n",
    "        df['end_date'] = pd.Series(end_date, index=df.index)\n",
    "        save_data_to_file(folder_name, \"feature_\" + str(start_date) + \".csv\", df)\n",
    "        start_date += timedelta(days=14)"
   ]
  },
  {
   "cell_type": "code",
   "execution_count": null,
   "metadata": {},
   "outputs": [],
   "source": [
    "def get_number_of_users_posts(start_date, end_date):\n",
    "    cur = conn.cursor()\n",
    "    query = \"\"\"\n",
    "    SELECT author_id, COUNT(*) FROM {}\n",
    "    WHERE date between '{}' and '{}'\n",
    "    GROUP BY author_id\n",
    "    ORDER BY author_id\n",
    "    \"\"\".format(posts, start_date, end_date)\n",
    "    cur.execute(query)\n",
    "    res = cur.fetchall()\n",
    "    conn.commit()\n",
    "    cur.close()\n",
    "    return res"
   ]
  },
  {
   "cell_type": "code",
   "execution_count": null,
   "metadata": {},
   "outputs": [],
   "source": [
    "#\"NumberOfUsersPostsWithoutZeros\"\n",
    "folder = \"NumberOfUserPosts\"\n",
    "columns = ['user_id']\n",
    "columns.extend(list(df.loc[df[\"NazwaFolderu\"] == folder][\"NazwaCechy\"]))\n",
    "generate_feature(start_date_comments, end_date_comments, True, get_number_of_users_posts, columns, folder)"
   ]
  },
  {
   "cell_type": "code",
   "execution_count": null,
   "metadata": {},
   "outputs": [],
   "source": [
    "def get_number_of_written_comments_to_other_users(start_date, end_date):\n",
    "    cur = conn.cursor()\n",
    "    query = \"\"\"\n",
    "    SELECT c.author_id, COUNT(*) FROM {} c\n",
    "    JOIN {} p ON p.id = c.post_id AND c.author_id <> p.author_id\n",
    "    WHERE c.date between '{}' and '{}'\n",
    "    GROUP BY c.author_id\n",
    "    ORDER BY c.author_id\n",
    "    \"\"\".format(comments, posts, start_date, end_date)\n",
    "    cur.execute(query)\n",
    "    res = cur.fetchall()\n",
    "    conn.commit()\n",
    "    cur.close()\n",
    "    return res"
   ]
  },
  {
   "cell_type": "code",
   "execution_count": null,
   "metadata": {},
   "outputs": [],
   "source": [
    "folder = \"NumberOfCommentsToOtherUsers\"\n",
    "columns = ['user_id']\n",
    "columns.extend(list(df.loc[df[\"NazwaFolderu\"] == folder][\"NazwaCechy\"]))\n",
    "generate_feature(start_date_comments, end_date_comments, True, get_number_of_written_comments_to_other_users, columns, folder)"
   ]
  },
  {
   "cell_type": "code",
   "execution_count": null,
   "metadata": {},
   "outputs": [],
   "source": [
    "def get_number_of_received_responses_to_users_posts(start_date, end_date):\n",
    "    cur = conn.cursor()\n",
    "    query = \"\"\"\n",
    "    SELECT cs.id, AVG(cs.resp_amount), stddev(cs.resp_amount),\n",
    "    percentile_cont(0.5) WITHIN GROUP (ORDER BY cs.resp_amount),\n",
    "    percentile_cont(0.75) WITHIN GROUP (ORDER BY cs.resp_amount),\n",
    "    MAX(cs.resp_amount), MIN(cs.resp_amount) FROM\n",
    "    (SELECT p.author_id as id, COUNT(*) as resp_amount FROM {} c\n",
    "    JOIN {} p ON p.id = c.post_id AND p.author_id <> c.author_id\n",
    "    WHERE c.date between '{}' and '{}'\n",
    "    GROUP BY p.id, p.author_id) as cs\n",
    "    GROUP BY cs.id\n",
    "    \"\"\".format(comments, posts, start_date, end_date)\n",
    "    cur.execute(query)\n",
    "    res = cur.fetchall()\n",
    "    conn.commit()\n",
    "    cur.close()\n",
    "    return res"
   ]
  },
  {
   "cell_type": "code",
   "execution_count": null,
   "metadata": {},
   "outputs": [],
   "source": [
    "folder = \"NumberOfReceivedResponsesToPost\"\n",
    "columns = ['user_id']\n",
    "columns.extend(list(df.loc[df[\"NazwaFolderu\"] == folder][\"NazwaCechy\"]))\n",
    "generate_feature(start_date_comments, end_date_comments, False, get_number_of_received_responses_to_users_posts, columns, folder)"
   ]
  },
  {
   "cell_type": "code",
   "execution_count": null,
   "metadata": {},
   "outputs": [],
   "source": [
    "def get_number_of_received_unique_users_responses_to_users_posts(start_date, end_date):\n",
    "    cur = conn.cursor()\n",
    "    query = \"\"\"\n",
    "    SELECT cs.id, AVG(cs.resp_amount), stddev(cs.resp_amount),\n",
    "    percentile_cont(0.5) WITHIN GROUP (ORDER BY cs.resp_amount),\n",
    "    percentile_cont(0.75) WITHIN GROUP (ORDER BY cs.resp_amount),\n",
    "    MAX(cs.resp_amount), MIN(cs.resp_amount) FROM\n",
    "    (SELECT p.author_id as id, COUNT(c.author_id ) as resp_amount \n",
    "    FROM {} c JOIN {} p ON p.id = c.post_id \n",
    "    AND p.author_id <> c.author_id \n",
    "    WHERE c.date between '{}' AND '{}' \n",
    "    GROUP BY p.id, p.author_id) as cs\n",
    "    GROUP BY cs.id\n",
    "    \"\"\".format(comments, posts, start_date, end_date)\n",
    "    cur.execute(query)\n",
    "    res = cur.fetchall()\n",
    "    conn.commit()\n",
    "    cur.close()\n",
    "    return res"
   ]
  },
  {
   "cell_type": "code",
   "execution_count": null,
   "metadata": {},
   "outputs": [],
   "source": [
    "folder = \"NumberOfReceivedUniqueUsersResponsesToPost\"\n",
    "columns = ['user_id']\n",
    "columns.extend(list(df.loc[df[\"NazwaFolderu\"] == folder][\"NazwaCechy\"]))\n",
    "generate_feature(start_date_comments, end_date_comments, False, get_number_of_received_unique_users_responses_to_users_posts, columns, folder)"
   ]
  },
  {
   "cell_type": "code",
   "execution_count": null,
   "metadata": {},
   "outputs": [],
   "source": [
    "def get_number_of_all_responses_from_unique_users_in_slot(start_date, end_date):\n",
    "    cur = conn.cursor()\n",
    "    query = \"\"\"\n",
    "    SELECT p.author_id as id, COUNT(c.author_id ) as resp_amount \n",
    "    FROM {} c JOIN {} p ON p.id = c.post_id \n",
    "    AND p.author_id <> c.author_id \n",
    "    WHERE c.date between '{}' AND '{}' \n",
    "    GROUP BY p.author_id\n",
    "    \"\"\".format(comments, posts, start_date, end_date)\n",
    "    cur.execute(query)\n",
    "    res = cur.fetchall()\n",
    "    conn.commit()\n",
    "    cur.close()\n",
    "    return res"
   ]
  },
  {
   "cell_type": "code",
   "execution_count": null,
   "metadata": {},
   "outputs": [],
   "source": [
    "folder = \"NumberOfAllResponsesFromUniqueUsersInSlot\"\n",
    "columns = ['user_id']\n",
    "columns.extend(list(df.loc[df[\"NazwaFolderu\"] == folder][\"NazwaCechy\"]))\n",
    "generate_feature(start_date_comments, end_date_comments, False, get_number_of_all_responses_from_unique_users_in_slot, columns, folder)"
   ]
  },
  {
   "cell_type": "code",
   "execution_count": null,
   "metadata": {},
   "outputs": [],
   "source": []
  },
  {
   "cell_type": "code",
   "execution_count": null,
   "metadata": {},
   "outputs": [],
   "source": [
    "def get_number_of_comments_written_by_user_under_his_own_posts(start_date, end_date):\n",
    "    cur = conn.cursor()\n",
    "    query = \"\"\"\n",
    "    SELECT cs.id, AVG(cs.resp_amount), stddev(cs.resp_amount),\n",
    "    percentile_cont(0.5) WITHIN GROUP (ORDER BY cs.resp_amount),\n",
    "    percentile_cont(0.75) WITHIN GROUP (ORDER BY cs.resp_amount),\n",
    "    MAX(cs.resp_amount), MIN(cs.resp_amount) FROM\n",
    "    (SELECT p.author_id as id, COUNT(*) as resp_amount FROM {} c\n",
    "    JOIN {} p ON p.id = c.post_id AND p.author_id = c.author_id\n",
    "    WHERE c.date between '{}' and '{}'\n",
    "    GROUP BY p.id, p.author_id) as cs\n",
    "    GROUP BY cs.id\n",
    "    \"\"\".format(comments, posts, start_date, end_date)\n",
    "    cur.execute(query)\n",
    "    res = cur.fetchall()\n",
    "    conn.commit()\n",
    "    cur.close()\n",
    "    return res"
   ]
  },
  {
   "cell_type": "code",
   "execution_count": null,
   "metadata": {},
   "outputs": [],
   "source": [
    "folder = \"NumberOfOwnResponsesToPost\"\n",
    "columns = ['user_id']\n",
    "columns.extend(list(df.loc[df[\"NazwaFolderu\"] == folder][\"NazwaCechy\"]))\n",
    "generate_feature(start_date_comments, end_date_comments, False, get_number_of_comments_written_by_user_under_his_own_posts, columns, folder)"
   ]
  },
  {
   "cell_type": "code",
   "execution_count": null,
   "metadata": {},
   "outputs": [],
   "source": []
  },
  {
   "cell_type": "code",
   "execution_count": null,
   "metadata": {},
   "outputs": [],
   "source": [
    "def get_number_of_received_responses_under_users_comments(start_date, end_date):\n",
    "    cur = conn.cursor()\n",
    "    query = \"\"\"\n",
    "    SELECT aggregate.id, AVG(aggregate.resp_amount), stddev(aggregate.resp_amount),\n",
    "    percentile_cont(0.5) WITHIN GROUP (ORDER BY aggregate.resp_amount),\n",
    "    percentile_cont(0.75) WITHIN GROUP (ORDER BY aggregate.resp_amount),\n",
    "    MAX(aggregate.resp_amount), MIN(aggregate.resp_amount) FROM\n",
    "    (SELECT parent_comments.author_id as id, COUNT(*) as resp_amount FROM {} parent_comments\n",
    "    JOIN {} children_comments ON parent_comments.id = children_comments.parentcomment_id AND parent_comments.author_id <> children_comments.author_id\n",
    "    WHERE children_comments.date between '{}' and '{}'\n",
    "    GROUP BY parent_comments.id, parent_comments.author_id) as aggregate\n",
    "    GROUP BY aggregate.id\n",
    "    \"\"\".format(comments, comments, start_date, end_date)\n",
    "    cur.execute(query)\n",
    "    res = cur.fetchall()\n",
    "    conn.commit()\n",
    "    cur.close()\n",
    "    return res"
   ]
  },
  {
   "cell_type": "code",
   "execution_count": null,
   "metadata": {},
   "outputs": [],
   "source": [
    "list(df.loc[df[\"NazwaFolderu\"] == folder][\"NazwaCechy\"])"
   ]
  },
  {
   "cell_type": "code",
   "execution_count": null,
   "metadata": {},
   "outputs": [],
   "source": [
    "folder = \"NumberOfReceivedResponsesUnderComments\"\n",
    "columns = ['user_id']\n",
    "columns.extend(list(df.loc[df[\"NazwaFolderu\"] == folder][\"NazwaCechy\"]))\n",
    "generate_feature(start_date_comments, end_date_comments, False, get_number_of_received_responses_under_users_comments, columns, folder)"
   ]
  },
  {
   "cell_type": "code",
   "execution_count": null,
   "metadata": {},
   "outputs": [],
   "source": [
    "def get_num_of_words_of_comments(start_date, end_date):\n",
    "    cur = conn.cursor()\n",
    "    query = \"\"\"\n",
    "    SELECT cs.id, AVG(cs.len), stddev(cs.len),\n",
    "                       percentile_cont(0.5) WITHIN GROUP (ORDER BY cs.len), \n",
    "                       percentile_cont(0.75) WITHIN GROUP (ORDER BY cs.len),\n",
    "                       MAX(cs.len), MIN(cs.len) FROM\n",
    "                       (SELECT c.author_id as id, array_length(regexp_split_to_array(c.content, \\'\\s\\'),1) as len FROM {} c \n",
    "                       JOIN {} p ON p.id = c.post_id and c.author_id <> p.author_id\n",
    "                       WHERE c.date between '{}' and '{}') as cs\n",
    "                       GROUP BY cs.id\n",
    "    \"\"\".format(comments, posts, start_date, end_date)\n",
    "    cur.execute(query)\n",
    "    result = cur.fetchall()\n",
    "    conn.commit()\n",
    "    cur.close()\n",
    "    return result"
   ]
  },
  {
   "cell_type": "code",
   "execution_count": null,
   "metadata": {},
   "outputs": [],
   "source": [
    "folder = \"NumberOfWordsInUserComments\"\n",
    "columns = ['user_id']\n",
    "columns.extend(list(df.loc[df[\"NazwaFolderu\"] == folder][\"NazwaCechy\"]))\n",
    "generate_feature(start_date_comments, end_date_comments, False, get_num_of_words_of_comments, columns, folder)"
   ]
  },
  {
   "cell_type": "code",
   "execution_count": null,
   "metadata": {},
   "outputs": [],
   "source": [
    "def get_num_of_words_of_posts(start_date, end_date):\n",
    "    cur = conn.cursor()\n",
    "    query = \"\"\"\n",
    "    SELECT author_id, AVG(array_length(regexp_split_to_array(content, \\'\\s\\'),1)),\n",
    "                       stddev(array_length(regexp_split_to_array(content, \\'\\s\\'),1)),\n",
    "                       percentile_cont(0.5) WITHIN GROUP (ORDER BY array_length(regexp_split_to_array(content, \\'\\s\\'),1)),\n",
    "                       percentile_cont(0.75) WITHIN GROUP (ORDER BY array_length(regexp_split_to_array(content, \\'\\s\\'),1)),\n",
    "                       MAX(array_length(regexp_split_to_array(content, \\'\\s\\'),1)),\n",
    "                       MIN(array_length(regexp_split_to_array(content, \\'\\s\\'),1))\n",
    "                       FROM {} WHERE date between '{}' and '{}'\n",
    "                       GROUP BY author_id\n",
    "    \"\"\".format(posts, start_date, end_date)\n",
    "    cur.execute(query)\n",
    "    result = cur.fetchall()\n",
    "    conn.commit()\n",
    "    cur.close()\n",
    "    return result"
   ]
  },
  {
   "cell_type": "code",
   "execution_count": null,
   "metadata": {},
   "outputs": [],
   "source": [
    "folder = \"NumberOfWordsInUserPosts\"\n",
    "columns = ['user_id']\n",
    "columns.extend(list(df.loc[df[\"NazwaFolderu\"] == folder][\"NazwaCechy\"]))\n",
    "generate_feature(start_date_comments, end_date_comments, False, get_num_of_words_of_posts, columns, folder)"
   ]
  },
  {
   "cell_type": "code",
   "execution_count": null,
   "metadata": {},
   "outputs": [],
   "source": [
    "def get_num_of_words_of_received_post_responses(start_date, end_date):\n",
    "    cur = conn.cursor()\n",
    "    query = \"\"\"\n",
    "    SELECT cs.id, AVG(cs.len), stddev(cs.len),\n",
    "                       percentile_cont(0.5) WITHIN GROUP (ORDER BY cs.len),\n",
    "                       percentile_cont(0.75) WITHIN GROUP (ORDER BY cs.len),\n",
    "                       MAX(cs.len), MIN(cs.len) FROM\n",
    "                       (SELECT p.author_id as id, array_length(regexp_split_to_array(c.content, \\'\\s\\'),1) as len FROM {} c\n",
    "                       JOIN {} p ON p.id = c.post_id AND p.author_id <> c.author_id\n",
    "                       WHERE c.date between '{}' and '{}') as cs\n",
    "                       GROUP BY cs.id\n",
    "    \"\"\".format(comments, posts, start_date, end_date)\n",
    "    cur.execute(query)\n",
    "    result = cur.fetchall()\n",
    "    conn.commit()\n",
    "    cur.close()\n",
    "    return result"
   ]
  },
  {
   "cell_type": "code",
   "execution_count": null,
   "metadata": {},
   "outputs": [],
   "source": [
    "folder = \"NumberOfWordsInResponsesToUserPosts\"\n",
    "columns = ['user_id']\n",
    "columns.extend(list(df.loc[df[\"NazwaFolderu\"] == folder][\"NazwaCechy\"]))\n",
    "generate_feature(start_date_comments, end_date_comments, False, get_num_of_words_of_received_post_responses, columns, folder)"
   ]
  },
  {
   "cell_type": "code",
   "execution_count": null,
   "metadata": {},
   "outputs": [],
   "source": [
    "def get_num_of_words_of_own_post_responses(start_date, end_date):\n",
    "    cur = conn.cursor()\n",
    "    query = \"\"\"\n",
    "    SELECT cs.id, AVG(cs.len), stddev(cs.len),\n",
    "                       percentile_cont(0.5) WITHIN GROUP (ORDER BY cs.len),\n",
    "                       percentile_cont(0.75) WITHIN GROUP (ORDER BY cs.len),\n",
    "                       MAX(cs.len), MIN(cs.len) FROM\n",
    "                       (SELECT p.author_id as id, array_length(regexp_split_to_array(c.content, \\'\\s\\'),1) as len FROM {} c\n",
    "                       JOIN {} p ON p.id = c.post_id AND p.author_id = c.author_id\n",
    "                       WHERE c.date between '{}' and '{}') as cs\n",
    "                       GROUP BY cs.id\n",
    "    \"\"\".format(comments, posts, start_date, end_date)\n",
    "    cur.execute(query)\n",
    "    result = cur.fetchall()\n",
    "    conn.commit()\n",
    "    cur.close()\n",
    "    return result"
   ]
  },
  {
   "cell_type": "code",
   "execution_count": null,
   "metadata": {},
   "outputs": [],
   "source": [
    "folder = \"NumberOfWordsInOwnPostResponses\"\n",
    "columns = ['user_id']\n",
    "columns.extend(list(df.loc[df[\"NazwaFolderu\"] == folder][\"NazwaCechy\"]))\n",
    "generate_feature(start_date_comments, end_date_comments, False, get_num_of_words_of_own_post_responses, columns, folder)"
   ]
  },
  {
   "cell_type": "code",
   "execution_count": null,
   "metadata": {},
   "outputs": [],
   "source": []
  },
  {
   "cell_type": "code",
   "execution_count": null,
   "metadata": {},
   "outputs": [],
   "source": [
    "def get_user_posts_sentiment_info(start_date, end_date):\n",
    "    cur = conn.cursor()\n",
    "    query = \"\"\"SELECT p.author_id, AVG(ps.compound), stddev(ps.compound),\n",
    "                       percentile_cont(0.5) WITHIN GROUP (ORDER BY ps.compound),\n",
    "                       percentile_cont(0.75) WITHIN GROUP (ORDER BY ps.compound),\n",
    "                       MAX(ps.compound), MIN(ps.compound)\n",
    "                       FROM {} ps JOIN {} p ON ps.id = p.id \n",
    "                       WHERE p.date between '{}' and '{}'\n",
    "                       GROUP BY p.author_id\n",
    "    \"\"\".format(post_sentiment, posts, start_date, end_date)\n",
    "    cur.execute(query)\n",
    "    result = cur.fetchall()\n",
    "    conn.commit()\n",
    "    cur.close()\n",
    "    return result\n"
   ]
  },
  {
   "cell_type": "code",
   "execution_count": null,
   "metadata": {},
   "outputs": [],
   "source": [
    "res = get_user_posts_sentiment_info(start_date, end_date)\n",
    "print(res[:10])"
   ]
  },
  {
   "cell_type": "code",
   "execution_count": null,
   "metadata": {},
   "outputs": [],
   "source": [
    "folder = \"PostSentiment\"\n",
    "columns = ['user_id']\n",
    "columns.extend(list(df.loc[df[\"NazwaFolderu\"] == folder][\"NazwaCechy\"]))\n",
    "generate_feature(start_date_comments, end_date_comments, False, get_user_posts_sentiment_info, columns, folder)"
   ]
  },
  {
   "cell_type": "code",
   "execution_count": null,
   "metadata": {},
   "outputs": [],
   "source": [
    "def get_user_comments_sentiment_info(start_date, end_date):\n",
    "    cur = conn.cursor()\n",
    "    query = \"\"\"SELECT c.author_id, AVG(cs.compound), stddev(cs.compound),\n",
    "                       percentile_cont(0.5) WITHIN GROUP (ORDER BY cs.compound),\n",
    "                       percentile_cont(0.75) WITHIN GROUP (ORDER BY cs.compound),\n",
    "                       MAX(cs.compound), MIN(cs.compound)\n",
    "                       FROM {} cs JOIN {} c ON cs.id = c.id \n",
    "                       WHERE c.date between '{}' and '{}'\n",
    "                       GROUP BY c.author_id\n",
    "    \"\"\".format(comment_sentiment, comments, start_date, end_date)\n",
    "    cur.execute(query)\n",
    "    result = cur.fetchall()\n",
    "    conn.commit()\n",
    "    cur.close()\n",
    "    return result"
   ]
  },
  {
   "cell_type": "code",
   "execution_count": null,
   "metadata": {},
   "outputs": [],
   "source": [
    "res = get_user_comments_sentiment_info(start_date, end_date)\n",
    "print(res[:10])"
   ]
  },
  {
   "cell_type": "code",
   "execution_count": null,
   "metadata": {},
   "outputs": [],
   "source": [
    "folder = \"CommentSentiment\"\n",
    "columns = ['user_id']\n",
    "columns.extend(list(df.loc[df[\"NazwaFolderu\"] == folder][\"NazwaCechy\"]))\n",
    "generate_feature(start_date_comments, end_date_comments, False, get_user_comments_sentiment_info, columns, folder)"
   ]
  },
  {
   "cell_type": "code",
   "execution_count": null,
   "metadata": {},
   "outputs": [],
   "source": []
  },
  {
   "cell_type": "code",
   "execution_count": null,
   "metadata": {},
   "outputs": [],
   "source": [
    "def get_user_sentiment_info_received_comments(start_date, end_date):\n",
    "    cur = conn.cursor()\n",
    "    query = \"\"\"SELECT p.author_id, AVG(compound), stddev(compound),\n",
    "                    percentile_cont(0.5) WITHIN GROUP (ORDER BY compound),\n",
    "                    percentile_cont(0.75) WITHIN GROUP (ORDER BY compound),\n",
    "                    MAX(compound), MIN(compound)\n",
    "                    FROM {} cs\n",
    "                    JOIN {} c ON c.id = cs.id\n",
    "                    JOIN {} p ON p.id = c.post_id and c.author_id <> p.author_id\n",
    "                    WHERE c.date between '{}' and '{}'\n",
    "                    GROUP BY p.author_id\n",
    "    \"\"\".format(comment_sentiment, comments, posts, start_date, end_date)\n",
    "    cur.execute(query)\n",
    "    result = cur.fetchall()\n",
    "    conn.commit()\n",
    "    cur.close()\n",
    "    return result"
   ]
  },
  {
   "cell_type": "code",
   "execution_count": null,
   "metadata": {},
   "outputs": [],
   "source": [
    "res = get_user_sentiment_info_received_comments(start_date, end_date)\n",
    "print(res[:10])"
   ]
  },
  {
   "cell_type": "code",
   "execution_count": null,
   "metadata": {},
   "outputs": [],
   "source": [
    "folder = \"ReceivedResponsesSentiment\"\n",
    "columns = ['user_id']\n",
    "columns.extend(list(df.loc[df[\"NazwaFolderu\"] == folder][\"NazwaCechy\"]))\n",
    "generate_feature(start_date_comments, end_date_comments, False, get_user_sentiment_info_received_comments, columns, folder)"
   ]
  },
  {
   "cell_type": "code",
   "execution_count": null,
   "metadata": {},
   "outputs": [],
   "source": []
  },
  {
   "cell_type": "code",
   "execution_count": null,
   "metadata": {},
   "outputs": [],
   "source": [
    "def q75(x):\n",
    "    return x.quantile(0.75)"
   ]
  },
  {
   "cell_type": "code",
   "execution_count": null,
   "metadata": {},
   "outputs": [],
   "source": [
    "def generate_frequency_feature(start_date, end_date, feature_frequency_function, columns, final_columns, folder_name):\n",
    "    \n",
    "    while start_date < end_date:\n",
    "        print(start_date)\n",
    "        temp_end_date = start_date + timedelta(days=28)\n",
    "        temp_start_date = start_date\n",
    "        dates = []\n",
    "        while temp_start_date < temp_end_date:\n",
    "            results = feature_frequency_function(start_date, temp_end_date, temp_start_date, temp_start_date + timedelta(days=7))\n",
    "            \n",
    "            data = []\n",
    "            data.extend(results)\n",
    "            df = pd.DataFrame(data, columns = columns )\n",
    "            df['start_date'] = pd.Series(temp_start_date, index=df.index)\n",
    "            df['end_date'] = pd.Series(temp_start_date + timedelta(days=7), index=df.index)\n",
    "            \n",
    "            dates.append(df)\n",
    "            temp_start_date += timedelta(days=7)\n",
    "        res = pd.concat(dates, ignore_index=True)\n",
    "        if res.size != 0:\n",
    "            res[columns[1]] = pd.to_numeric(res[columns[1]])\n",
    "#             quartile = res.groupby(['user_id'])[columns[1]].quantile(0.75)\n",
    "            stats_df = (res.groupby('user_id')[columns[1]].agg(('mean', 'std','median', q75, 'max', 'min')).reset_index())\n",
    "#             merged_df = pd.merge(stats_df, quartile, on='user_id')\n",
    "            final_df = stats_df.fillna(0)\n",
    "            final_df.columns = final_columns\n",
    "            save_data_to_file(folder_name, \"feature_\" + str(start_date) + \".csv\", final_df)\n",
    "        else:\n",
    "            empty = pd.DataFrame(data, columns = final_columns )\n",
    "            save_data_to_file(folder_name, \"feature_\" + str(start_date) + \".csv\", empty)\n",
    "        start_date += timedelta(days=14)"
   ]
  },
  {
   "cell_type": "code",
   "execution_count": null,
   "metadata": {},
   "outputs": [],
   "source": [
    "def get_post_frequency(real_starts_date, real_end_date, start_date, end_date, timedelta_days=28):\n",
    "    cur = conn.cursor()\n",
    "    query = \"\"\"\n",
    "    WITH all_users_in_period AS (\n",
    "    SELECT author_id FROM {} WHERE date between '{}' and '{}' \n",
    "    ),\n",
    "    week AS (SELECT author_id as id, COUNT(*) as num FROM {} \n",
    "    WHERE date between '{}' and '{}' \n",
    "    GROUP BY author_id)\n",
    "    \n",
    "    SELECT a.author_id, coalesce(w.num, 0) as num \n",
    "    FROM all_users_in_period a\n",
    "    LEFT JOIN week w ON a.author_id = w.id\n",
    "    \"\"\".format(posts, real_starts_date, real_end_date, posts, start_date, end_date)\n",
    "    cur.execute(query)\n",
    "    res = cur.fetchall()\n",
    "    conn.commit()\n",
    "    cur.close()\n",
    "    return res"
   ]
  },
  {
   "cell_type": "code",
   "execution_count": null,
   "metadata": {},
   "outputs": [],
   "source": [
    "columns = [\"user_id\", \"number_of_posts\"]\n",
    "folder = \"FrequencyOfPosts\"\n",
    "final_columns = ['user_id']\n",
    "final_columns.extend(list(df.loc[df[\"NazwaFolderu\"] == folder][\"NazwaCechy\"]))\n",
    "# final_columns = ['user_id', 'mean_post_frequency', 'std_post_frequency','median_post_frequency','min_post_frequency', 'max_post_frequency', 'q3_post_frequency']\n",
    "generate_frequency_feature(start_date_comments, end_date_comments, get_post_frequency, columns, final_columns, folder)"
   ]
  },
  {
   "cell_type": "code",
   "execution_count": null,
   "metadata": {},
   "outputs": [],
   "source": []
  },
  {
   "cell_type": "code",
   "execution_count": null,
   "metadata": {},
   "outputs": [],
   "source": [
    "# frequency of writting comments\n",
    "# wszyscy uzytkownicy ktorzy commentowali \n",
    "def get_comments_frequency(real_starts_date, real_end_date, start_date, end_date, timedelta_days=7):\n",
    "    cur = conn.cursor()\n",
    "    query = \"\"\"\n",
    "    WITH all_users_in_period AS (\n",
    "    SELECT author_id FROM {} WHERE date between '{}' and '{}'\n",
    "    ),\n",
    "    week AS (SELECT author_id as id, COUNT(*) as num FROM {} \n",
    "    WHERE date between '{}' and '{}' \n",
    "    GROUP BY author_id)\n",
    "    \n",
    "    SELECT a.author_id, coalesce(w.num, 0) as num \n",
    "    FROM all_users_in_period a\n",
    "    LEFT JOIN week w ON a.author_id = w.id\n",
    "    \"\"\".format(comments, real_starts_date, real_end_date,comments, start_date, end_date)\n",
    "    cur.execute(query)\n",
    "    res = cur.fetchall()\n",
    "    conn.commit()\n",
    "    cur.close()\n",
    "    return res\n"
   ]
  },
  {
   "cell_type": "code",
   "execution_count": null,
   "metadata": {},
   "outputs": [],
   "source": [
    "columns = [\"user_id\", \"number_of_comments\"]\n",
    "\n",
    "folder = \"FrequencyOfComments\"\n",
    "final_columns = ['user_id']\n",
    "final_columns.extend(list(df.loc[df[\"NazwaFolderu\"] == folder][\"NazwaCechy\"]))\n",
    "# final_columns = ['user_id', 'mean_comments_frequency', 'std_comments_frequency','median_comments_frequency','min_comments_frequency', 'max_comments_frequency', 'q3_comments_frequency']\n",
    "generate_frequency_feature(start_date_comments, end_date_comments, get_comments_frequency, columns, final_columns, folder)"
   ]
  },
  {
   "cell_type": "code",
   "execution_count": null,
   "metadata": {},
   "outputs": [],
   "source": [
    "def get_post_activity_without_zeros(start_date, end_date):\n",
    "    cur = conn.cursor()\n",
    "    query = \"\"\"\n",
    "    WITH disctinct_months AS (\n",
    "    SELECT DISTINCT author_id, date::date FROM {} WHERE date between '{}' AND '{}'\n",
    "    ) \n",
    "    SELECT author_id as id, count(*) AS post_activity \n",
    "    FROM disctinct_months GROUP BY author_id\n",
    "    \"\"\".format(posts, start_date, end_date)\n",
    "    cur.execute(query)\n",
    "    res = cur.fetchall()\n",
    "    conn.commit()\n",
    "    cur.close()\n",
    "    return res"
   ]
  },
  {
   "cell_type": "code",
   "execution_count": null,
   "metadata": {},
   "outputs": [],
   "source": []
  },
  {
   "cell_type": "code",
   "execution_count": null,
   "metadata": {},
   "outputs": [],
   "source": [
    "folder = \"PostActivityTime\"\n",
    "columns = ['user_id']\n",
    "columns.extend(list(df.loc[df[\"NazwaFolderu\"] == folder][\"NazwaCechy\"]))\n",
    "generate_feature(start_date_comments, end_date_comments, False, get_post_activity_without_zeros, columns, folder)"
   ]
  },
  {
   "cell_type": "code",
   "execution_count": null,
   "metadata": {},
   "outputs": [],
   "source": []
  },
  {
   "cell_type": "code",
   "execution_count": null,
   "metadata": {},
   "outputs": [],
   "source": []
  },
  {
   "cell_type": "code",
   "execution_count": null,
   "metadata": {},
   "outputs": [],
   "source": []
  },
  {
   "cell_type": "code",
   "execution_count": null,
   "metadata": {},
   "outputs": [],
   "source": []
  },
  {
   "cell_type": "code",
   "execution_count": null,
   "metadata": {},
   "outputs": [],
   "source": []
  },
  {
   "cell_type": "code",
   "execution_count": null,
   "metadata": {},
   "outputs": [],
   "source": [
    "cur = conn.cursor()\n",
    "query = \"\"\"\n",
    "SELECT id, name FROM authors\n",
    "\"\"\".format(posts, start_date, end_date)\n",
    "cur.execute(query)\n",
    "res = cur.fetchall()\n",
    "conn.commit()\n",
    "cur.close()\n",
    "columns = [\"id\",\"name\"]\n",
    "data = []\n",
    "data.extend(res)\n",
    "df = pd.DataFrame(data, columns = columns )\n",
    "save_data_to_file(\"Authors\", \"authors.csv\", df)"
   ]
  },
  {
   "cell_type": "code",
   "execution_count": null,
   "metadata": {},
   "outputs": [],
   "source": []
  },
  {
   "cell_type": "code",
   "execution_count": null,
   "metadata": {},
   "outputs": [],
   "source": []
  },
  {
   "cell_type": "code",
   "execution_count": null,
   "metadata": {},
   "outputs": [],
   "source": []
  },
  {
   "cell_type": "code",
   "execution_count": null,
   "metadata": {},
   "outputs": [],
   "source": []
  },
  {
   "cell_type": "markdown",
   "metadata": {},
   "source": [
    "### with zeros"
   ]
  },
  {
   "cell_type": "code",
   "execution_count": null,
   "metadata": {},
   "outputs": [],
   "source": [
    "def get_number_of_users_posts(start_date, end_date):\n",
    "    cur = conn.cursor()\n",
    "    query = \"\"\"\n",
    "    SELECT id, up.num FROM {} a LEFT JOIN (SELECT author_id, COUNT(*) as num FROM {}\n",
    "    WHERE date between '{}' and '{}'\n",
    "    GROUP BY author_id\n",
    "    ORDER BY author_id) up ON up.author_id = a.id\n",
    "    \"\"\".format(authors, posts, start_date, end_date)\n",
    "    cur.execute(query)\n",
    "    res = cur.fetchall()\n",
    "    conn.commit()\n",
    "    cur.close()\n",
    "    return res"
   ]
  },
  {
   "cell_type": "code",
   "execution_count": null,
   "metadata": {},
   "outputs": [],
   "source": [
    "#\"NumberOfUsersPostsWithoutZeros\"\n",
    "columns = ['user_id', 'number_of_posts']\n",
    "generate_feature(start_date_comments, end_date_comments, False, get_number_of_users_posts, columns, \"NumberOfUsersPosts\")"
   ]
  },
  {
   "cell_type": "code",
   "execution_count": null,
   "metadata": {},
   "outputs": [],
   "source": [
    "def get_number_of_written_comments_to_other_users(start_date, end_date):\n",
    "    cur = conn.cursor()\n",
    "    query = \"\"\"\n",
    "    SELECT a.id, q.num FROM {} a LEFT JOIN \n",
    "    (SELECT c.author_id, COUNT(*) as num FROM {} c\n",
    "    JOIN {} p ON p.id = c.post_id AND c.author_id <> p.author_id\n",
    "    WHERE c.date between '{}' and '{}'\n",
    "    GROUP BY c.author_id\n",
    "    ORDER BY c.author_id) q ON q.author_id = a.id\n",
    "    \"\"\".format(authors, comments, posts, start_date, end_date)\n",
    "    cur.execute(query)\n",
    "    res = cur.fetchall()\n",
    "    conn.commit()\n",
    "    cur.close()\n",
    "    return res"
   ]
  },
  {
   "cell_type": "code",
   "execution_count": null,
   "metadata": {},
   "outputs": [],
   "source": [
    "columns = ['user_id', 'number_of_written_comments_to_other_users_posts']\n",
    "generate_feature(start_date_comments, end_date_comments, False, get_number_of_written_comments_to_other_users, columns, \"NumberOfWrittenCommentsToOtherUsersPosts\")"
   ]
  },
  {
   "cell_type": "code",
   "execution_count": null,
   "metadata": {},
   "outputs": [],
   "source": [
    "def get_number_of_received_responses_to_users_posts(start_date, end_date):\n",
    "    cur = conn.cursor()\n",
    "    query = \"\"\"\n",
    "    SELECT a.id, q.avg, q.std, q.median, q.q3, q.max, q.min FROM {} a LEFT JOIN \n",
    "    (SELECT cs.id, AVG(cs.resp_amount) as avg, stddev(cs.resp_amount) as std,\n",
    "    percentile_cont(0.5) WITHIN GROUP (ORDER BY cs.resp_amount) as median,\n",
    "    percentile_cont(0.75) WITHIN GROUP (ORDER BY cs.resp_amount) as q3,\n",
    "    MAX(cs.resp_amount) as max, MIN(cs.resp_amount) as min FROM\n",
    "    (SELECT p.author_id as id, COUNT(*) as resp_amount FROM {} c\n",
    "    JOIN {} p ON p.id = c.post_id AND p.author_id <> c.author_id\n",
    "    WHERE c.date between '{}' and '{}'\n",
    "    GROUP BY p.id, p.author_id) as cs\n",
    "    GROUP BY cs.id\n",
    "    ) q ON q.id = a.id\n",
    "    \"\"\".format(authors, comments, posts, start_date, end_date)\n",
    "    cur.execute(query)\n",
    "    res = cur.fetchall()\n",
    "    conn.commit()\n",
    "    cur.close()\n",
    "    return res"
   ]
  },
  {
   "cell_type": "code",
   "execution_count": null,
   "metadata": {},
   "outputs": [],
   "source": [
    "columns = ['user_id', 'number_of_received_responses_to_users_posts_avg', 'number_of_received_responses_to_users_posts_std', 'number_of_received_responses_to_users_posts_median', 'number_of_received_responses_to_users_posts_q3', 'number_of_received_responses_to_users_posts_max', 'number_of_received_responses_to_users_posts_min']\n",
    "generate_feature(start_date_comments, end_date_comments, False, get_number_of_received_responses_to_users_posts, columns, \"NumberOfReceivedResponsesToUsersPosts\")"
   ]
  },
  {
   "cell_type": "code",
   "execution_count": null,
   "metadata": {},
   "outputs": [],
   "source": [
    "def get_number_of_comments_written_by_user_under_his_own_posts(start_date, end_date):\n",
    "    cur = conn.cursor()\n",
    "    query = \"\"\"\n",
    "    SELECT a.id, q.avg, q.std, q.median, q.q3, q.max, q.min FROM {} a LEFT JOIN (\n",
    "    SELECT cs.id, AVG(cs.resp_amount) as avg, stddev(cs.resp_amount) as std,\n",
    "    percentile_cont(0.5) WITHIN GROUP (ORDER BY cs.resp_amount) as median,\n",
    "    percentile_cont(0.75) WITHIN GROUP (ORDER BY cs.resp_amount) as q3,\n",
    "    MAX(cs.resp_amount) as max, MIN(cs.resp_amount) as min FROM\n",
    "    (SELECT p.author_id as id, COUNT(*) as resp_amount FROM {} c\n",
    "    JOIN {} p ON p.id = c.post_id AND p.author_id = c.author_id\n",
    "    WHERE c.date between '{}' and '{}'\n",
    "    GROUP BY p.id, p.author_id) as cs\n",
    "    GROUP BY cs.id\n",
    "    ) q ON q.id = a.id\n",
    "    \"\"\".format(authors, comments, posts, start_date, end_date)\n",
    "    cur.execute(query)\n",
    "    res = cur.fetchall()\n",
    "    conn.commit()\n",
    "    cur.close()\n",
    "    return res"
   ]
  },
  {
   "cell_type": "code",
   "execution_count": null,
   "metadata": {},
   "outputs": [],
   "source": [
    "columns = ['user_id', 'number_of_comments_written_by_user_under_his_own_posts_avg', 'number_of_comments_written_by_user_under_his_own_posts_std', 'number_of_comments_written_by_user_under_his_own_posts_median', 'number_of_comments_written_by_user_under_his_own_posts_q3', 'number_of_comments_written_by_user_under_his_own_posts_max', 'number_of_comments_written_by_user_under_his_own_posts_min']\n",
    "generate_feature(start_date_comments, end_date_comments, False, get_number_of_comments_written_by_user_under_his_own_posts, columns, \"NumberOfCommentsWrittenByUserUnderHisOwnPosts\")"
   ]
  },
  {
   "cell_type": "code",
   "execution_count": null,
   "metadata": {},
   "outputs": [],
   "source": [
    "def get_number_of_received_responses_under_users_comments(start_date, end_date):\n",
    "    cur = conn.cursor()\n",
    "    query = \"\"\"\n",
    "    SELECT a.id, q.avg, q.std, q.median, q.q3, q.max, q.min FROM {} a LEFT JOIN (\n",
    "    SELECT cs.id, AVG(cs.resp_amount) as avg, stddev(cs.resp_amount) as std,\n",
    "    percentile_cont(0.5) WITHIN GROUP (ORDER BY cs.resp_amount) as median,\n",
    "    percentile_cont(0.75) WITHIN GROUP (ORDER BY cs.resp_amount) as q3,\n",
    "    MAX(cs.resp_amount) as max, MIN(cs.resp_amount) as min FROM\n",
    "    (SELECT c.author_id as id, COUNT(*) as resp_amount FROM {} c\n",
    "    JOIN {} c2 ON c.parentcomment_id = c2.id AND c2.author_id <> c.author_id\n",
    "    WHERE c.date between '{}' and '{}'\n",
    "    GROUP BY c.parentcomment_id, c.author_id) as cs\n",
    "    GROUP BY cs.id\n",
    "    ) q ON q.id = a.id\n",
    "    \"\"\".format(authors, comments, comments, start_date, end_date)\n",
    "    cur.execute(query)\n",
    "    res = cur.fetchall()\n",
    "    conn.commit()\n",
    "    cur.close()\n",
    "    return res"
   ]
  },
  {
   "cell_type": "code",
   "execution_count": null,
   "metadata": {},
   "outputs": [],
   "source": [
    "columns = ['user_id', 'number_of_received_responses_under_users_comments_avg', 'number_of_received_responses_under_users_comments_std', 'number_of_received_responses_under_users_comments_median', 'number_of_received_responses_under_users_comments_q3', 'number_of_received_responses_under_users_comments_max', 'number_of_received_responses_under_users_comments_min']\n",
    "generate_feature(start_date_comments, end_date_comments, False, get_number_of_received_responses_under_users_comments, columns, \"NumberOfReceivedResponsesUnderUsersComments\")"
   ]
  },
  {
   "cell_type": "code",
   "execution_count": null,
   "metadata": {},
   "outputs": [],
   "source": [
    "def get_num_of_words_of_comments(start_date, end_date):\n",
    "    cur = conn.cursor()\n",
    "    query = \"\"\"\n",
    "    SELECT a.id, q.avg, q.std, q.median, q.q3, q.max, q.min FROM {} a LEFT JOIN (\n",
    "    SELECT cs.id, AVG(cs.len) as avg, stddev(cs.len) as std,\n",
    "                       percentile_cont(0.5) WITHIN GROUP (ORDER BY cs.len) as median, \n",
    "                       percentile_cont(0.75) WITHIN GROUP (ORDER BY cs.len) as q3,\n",
    "                       MAX(cs.len) as max, MIN(cs.len) as min FROM\n",
    "                       (SELECT c.author_id as id, array_length(regexp_split_to_array(c.content, \\'\\s\\'),1) as len FROM {} c \n",
    "                       JOIN {} p ON p.id = c.post_id and c.author_id <> p.author_id\n",
    "                       WHERE c.date between '{}' and '{}') as cs\n",
    "                       GROUP BY cs.id\n",
    "                        ) q ON q.id = a.id\n",
    "    \"\"\".format(authors, comments, posts, start_date, end_date)\n",
    "    cur.execute(query)\n",
    "    result = cur.fetchall()\n",
    "    conn.commit()\n",
    "    cur.close()\n",
    "    return result"
   ]
  },
  {
   "cell_type": "code",
   "execution_count": null,
   "metadata": {},
   "outputs": [],
   "source": [
    "columns = ['user_id', 'number_of_words_in_users_comments_avg', 'number_of_words_in_users_comments_std', 'number_of_words_in_users_comments_median', 'number_of_words_in_users_comments_q3', 'number_of_words_in_users_comments_max', 'number_of_words_in_users_comments_min']\n",
    "generate_feature(start_date_comments, end_date_comments, False, get_num_of_words_of_comments, columns, \"NumberOfWordsInUsersComments\")"
   ]
  },
  {
   "cell_type": "code",
   "execution_count": null,
   "metadata": {},
   "outputs": [],
   "source": [
    "def get_num_of_words_of_posts(start_date, end_date):\n",
    "    cur = conn.cursor()\n",
    "    query = \"\"\"\n",
    "    SELECT a.id, q.avg, q.std, q.median, q.q3, q.max, q.min FROM {} a LEFT JOIN (\n",
    "    SELECT author_id as id, AVG(array_length(regexp_split_to_array(content, \\'\\s\\'),1)) as avg,\n",
    "                       stddev(array_length(regexp_split_to_array(content, \\'\\s\\'),1)) as std,\n",
    "                       percentile_cont(0.5) WITHIN GROUP (ORDER BY array_length(regexp_split_to_array(content, \\'\\s\\'),1)) as median,\n",
    "                       percentile_cont(0.75) WITHIN GROUP (ORDER BY array_length(regexp_split_to_array(content, \\'\\s\\'),1)) as q3,\n",
    "                       MAX(array_length(regexp_split_to_array(content, \\'\\s\\'),1)) as max,\n",
    "                       MIN(array_length(regexp_split_to_array(content, \\'\\s\\'),1)) as min\n",
    "                       FROM {} WHERE date between '{}' and '{}'\n",
    "                       GROUP BY author_id\n",
    "                       ) q ON q.id = a.id\n",
    "    \"\"\".format(authors, posts, start_date, end_date)\n",
    "    cur.execute(query)\n",
    "    result = cur.fetchall()\n",
    "    conn.commit()\n",
    "    cur.close()\n",
    "    return result"
   ]
  },
  {
   "cell_type": "code",
   "execution_count": null,
   "metadata": {},
   "outputs": [],
   "source": [
    "columns = ['user_id', 'number_of_words_in_users_posts_avg', 'number_of_words_in_users_posts_std', 'number_of_words_in_users_posts_median', 'number_of_words_in_users_posts_q3', 'number_of_words_in_users_posts_max', 'number_of_words_in_users_posts_min']\n",
    "generate_feature(start_date_comments, end_date_comments, False, get_num_of_words_of_posts, columns, \"NumberOfWordsInUsersPosts\")"
   ]
  },
  {
   "cell_type": "code",
   "execution_count": null,
   "metadata": {},
   "outputs": [],
   "source": [
    "def get_num_of_words_of_received_post_responses(start_date, end_date):\n",
    "    cur = conn.cursor()\n",
    "    query = \"\"\"\n",
    "    SELECT a.id, q.avg, q.std, q.median, q.q3, q.max, q.min FROM {} a LEFT JOIN (\n",
    "    SELECT cs.id, AVG(cs.len) as avg, stddev(cs.len) as std,\n",
    "                       percentile_cont(0.5) WITHIN GROUP (ORDER BY cs.len) as median,\n",
    "                       percentile_cont(0.75) WITHIN GROUP (ORDER BY cs.len) as q3,\n",
    "                       MAX(cs.len) as max, MIN(cs.len) as min FROM\n",
    "                       (SELECT p.author_id as id, array_length(regexp_split_to_array(c.content, \\'\\s\\'),1) as len FROM {} c\n",
    "                       JOIN {} p ON p.id = c.post_id AND p.author_id <> c.author_id\n",
    "                       WHERE c.date between '{}' and '{}') as cs\n",
    "                       GROUP BY cs.id\n",
    "                       ) q ON q.id = a.id\n",
    "    \"\"\".format(authors, comments, posts, start_date, end_date)\n",
    "    cur.execute(query)\n",
    "    result = cur.fetchall()\n",
    "    conn.commit()\n",
    "    cur.close()\n",
    "    return result"
   ]
  },
  {
   "cell_type": "code",
   "execution_count": null,
   "metadata": {},
   "outputs": [],
   "source": [
    "columns = ['user_id', 'number_of_words_in_responses_of_users_posts_avg', 'number_of_words_in_responses_of_users_posts_std', 'nnumber_of_words_in_responses_of_users_posts_median', 'number_of_words_in_responses_of_users_posts_q3', 'number_of_words_in_responses_of_users_posts_max', 'number_of_words_in_responses_of_users_posts_min']\n",
    "generate_feature(start_date_comments, end_date_comments, False, get_num_of_words_of_received_post_responses, columns, \"NumberOfWordsInResponsesOfUsersPosts\")"
   ]
  },
  {
   "cell_type": "code",
   "execution_count": null,
   "metadata": {},
   "outputs": [],
   "source": [
    "def get_num_of_words_of_own_post_responses(start_date, end_date):\n",
    "    cur = conn.cursor()\n",
    "    query = \"\"\"\n",
    "    SELECT a.id, q.avg, q.std, q.median, q.q3, q.max, q.min FROM {} a LEFT JOIN (\n",
    "    SELECT cs.id, AVG(cs.len) as avg, stddev(cs.len) as std,\n",
    "                       percentile_cont(0.5) WITHIN GROUP (ORDER BY cs.len) as median,\n",
    "                       percentile_cont(0.75) WITHIN GROUP (ORDER BY cs.len) as q3,\n",
    "                       MAX(cs.len) as max, MIN(cs.len) as min FROM\n",
    "                       (SELECT p.author_id as id, array_length(regexp_split_to_array(c.content, \\'\\s\\'),1) as len FROM {} c\n",
    "                       JOIN {} p ON p.id = c.post_id AND p.author_id = c.author_id\n",
    "                       WHERE c.date between '{}' and '{}') as cs\n",
    "                       GROUP BY cs.id\n",
    "                       ) q ON q.id = a.id\n",
    "    \"\"\".format(authors, comments, posts, start_date, end_date)\n",
    "    cur.execute(query)\n",
    "    result = cur.fetchall()\n",
    "    conn.commit()\n",
    "    cur.close()\n",
    "    return result"
   ]
  },
  {
   "cell_type": "code",
   "execution_count": null,
   "metadata": {},
   "outputs": [],
   "source": [
    "columns = ['user_id', 'number_of_words_in_own_responses_of_users_posts_avg', 'number_of_words_in_own_responses_of_users_posts_std', 'number_of_words_in_own_responses_of_users_posts_median', 'number_of_words_in_own_responses_of_users_posts_q3', 'number_of_words_in_own_responses_of_users_posts_max', 'number_of_words_in_own_responses_of_users_posts_min']\n",
    "generate_feature(start_date_comments, end_date_comments, False, get_num_of_words_of_own_post_responses, columns, \"NumberOfWordsInOwnResponsesOfUsersPosts\")"
   ]
  },
  {
   "cell_type": "code",
   "execution_count": null,
   "metadata": {},
   "outputs": [],
   "source": [
    "def get_user_posts_sentiment_info(start_date, end_date):\n",
    "    cur = conn.cursor()\n",
    "    query = \"\"\"\n",
    "    SELECT a.id, q.avg, q.std, q.median, q.q3, q.max, q.min FROM {} a LEFT JOIN (\n",
    "    SELECT p.author_id as id, AVG(ps.compound) as avg, stddev(ps.compound) as std,\n",
    "                       percentile_cont(0.5) WITHIN GROUP (ORDER BY ps.compound) as median,\n",
    "                       percentile_cont(0.75) WITHIN GROUP (ORDER BY ps.compound) as q3,\n",
    "                       MAX(ps.compound) as max, MIN(ps.compound) as min\n",
    "                       FROM {} ps JOIN {} p ON ps.id = p.id \n",
    "                       WHERE p.date between '{}' and '{}'\n",
    "                       GROUP BY p.author_id\n",
    "                       ) q ON q.id = a.id\n",
    "    \"\"\".format(authors, post_sentiment, posts, start_date, end_date)\n",
    "    cur.execute(query)\n",
    "    result = cur.fetchall()\n",
    "    conn.commit()\n",
    "    cur.close()\n",
    "    return result"
   ]
  },
  {
   "cell_type": "code",
   "execution_count": null,
   "metadata": {},
   "outputs": [],
   "source": [
    "columns = ['user_id', 'posts_sentiment_avg', 'posts_sentiment_stddev', 'posts_sentiment_median', 'posts_sentiment_q3', 'posts_sentiment_max', 'posts_sentiment_min']\n",
    "generate_feature(start_date_comments, end_date_comments, False, get_user_posts_sentiment_info, columns, \"SentimentOfUsersPosts\")"
   ]
  },
  {
   "cell_type": "code",
   "execution_count": null,
   "metadata": {},
   "outputs": [],
   "source": [
    "def get_user_comments_sentiment_info(start_date, end_date):\n",
    "    cur = conn.cursor()\n",
    "    query = \"\"\"\n",
    "    SELECT a.id, q.avg, q.std, q.median, q.q3, q.max, q.min FROM {} a LEFT JOIN (\n",
    "    SELECT c.author_id as id, AVG(cs.compound) as avg, stddev(cs.compound) as std,\n",
    "                       percentile_cont(0.5) WITHIN GROUP (ORDER BY cs.compound) as median,\n",
    "                       percentile_cont(0.75) WITHIN GROUP (ORDER BY cs.compound) as q3,\n",
    "                       MAX(cs.compound) as max, MIN(cs.compound) as min\n",
    "                       FROM {} cs JOIN {} c ON cs.id = c.id \n",
    "                       WHERE c.date between '{}' and '{}'\n",
    "                       GROUP BY c.author_id\n",
    "                       ) q ON q.id = a.id\n",
    "    \"\"\".format(authors, comment_sentiment, comments, start_date, end_date)\n",
    "    cur.execute(query)\n",
    "    result = cur.fetchall()\n",
    "    conn.commit()\n",
    "    cur.close()\n",
    "    return result"
   ]
  },
  {
   "cell_type": "code",
   "execution_count": null,
   "metadata": {},
   "outputs": [],
   "source": [
    "columns = ['user_id', 'comments_sentiment_avg', 'comments_sentiment_stddev', 'comments_sentiment_median', 'comments_sentiment_q3', 'comments_sentiment_max', 'comments_sentiment_min']\n",
    "generate_feature(start_date_comments, end_date_comments, False, get_user_comments_sentiment_info, columns, \"SentimentOfUsersComments\")"
   ]
  },
  {
   "cell_type": "code",
   "execution_count": null,
   "metadata": {},
   "outputs": [],
   "source": []
  },
  {
   "cell_type": "code",
   "execution_count": null,
   "metadata": {},
   "outputs": [],
   "source": [
    "def get_user_sentiment_info_received_comments(start_date, end_date):\n",
    "    cur = conn.cursor()\n",
    "    query = \"\"\"\n",
    "    SELECT a.id, q.avg, q.std, q.median, q.q3, q.max, q.min FROM {} a LEFT JOIN (\n",
    "    SELECT p.author_id as id, AVG(compound) as avg, stddev(compound) as std,\n",
    "                    percentile_cont(0.5) WITHIN GROUP (ORDER BY compound) as median,\n",
    "                    percentile_cont(0.75) WITHIN GROUP (ORDER BY compound) as q3,\n",
    "                    MAX(compound) as max, MIN(compound) as min\n",
    "                    FROM {} cs\n",
    "                    JOIN {} c ON c.id = cs.id\n",
    "                    JOIN {} p ON p.id = c.post_id and c.author_id <> p.author_id\n",
    "                    WHERE c.date between '{}' and '{}'\n",
    "                    GROUP BY p.author_id\n",
    "                    ) q ON q.id = a.id\n",
    "    \"\"\".format(authors, comment_sentiment, comments, posts, start_date, end_date)\n",
    "    cur.execute(query)\n",
    "    result = cur.fetchall()\n",
    "    conn.commit()\n",
    "    cur.close()\n",
    "    return result"
   ]
  },
  {
   "cell_type": "code",
   "execution_count": null,
   "metadata": {},
   "outputs": [],
   "source": [
    "columns = ['user_id', 'received_comments_sentiment_avg', 'received_comments_sentiment_stddev', 'received_comments_sentiment__median', 'received_comments_sentiment_q3', 'received_comments_sentiment_max', 'received_comments_sentiment_min']\n",
    "generate_feature(start_date_comments, end_date_comments, False, get_user_sentiment_info_received_comments, columns, \"SentimentOfUsersResponsesToUserPosts\")"
   ]
  },
  {
   "cell_type": "code",
   "execution_count": null,
   "metadata": {},
   "outputs": [],
   "source": [
    "def generate_frequency_feature(start_date, end_date, feature_frequency_function, columns, final_columns, folder_name):\n",
    "    \n",
    "    while start_date < end_date:\n",
    "        print(start_date)\n",
    "        temp_end_date = start_date + timedelta(days=28)\n",
    "        temp_start_date = start_date\n",
    "        dates = []\n",
    "        while temp_start_date < temp_end_date:\n",
    "            results = feature_frequency_function(temp_start_date, temp_start_date + timedelta(days=7))\n",
    "            results = clear_none_values(results)\n",
    "            data = []\n",
    "            data.extend(results)\n",
    "            df = pd.DataFrame(data, columns = columns )\n",
    "            df['start_date'] = pd.Series(temp_start_date, index=df.index)\n",
    "            df['end_date'] = pd.Series(temp_start_date + timedelta(days=7), index=df.index)\n",
    "            \n",
    "            dates.append(df)\n",
    "            temp_start_date += timedelta(days=7)\n",
    "        res = pd.concat(dates, ignore_index=True)\n",
    "        if res.size != 0:\n",
    "            res[columns[1]] = pd.to_numeric(res[columns[1]])\n",
    "            quartile = res.groupby(['user_id'])[columns[1]].quantile(0.75)\n",
    "            stats_df = (res.groupby('user_id')[columns[1]].agg(('mean', 'std','median', 'min', 'max')).reset_index())\n",
    "            merged_df = pd.merge(stats_df, quartile, on='user_id')\n",
    "            final_df = merged_df.fillna(0)\n",
    "            final_df.columns = final_columns\n",
    "            save_data_to_file(folder_name, \"feature_\" + str(start_date) + \".csv\", final_df)\n",
    "        else:\n",
    "            empty = pd.DataFrame(data, columns = final_columns )\n",
    "            save_data_to_file(folder_name, \"feature_\" + str(start_date) + \".csv\", empty)\n",
    "        start_date += timedelta(days=14)"
   ]
  },
  {
   "cell_type": "code",
   "execution_count": null,
   "metadata": {},
   "outputs": [],
   "source": [
    "def get_post_activity_time_and_frequency(start_date, end_date, timedelta_days=7):\n",
    "    cur = conn.cursor()\n",
    "    query = \"\"\"\n",
    "    SELECT a.id, q.num FROM {} a LEFT JOIN (\n",
    "    SELECT author_id as id, COUNT(*) as num FROM {} \n",
    "                    WHERE date between '{}' and '{}' \n",
    "                    GROUP BY author_id\n",
    "                    ) q ON q.id = a.id\n",
    "    \"\"\".format(authors, posts, start_date, end_date)\n",
    "    cur.execute(query)\n",
    "    res = cur.fetchall()\n",
    "    conn.commit()\n",
    "    cur.close()\n",
    "    return res"
   ]
  },
  {
   "cell_type": "code",
   "execution_count": null,
   "metadata": {},
   "outputs": [],
   "source": [
    "columns = [\"user_id\", \"number_of_posts\"]\n",
    "final_columns = ['user_id', 'mean_post_frequency', 'std_post_frequency','median_post_frequency','min_post_frequency', 'max_post_frequency', 'q3_post_frequency']\n",
    "generate_frequency_feature(start_date_comments, end_date_comments, get_post_activity_time_and_frequency, columns, final_columns, \"FrequencyOfUserPosts\")"
   ]
  },
  {
   "cell_type": "code",
   "execution_count": null,
   "metadata": {},
   "outputs": [],
   "source": [
    "# frequency of writting comments\n",
    "def get_comments_frequency(start_date, end_date, timedelta_days=7):\n",
    "    cur = conn.cursor()\n",
    "    query = \"\"\"\n",
    "    SELECT a.id, q.num FROM {} a LEFT JOIN (\n",
    "    SELECT author_id as id, COUNT(*) as num FROM {} \n",
    "                    WHERE date between '{}' and '{}' \n",
    "                    GROUP BY author_id\n",
    "                    ) q ON q.id = a.id\n",
    "    \"\"\".format(authors, comments, start_date, end_date)\n",
    "    cur.execute(query)\n",
    "    res = cur.fetchall()\n",
    "    conn.commit()\n",
    "    cur.close()\n",
    "    return res\n"
   ]
  },
  {
   "cell_type": "code",
   "execution_count": null,
   "metadata": {},
   "outputs": [],
   "source": [
    "columns = [\"user_id\", \"number_of_comments\"]\n",
    "final_columns = ['user_id', 'mean_comments_frequency', 'std_comments_frequency','median_comments_frequency','min_comments_frequency', 'max_comments_frequency', 'q3_comments_frequency']\n",
    "generate_frequency_feature(start_date_comments, end_date_comments, get_comments_frequency, columns, final_columns, \"FrequencyOfUserComments\")"
   ]
  },
  {
   "cell_type": "code",
   "execution_count": null,
   "metadata": {},
   "outputs": [],
   "source": []
  },
  {
   "cell_type": "code",
   "execution_count": null,
   "metadata": {},
   "outputs": [],
   "source": [
    "conn.close()"
   ]
  },
  {
   "cell_type": "code",
   "execution_count": null,
   "metadata": {},
   "outputs": [],
   "source": []
  }
 ],
 "metadata": {
  "kernelspec": {
   "display_name": "Python 3",
   "language": "python",
   "name": "python3"
  },
  "language_info": {
   "codemirror_mode": {
    "name": "ipython",
    "version": 3
   },
   "file_extension": ".py",
   "mimetype": "text/x-python",
   "name": "python",
   "nbconvert_exporter": "python",
   "pygments_lexer": "ipython3",
   "version": "3.7.5"
  }
 },
 "nbformat": 4,
 "nbformat_minor": 2
}
