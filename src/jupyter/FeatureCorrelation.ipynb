{
 "cells": [
  {
   "cell_type": "code",
   "execution_count": null,
   "metadata": {},
   "outputs": [],
   "source": [
    "import pandas as pd\n",
    "import numpy as np\n",
    "import matplotlib.pyplot as plt\n",
    "import math"
   ]
  },
  {
   "cell_type": "code",
   "execution_count": null,
   "metadata": {},
   "outputs": [],
   "source": [
    "import datetime\n",
    "from datetime import timedelta "
   ]
  },
  {
   "cell_type": "markdown",
   "metadata": {},
   "source": [
    "# Wnioski:"
   ]
  },
  {
   "cell_type": "markdown",
   "metadata": {},
   "source": [
    "## 1. Porównanie kwantyli (0.1, 0.25, 0.50, 0.75, 0.90)"
   ]
  },
  {
   "cell_type": "markdown",
   "metadata": {},
   "source": [
    "#### Z porównania kwantyli wynika, że największe odchylenie standardowe dla większości cech ma kwantyl rzedu 0.90\n",
    "#### {'_10.0': 2, '_25.0': 1, '_50.0': 0, '_75.0': 1, '_90.0': 36} - w przypadku 36 cech miał największe odchylenie standardowe\n",
    "#### z wykresów poniżej również widać, że jest on najbardziej zróżnicowany\n",
    "#### nanosząc wartości stddev cech poszczególnych kwantyli widać również że 0.90 ma najwyższe wyniki"
   ]
  },
  {
   "cell_type": "markdown",
   "metadata": {},
   "source": [
    "## 2. Korelacja cech"
   ]
  },
  {
   "cell_type": "markdown",
   "metadata": {},
   "source": [
    "#### W przypadku sprawdzenia korelacji między cechami z wykorzystaniem kwantyla rzędu 0.90 otrzymałem 14 cech\n",
    "\n",
    "\n",
    "\n",
    "DLA 0.90:\n",
    "\n",
    "\n",
    "| Moje                                                         | Klaudii                              |\n",
    "|--------------------------------------------------------------|--------------------------------------|\n",
    "|                'std_post_frequency'                          | posts freq stddev\n",
    "|                'q3_post_frequency',                          | posts freq q3\n",
    "|          'number_of_received_responses_to_users_posts_std',  | received posts responses stddev\n",
    "|'number_of_received_responses_to_users_posts_max',            | received posts responses max\n",
    "| 'number_of_received_responses_under_users_comments_q3',      | received comment responses q3\n",
    "| 'number_of_received_responses_under_users_comments_max',     | received comment responses max\n",
    "| 'number_of_words_in_own_responses_of_users_posts_q3',        | own posts responses word count q3\n",
    "| 'nnumber_of_words_in_responses_of_users_posts_median',       | written comments word count median\n",
    "|--------------------------------------------------------------|---------------------------------------\n",
    "|                   Różnica                                    |              Różnica\n",
    "|--------------------------------------------------------------|---------------------------------------\n",
    "| 'posts_sentiment_min'                                        | own posts responses q3\n",
    "| 'mean_comments_frequency',                                   | written comments number\n",
    "|'number_of_words_in_users_comments_avg',                      | posts number\n",
    "| 'number_of_words_in_users_posts_q3',                         | received posts responses avg\n",
    "|'number_of_received_responses_to_users_posts_q3',             | comments freq q3\n",
    "| 'number_of_comments_written_by_user_under_his_own_posts_q3', | posts activity time\n",
    "|                                                              | posts word count avg\n",
    "|                                                              | received posts responses word count q3\n",
    "\n",
    "\n",
    "DLA 0.1:\n",
    "\n",
    " \n",
    " \n",
    " | Moje                                                        | Klaudii                                      |\n",
    "|--------------------------------------------------------------|----------------------------------------------|\n",
    "|                'std_post_frequency'                          | posts freq stddev\n",
    "|                'q3_post_frequency',                          | posts freq q3\n",
    "|          'number_of_received_responses_to_users_posts_std',  | received posts responses stddev\n",
    "|'number_of_received_responses_to_users_posts_max',            | received posts responses max\n",
    "| 'number_of_words_in_own_responses_of_users_posts_q3',        | own posts responses word count q3\n",
    "|               'post_activity'                                |      posts activity time\n",
    "|               'number_of_posts'                              |      posts number\n",
    "|  'number_of_comments_written_by_user_under_his_own_posts_q3' |      own posts responses q3\n",
    "|   'number_of_words_in_responses_of_users_posts_q3'           |      received posts responses word count q3\n",
    "| 'number_of_received_responses_to_users_posts_q3'             |    received comment responses q3\n",
    "|--------------------------------------------------------------|---------------------------------------\n",
    "|                   Różnica                                    |              Różnica\n",
    "|--------------------------------------------------------------|---------------------------------------\n",
    "|   received_comments_sentiment_q3                             | written comments word count median\n",
    "| posts_sentiment_min                                          | written comments number\n",
    "| 'mean_comments_frequency',                                   | received posts responses avg\n",
    "|'number_of_words_in_users_posts_q3',                          | comments freq q3\n",
    "| 'number_of_words_in_responses_of_users_posts_std',           | written comments word count median\n",
    "|      posts_sentiment_median                                  | posts word count avg\n",
    "|               comments_sentiment_median              | \n",
    "|                 received_comments_sentiment_stddev     | \n",
    "|                                | \n"
   ]
  },
  {
   "cell_type": "markdown",
   "metadata": {},
   "source": [
    "# CZĘŚĆ Z KODEM (Macierz korelacji oraz wykresy)"
   ]
  },
  {
   "cell_type": "markdown",
   "metadata": {},
   "source": [
    "### Sprawdzenie korelacji między cechami i wybranie najlepszych cech przy użyciu algorytmu Klaudii"
   ]
  },
  {
   "cell_type": "code",
   "execution_count": null,
   "metadata": {},
   "outputs": [],
   "source": [
    "start_date_comments = datetime.date(2008, 12, 9)\n",
    "end_date_comments = datetime.date(2013,11, 16)"
   ]
  },
  {
   "cell_type": "code",
   "execution_count": null,
   "metadata": {},
   "outputs": [],
   "source": [
    "%%capture capt\n",
    "\n",
    "def count_quantile(file_names, columns, quantile, start_date, end_date):\n",
    "    all_data = []\n",
    "    while start_date < end_date:\n",
    "        quantiles_results = []\n",
    "        for file, feature_name in file_names:\n",
    "            df = pd.read_csv(file + \"/feature_\" + str(start_date) + \".csv\")\n",
    "            quant = df[feature_name].quantile(quantile)\n",
    "            quant = 0.0 if math.isnan(quant) else quant\n",
    "            quantiles_results.append(quant)\n",
    "\n",
    "        all_data.append(quantiles_results)\n",
    "        #print(\"Appending results\" + \" for: \" + str(start_date))\n",
    "        start_date += timedelta(days=14)\n",
    "    columns = [col + \"_\" + str(quantile*100) for col in columns]\n",
    "    result = pd.DataFrame(all_data, columns = columns)\n",
    "    return result"
   ]
  },
  {
   "cell_type": "code",
   "execution_count": null,
   "metadata": {},
   "outputs": [],
   "source": [
    "def count_mean(file_names, columns, start_date, end_date):\n",
    "    all_data = []\n",
    "    while start_date < end_date:\n",
    "        mean_results = []\n",
    "        for file, feature_name in file_names:\n",
    "            df = pd.read_csv(file + \"/feature_\" + str(start_date) + \".csv\")\n",
    "            mean = df[feature_name].mean()\n",
    "            mean = 0.0 if math.isnan(mean) else mean\n",
    "            mean_results.append(mean)\n",
    "\n",
    "        all_data.append(mean_results)\n",
    "        #print(\"Appending results\" + \" for: \" + str(start_date))\n",
    "        start_date += timedelta(days=14)\n",
    "    columns = [col + \"_mean\" for col in columns]\n",
    "    result = pd.DataFrame(all_data, columns = columns)\n",
    "    return result"
   ]
  },
  {
   "cell_type": "code",
   "execution_count": null,
   "metadata": {},
   "outputs": [],
   "source": [
    "def plot_correlation_matrix(file_names, columns, quantile, start_date, end_date):\n",
    "    result = count_quantile(file_names, columns, quantile, start_date, end_date)\n",
    "    print(\"Counting correlations...\")\n",
    "    plt.matshow(result.corr())\n",
    "    plt.show()\n",
    "    return result"
   ]
  },
  {
   "cell_type": "code",
   "execution_count": null,
   "metadata": {},
   "outputs": [],
   "source": [
    "def plot_mean_correlation_matrix(file_names, columns, start_date, end_date):\n",
    "    result = count_mean(file_names, columns, start_date, end_date)\n",
    "    print(\"Counting correlations...\")\n",
    "    plt.matshow(result.corr())\n",
    "    plt.show()\n",
    "    return result"
   ]
  },
  {
   "cell_type": "code",
   "execution_count": null,
   "metadata": {},
   "outputs": [],
   "source": [
    "columns = [\n",
    "    \"post_activity\",\n",
    "    \"number_of_posts\",\n",
    "    \"number_of_written_comments_to_other_users_posts\",\n",
    "    \"mean_post_frequency\",\n",
    "    \"std_post_frequency\",\n",
    "    \"median_post_frequency\",\n",
    "    \"q3_post_frequency\",\n",
    "    \"number_of_received_responses_to_users_posts_avg\",\n",
    "    \"number_of_received_responses_to_users_posts_std\",\n",
    "    \"number_of_received_responses_to_users_posts_q3\",\n",
    "    \"number_of_received_responses_to_users_posts_max\",\n",
    "    \"number_of_comments_written_by_user_under_his_own_posts_avg\",\n",
    "    \"number_of_comments_written_by_user_under_his_own_posts_q3\",\n",
    "    \"number_of_received_responses_under_users_comments_avg\",\n",
    "    \"number_of_received_responses_under_users_comments_median\",\n",
    "    \"number_of_received_responses_under_users_comments_q3\",\n",
    "    \"number_of_received_responses_under_users_comments_max\",\n",
    "    \"mean_comments_frequency\",\n",
    "    \"median_comments_frequency\",\n",
    "    \"q3_comments_frequency\",\n",
    "    \"number_of_words_in_users_comments_avg\",\n",
    "    \"number_of_words_in_users_comments_median\",\n",
    "    \"number_of_words_in_users_comments_q3\",\n",
    "    \"number_of_words_in_users_posts_avg\",\n",
    "    \"number_of_words_in_users_posts_median\",\n",
    "    \"number_of_words_in_users_posts_q3\",\n",
    "    \"number_of_words_in_responses_of_users_posts_avg\",\n",
    "    \"number_of_words_in_responses_of_users_posts_std\",\n",
    "    \"nnumber_of_words_in_responses_of_users_posts_median\",\n",
    "    \"number_of_words_in_responses_of_users_posts_q3\",\n",
    "    \"number_of_words_in_own_responses_of_users_posts_avg\",\n",
    "    \"number_of_words_in_own_responses_of_users_posts_q3\",\n",
    "    \"posts_sentiment_avg\",\n",
    "    \"posts_sentiment_median\",\n",
    "    \"posts_sentiment_min\",\n",
    "    \"comments_sentiment_avg\",\n",
    "    \"comments_sentiment_median\",\n",
    "    \"comments_sentiment_q3\",\n",
    "    \"received_comments_sentiment_stddev\",\n",
    "    \"received_comments_sentiment_q3\"\n",
    "]\n",
    "\n",
    "\n",
    "\n",
    "files_without_zeros = [\n",
    "    (\"PostActivityWithoutZeros\", \"post_activity\"),\n",
    "    (\"NumberOfUsersPostsWithoutZeros\", \"number_of_posts\"),\n",
    "    (\"NumberOfWrittenCommentsToOtherUsersPostsWithoutZeros\",\"number_of_written_comments_to_other_users_posts\"),\n",
    "    (\"FrequencyOfUserPostsWithoutZeros\", \"mean_post_frequency\"),\n",
    "    (\"FrequencyOfUserPostsWithoutZeros\",\"std_post_frequency\"),\n",
    "    (\"FrequencyOfUserPostsWithoutZeros\", \"median_post_frequency\"),\n",
    "    (\"FrequencyOfUserPostsWithoutZeros\",\"q3_post_frequency\"),\n",
    "    (\"NumberOfReceivedResponsesToUsersPostsWithoutZeros\", \"number_of_received_responses_to_users_posts_avg\"),\n",
    "    (\"NumberOfReceivedResponsesToUsersPostsWithoutZeros\",\"number_of_received_responses_to_users_posts_std\"),\n",
    "    (\"NumberOfReceivedResponsesToUsersPostsWithoutZeros\", \"number_of_received_responses_to_users_posts_q3\"),\n",
    "    (\"NumberOfReceivedResponsesToUsersPostsWithoutZeros\",\"number_of_received_responses_to_users_posts_max\"),\n",
    "    (\"NumberOfCommentsWrittenByUserUnderHisOwnPostsWithoutZeros\", \"number_of_comments_written_by_user_under_his_own_posts_avg\"),\n",
    "    (\"NumberOfCommentsWrittenByUserUnderHisOwnPostsWithoutZeros\",\"number_of_comments_written_by_user_under_his_own_posts_q3\"),\n",
    "    (\"NumberOfReceivedResponsesUnderUsersCommentsWithoutZeros\", \"number_of_received_responses_under_users_comments_avg\"),\n",
    "    (\"NumberOfReceivedResponsesUnderUsersCommentsWithoutZeros\",\"number_of_received_responses_under_users_comments_median\"),\n",
    "    (\"NumberOfReceivedResponsesUnderUsersCommentsWithoutZeros\", \"number_of_received_responses_under_users_comments_q3\"),\n",
    "    (\"NumberOfReceivedResponsesUnderUsersCommentsWithoutZeros\",\"number_of_received_responses_under_users_comments_max\"),\n",
    "    (\"FrequencyOfUserCommentsWithoutZeros\", \"mean_comments_frequency\"),\n",
    "    (\"FrequencyOfUserCommentsWithoutZeros\",\"median_comments_frequency\"),\n",
    "    (\"FrequencyOfUserCommentsWithoutZeros\", \"q3_comments_frequency\"),\n",
    "    (\"NumberOfWordsInUsersCommentsWithoutZeros\",\"number_of_words_in_users_comments_avg\"),\n",
    "    (\"NumberOfWordsInUsersCommentsWithoutZeros\", \"number_of_words_in_users_comments_median\"),\n",
    "    (\"NumberOfWordsInUsersCommentsWithoutZeros\",\"number_of_words_in_users_comments_q3\"),\n",
    "    (\"NumberOfWordsInUsersPostsWithoutZeros\", \"number_of_words_in_users_posts_avg\"),\n",
    "    (\"NumberOfWordsInUsersPostsWithoutZeros\",\"number_of_words_in_users_posts_median\"),\n",
    "    (\"NumberOfWordsInUsersPostsWithoutZeros\", \"number_of_words_in_users_posts_q3\"),\n",
    "    (\"NumberOfWordsInResponsesOfUsersPostsWithoutZeros\",\"number_of_words_in_responses_of_users_posts_avg\"),\n",
    "    (\"NumberOfWordsInResponsesOfUsersPostsWithoutZeros\", \"number_of_words_in_responses_of_users_posts_std\"),\n",
    "    (\"NumberOfWordsInResponsesOfUsersPostsWithoutZeros\",\"nnumber_of_words_in_responses_of_users_posts_median\"),\n",
    "    (\"NumberOfWordsInResponsesOfUsersPostsWithoutZeros\", \"number_of_words_in_responses_of_users_posts_q3\"),\n",
    "    (\"NumberOfWordsInOwnResponsesOfUsersPostsWithoutZeros\",\"number_of_words_in_own_responses_of_users_posts_avg\"),\n",
    "    (\"NumberOfWordsInOwnResponsesOfUsersPostsWithoutZeros\", \"number_of_words_in_own_responses_of_users_posts_q3\"),\n",
    "    (\"SentimentOfUsersPostsWithoutZeros\",\"posts_sentiment_avg\"),\n",
    "    (\"SentimentOfUsersPostsWithoutZeros\", \"posts_sentiment_median\"),\n",
    "    (\"SentimentOfUsersPostsWithoutZeros\",\"posts_sentiment_min\"),\n",
    "    (\"SentimentOfUsersCommentsWithoutZeros\", \"comments_sentiment_avg\"),\n",
    "    (\"SentimentOfUsersCommentsWithoutZeros\",\"comments_sentiment_median\"),\n",
    "    (\"SentimentOfUsersCommentsWithoutZeros\", \"comments_sentiment_q3\"),\n",
    "    (\"SentimentOfUsersResponsesToUserPostsWithoutZeros\",\"received_comments_sentiment_stddev\"),\n",
    "    (\"SentimentOfUsersResponsesToUserPostsWithoutZeros\", \"received_comments_sentiment_q3\")\n",
    "]\n",
    "\n",
    "files = [\n",
    "    (\"NumberOfUsersPosts\", \"number_of_posts\"),\n",
    "    (\"NumberOfWrittenCommentsToOtherUsersPosts\",\"number_of_written_comments_to_other_users_posts\"),\n",
    "    (\"FrequencyOfUserPosts\", \"mean_post_frequency\"),\n",
    "    (\"FrequencyOfUserPosts\",\"std_post_frequency\"),\n",
    "    (\"FrequencyOfUserPosts\", \"median_post_frequency\"),\n",
    "    (\"FrequencyOfUserPosts\",\"q3_post_frequency\"),\n",
    "    (\"NumberOfReceivedResponsesToUsersPosts\", \"number_of_received_responses_to_users_posts_avg\"),\n",
    "    (\"NumberOfReceivedResponsesToUsersPosts\",\"number_of_received_responses_to_users_posts_std\"),\n",
    "    (\"NumberOfReceivedResponsesToUsersPosts\", \"number_of_received_responses_to_users_posts_q3\"),\n",
    "    (\"NumberOfReceivedResponsesToUsersPosts\",\"number_of_received_responses_to_users_posts_max\"),\n",
    "    (\"NumberOfCommentsWrittenByUserUnderHisOwnPosts\", \"number_of_comments_written_by_user_under_his_own_posts_avg\"),\n",
    "    (\"NumberOfCommentsWrittenByUserUnderHisOwnPosts\",\"number_of_comments_written_by_user_under_his_own_posts_q3\"),\n",
    "    (\"NumberOfReceivedResponsesUnderUsersComments\", \"number_of_received_responses_under_users_comments_avg\"),\n",
    "    (\"NumberOfReceivedResponsesUnderUsersComments\",\"number_of_received_responses_under_users_comments_median\"),\n",
    "    (\"NumberOfReceivedResponsesUnderUsersComments\", \"number_of_received_responses_under_users_comments_q3\"),\n",
    "    (\"NumberOfReceivedResponsesUnderUsersComments\",\"number_of_received_responses_under_users_comments_max\"),\n",
    "    (\"FrequencyOfUserComments\", \"mean_comments_frequency\"),\n",
    "    (\"FrequencyOfUserComments\",\"median_comments_frequency\"),\n",
    "    (\"FrequencyOfUserComments\", \"q3_comments_frequency\"),\n",
    "    (\"NumberOfWordsInUsersComments\",\"number_of_words_in_users_comments_avg\"),\n",
    "    (\"NumberOfWordsInUsersComments\", \"number_of_words_in_users_comments_median\"),\n",
    "    (\"NumberOfWordsInUsersComments\",\"number_of_words_in_users_comments_q3\"),\n",
    "    (\"NumberOfWordsInUsersPosts\", \"number_of_words_in_users_posts_avg\"),\n",
    "    (\"NumberOfWordsInUsersPosts\",\"number_of_words_in_users_posts_median\"),\n",
    "    (\"NumberOfWordsInUsersPosts\", \"number_of_words_in_users_posts_q3\"),\n",
    "    (\"NumberOfWordsInResponsesOfUsersPosts\",\"number_of_words_in_responses_of_users_posts_avg\"),\n",
    "    (\"NumberOfWordsInResponsesOfUsersPosts\", \"number_of_words_in_responses_of_users_posts_std\"),\n",
    "    (\"NumberOfWordsInResponsesOfUsersPosts\",\"nnumber_of_words_in_responses_of_users_posts_median\"),\n",
    "    (\"NumberOfWordsInResponsesOfUsersPosts\", \"number_of_words_in_responses_of_users_posts_q3\"),\n",
    "    (\"NumberOfWordsInOwnResponsesOfUsersPosts\",\"number_of_words_in_own_responses_of_users_posts_avg\"),\n",
    "    (\"NumberOfWordsInOwnResponsesOfUsersPosts\", \"number_of_words_in_own_responses_of_users_posts_q3\"),\n",
    "    (\"SentimentOfUsersPosts\",\"posts_sentiment_avg\"),\n",
    "    (\"SentimentOfUsersPosts\", \"posts_sentiment_median\"),\n",
    "    (\"SentimentOfUsersPosts\",\"posts_sentiment_min\"),\n",
    "    (\"SentimentOfUsersComments\", \"comments_sentiment_avg\"),\n",
    "    (\"SentimentOfUsersComments\",\"comments_sentiment_median\"),\n",
    "    (\"SentimentOfUsersComments\", \"comments_sentiment_q3\"),\n",
    "    (\"SentimentOfUsersResponsesToUserPosts\",\"received_comments_sentiment_stddev\"),\n",
    "    (\"SentimentOfUsersResponsesToUserPosts\", \"received_comments_sentiment_q3\")\n",
    "]"
   ]
  },
  {
   "cell_type": "code",
   "execution_count": null,
   "metadata": {},
   "outputs": [],
   "source": [
    "result_with_quant_90 = plot_correlation_matrix(files_without_zeros, columns, 0.90, start_date_comments, end_date_comments)"
   ]
  },
  {
   "cell_type": "code",
   "execution_count": null,
   "metadata": {},
   "outputs": [],
   "source": [
    "%%capture capt\n",
    "\n",
    "result_with_quant_25 = plot_correlation_matrix(files_without_zeros, columns, 0.25, start_date_comments, end_date_comments)\n",
    "result_with_quant_10 = plot_correlation_matrix(files_without_zeros, columns, 0.10, start_date_comments, end_date_comments)\n",
    "result_with_quant_50 = plot_correlation_matrix(files_without_zeros, columns, 0.50, start_date_comments, end_date_comments)\n",
    "result_with_quant_750 = plot_correlation_matrix(files_without_zeros, columns, 0.75, start_date_comments, end_date_comments)"
   ]
  },
  {
   "cell_type": "code",
   "execution_count": null,
   "metadata": {},
   "outputs": [],
   "source": [
    "result_with_mean = plot_mean_correlation_matrix(files_without_zeros, columns, start_date_comments, end_date_comments)"
   ]
  },
  {
   "cell_type": "code",
   "execution_count": null,
   "metadata": {},
   "outputs": [],
   "source": [
    "from collections import Counter"
   ]
  },
  {
   "cell_type": "code",
   "execution_count": null,
   "metadata": {},
   "outputs": [],
   "source": [
    "def get_high_corr_features(features, threshold=0.9) -> list(((str, str), float)):\n",
    "    corr = features.corr()\n",
    "    high_corr = {}\n",
    "    for index, row in corr.iterrows():\n",
    "        for col_name, val in row.iteritems():\n",
    "            if val > threshold and col_name != index:\n",
    "                if (col_name, index) not in high_corr:\n",
    "                    high_corr[index, col_name] = val\n",
    "    return high_corr.items()"
   ]
  },
  {
   "cell_type": "code",
   "execution_count": null,
   "metadata": {},
   "outputs": [],
   "source": [
    "def corr_features_selection(features, threshold=0.9):\n",
    "    features_corr = get_high_corr_features(features, threshold=threshold)\n",
    "    features_corr = sorted(features_corr, key=lambda x: x[1], reverse=True)\n",
    "    removed = set()\n",
    "    chosen = set()\n",
    "    while len(features_corr) > 0:\n",
    "        features_corr = sorted(features_corr, key=lambda x: x[1], reverse=True)\n",
    "        a, b = features_corr[0][0]\n",
    "        if a in removed and b in removed:\n",
    "            features_corr.pop(0)\n",
    "        else:\n",
    "            if a in removed:\n",
    "                chosen_feature = b\n",
    "            elif b in removed:\n",
    "                chosen_feature = a\n",
    "            else:\n",
    "                x = [elem[0][0] for elem in features_corr]\n",
    "                x += [elem[0][1] for elem in features_corr]\n",
    "                counter = Counter(x)\n",
    "                if counter[a] == counter[b]:\n",
    "                    a_var = np.std(features[a])\n",
    "                    b_var = np.std(features[b])\n",
    "                    chosen_feature = a if a_var > b_var else b\n",
    "                else:\n",
    "                    chosen_feature = a if counter[a] > counter[b] else b\n",
    "            chosen.add(chosen_feature)\n",
    "            for i,f in enumerate(features_corr):\n",
    "                x = f[0][0]\n",
    "                y = f[0][1]\n",
    "                if x == chosen_feature:\n",
    "                    removed.add(y)\n",
    "                elif y == chosen_feature:\n",
    "                    removed.add(x)\n",
    "            features_corr = list(filter(lambda x: x[0][0] != chosen_feature and x[0][1] != chosen_feature, features_corr))\n",
    "    return removed"
   ]
  },
  {
   "cell_type": "code",
   "execution_count": null,
   "metadata": {},
   "outputs": [],
   "source": [
    "def get_chosen(features, threshold=0.9):\n",
    "    to_rm = corr_features_selection(features, threshold=threshold)\n",
    "    chosen = []\n",
    "    for c in features.columns:\n",
    "        if c not in to_rm:\n",
    "            chosen.append(c)\n",
    "    return features[chosen]"
   ]
  },
  {
   "cell_type": "code",
   "execution_count": null,
   "metadata": {},
   "outputs": [],
   "source": [
    "%%capture capt\n",
    "\n",
    "chosen_10 = get_chosen(result_with_quant_10)\n",
    "chosen_25 = get_chosen(result_with_quant_25)\n",
    "chosen_50 = get_chosen(result_with_quant_50)\n",
    "chosen_75 = get_chosen(result_with_quant_75)\n",
    "chosen_90 = get_chosen(result_with_quant_90)"
   ]
  },
  {
   "cell_type": "code",
   "execution_count": null,
   "metadata": {},
   "outputs": [],
   "source": [
    "chosen_mean = get_chosen(result_with_mean)"
   ]
  },
  {
   "cell_type": "code",
   "execution_count": null,
   "metadata": {},
   "outputs": [],
   "source": [
    "list(chosen_mean)"
   ]
  },
  {
   "cell_type": "code",
   "execution_count": null,
   "metadata": {},
   "outputs": [],
   "source": [
    "list(chosen_10)"
   ]
  },
  {
   "cell_type": "code",
   "execution_count": null,
   "metadata": {},
   "outputs": [],
   "source": [
    "list(chosen_25)"
   ]
  },
  {
   "cell_type": "code",
   "execution_count": null,
   "metadata": {},
   "outputs": [],
   "source": [
    "list(chosen_50)"
   ]
  },
  {
   "cell_type": "code",
   "execution_count": null,
   "metadata": {},
   "outputs": [],
   "source": [
    "list(chosen_75)"
   ]
  },
  {
   "cell_type": "code",
   "execution_count": null,
   "metadata": {},
   "outputs": [],
   "source": [
    "list(chosen_90)"
   ]
  },
  {
   "cell_type": "markdown",
   "metadata": {},
   "source": [
    "### Porównanie kwantyli"
   ]
  },
  {
   "cell_type": "code",
   "execution_count": null,
   "metadata": {},
   "outputs": [],
   "source": [
    "# %%capture capt\n",
    "# result_with_quant_10 = count_quantile(files_without_zeros, columns, 0.10, start_date_comments, end_date_comments)\n",
    "# result_with_quant_25 = count_quantile(files_without_zeros, columns, 0.25, start_date_comments, end_date_comments)\n",
    "# result_with_quant_50 = count_quantile(files_without_zeros, columns, 0.50, start_date_comments, end_date_comments)\n",
    "# result_with_quant_75 = count_quantile(files_without_zeros, columns, 0.75, start_date_comments, end_date_comments)\n",
    "# result_with_quant_90 = count_quantile(files_without_zeros, columns, 0.90, start_date_comments, end_date_comments)"
   ]
  },
  {
   "cell_type": "code",
   "execution_count": null,
   "metadata": {},
   "outputs": [],
   "source": [
    "def merge_all_dfs(dfs):\n",
    "    start_df = dfs[0]\n",
    "    for i in range(1, len(dfs)):\n",
    "        start_df = pd.merge(start_df, dfs[i], right_index=True, left_index=True)\n",
    "    return start_df"
   ]
  },
  {
   "cell_type": "code",
   "execution_count": null,
   "metadata": {},
   "outputs": [],
   "source": [
    "dfs = [result_with_quant_10,result_with_quant_25,result_with_quant_50,result_with_quant_75,result_with_quant_90]\n",
    "merged = merge_all_dfs(dfs)"
   ]
  },
  {
   "cell_type": "code",
   "execution_count": null,
   "metadata": {},
   "outputs": [],
   "source": [
    "def plot_quantiles(df, column_name):\n",
    "    ax = plt.gca()\n",
    "    cols = [\"_10.0\", \"_25.0\", \"_50.0\", \"_75.0\", \"_90.0\"]\n",
    "    cols = [column_name + c for c in cols]\n",
    "    \n",
    "   \n",
    "    \n",
    "    df.plot(figsize=(34,17),kind='line',y=cols[0], color='blue', ax=ax)\n",
    "    df.plot(figsize=(34,17),kind='line',y=cols[1], color='red', ax=ax)\n",
    "    df.plot(figsize=(34,17),kind='line',y=cols[2], color='green', ax=ax)\n",
    "    df.plot(figsize=(34,17),kind='line',y=cols[3], color='c', ax=ax)\n",
    "    df.plot(figsize=(34,17),kind='line',y=cols[4], color='y', ax=ax)\n",
    "    \n",
    "    plt.xticks(fontsize=18)\n",
    "    plt.yticks(fontsize=18)\n",
    "    plt.legend(loc=0, fontsize=25)\n",
    "\n",
    "    plt.show()"
   ]
  },
  {
   "cell_type": "code",
   "execution_count": null,
   "metadata": {
    "scrolled": false
   },
   "outputs": [],
   "source": [
    "for column_name in columns:\n",
    "    plot_quantiles(merged, column_name)"
   ]
  },
  {
   "cell_type": "code",
   "execution_count": null,
   "metadata": {},
   "outputs": [],
   "source": [
    "stats = merged.describe()\n",
    "stats = stats.reindex(sorted(stats.columns), axis=1)"
   ]
  },
  {
   "cell_type": "code",
   "execution_count": null,
   "metadata": {},
   "outputs": [],
   "source": [
    "stats"
   ]
  },
  {
   "cell_type": "code",
   "execution_count": null,
   "metadata": {},
   "outputs": [],
   "source": [
    "quant = [\"_10.0\", \"_25.0\", \"_50.0\", \"_75.0\", \"_90.0\"]\n",
    "result = {\"_10.0\":0, \"_25.0\":0, \"_50.0\":0, \"_75.0\":0, \"_90.0\":0}\n",
    "for col in columns:\n",
    "    arr = np.array([])\n",
    "    maxi = 0.0\n",
    "    key = quant[0]\n",
    "    for q in quant:\n",
    "        if stats[col + q][\"std\"] > maxi:\n",
    "            maxi = stats[col + q][\"std\"]\n",
    "            key = q\n",
    "    result[key]+=1\n",
    "    \n",
    "result\n",
    "\n",
    " \n",
    "        "
   ]
  },
  {
   "cell_type": "code",
   "execution_count": null,
   "metadata": {},
   "outputs": [],
   "source": [
    "q10 = []\n",
    "q25 = []\n",
    "q50 = []\n",
    "q75 = []\n",
    "q90 = []\n",
    "\n",
    "for col in columns:\n",
    "    q10.append(stats[col + \"_10.0\"][\"std\"])\n",
    "    q25.append(stats[col + \"_25.0\"][\"std\"])\n",
    "    q50.append(stats[col + \"_50.0\"][\"std\"])\n",
    "    q75.append(stats[col + \"_75.0\"][\"std\"])\n",
    "    q90.append(stats[col + \"_90.0\"][\"std\"])\n",
    "\n",
    "ax = plt.gca()\n",
    "\n",
    "plt.plot(q10, \"blue\", label=\"q10\")\n",
    "plt.plot(q25, \"red\", label=\"q25\")\n",
    "plt.plot(q50, \"green\", label=\"q50\")\n",
    "plt.plot(q75, \"c\", label=\"q75\")\n",
    "plt.plot(q90, \"y\", label=\"q90\")\n",
    "plt.title(\"Porównanie stddev cech dla poszczególnych kwantyli\")\n",
    "plt.legend()\n",
    "plt.show()\n",
    "\n"
   ]
  },
  {
   "cell_type": "code",
   "execution_count": null,
   "metadata": {},
   "outputs": [],
   "source": []
  }
 ],
 "metadata": {
  "kernelspec": {
   "display_name": "Python 3",
   "language": "python",
   "name": "python3"
  },
  "language_info": {
   "codemirror_mode": {
    "name": "ipython",
    "version": 3
   },
   "file_extension": ".py",
   "mimetype": "text/x-python",
   "name": "python",
   "nbconvert_exporter": "python",
   "pygments_lexer": "ipython3",
   "version": "3.7.5"
  }
 },
 "nbformat": 4,
 "nbformat_minor": 2
}
