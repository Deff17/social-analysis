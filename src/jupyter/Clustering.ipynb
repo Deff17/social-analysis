{
 "cells": [
  {
   "cell_type": "code",
   "execution_count": null,
   "metadata": {},
   "outputs": [],
   "source": [
    "import csv\n",
    "import pandas as pd\n",
    "from sklearn.cluster import KMeans\n",
    "import numpy as np"
   ]
  },
  {
   "cell_type": "code",
   "execution_count": null,
   "metadata": {},
   "outputs": [],
   "source": [
    "def load_features(files_and_features):\n",
    "    "
   ]
  },
  {
   "cell_type": "code",
   "execution_count": null,
   "metadata": {},
   "outputs": [],
   "source": [
    "kmeans = KMeans(n_clusters=2, random_state=0).fit(X)"
   ]
  },
  {
   "cell_type": "code",
   "execution_count": null,
   "metadata": {},
   "outputs": [],
   "source": []
  },
  {
   "cell_type": "code",
   "execution_count": null,
   "metadata": {},
   "outputs": [],
   "source": []
  },
  {
   "cell_type": "code",
   "execution_count": null,
   "metadata": {},
   "outputs": [],
   "source": []
  },
  {
   "cell_type": "code",
   "execution_count": null,
   "metadata": {},
   "outputs": [],
   "source": []
  },
  {
   "cell_type": "code",
   "execution_count": null,
   "metadata": {},
   "outputs": [],
   "source": []
  },
  {
   "cell_type": "code",
   "execution_count": null,
   "metadata": {},
   "outputs": [],
   "source": [
    "def load_monthly_feature_data(slots_num: int = 99) -> []:\n",
    "    mothly_datasets = []\n",
    "    for i in range(1, slots_num):\n",
    "        mothly_datasets.append(pd.read_csv(\"../../data/HP_slots/all_features\" + str(i) + \".csv\"))\n",
    "    return mothly_datasets"
   ]
  },
  {
   "cell_type": "code",
   "execution_count": null,
   "metadata": {},
   "outputs": [],
   "source": [
    "mothly_datasets= load_monthly_feature_data()"
   ]
  },
  {
   "cell_type": "code",
   "execution_count": null,
   "metadata": {},
   "outputs": [],
   "source": [
    "mothly_datasets[1].head()"
   ]
  },
  {
   "cell_type": "code",
   "execution_count": null,
   "metadata": {},
   "outputs": [],
   "source": [
    "mothly_datasets[1].tail()"
   ]
  },
  {
   "cell_type": "code",
   "execution_count": null,
   "metadata": {},
   "outputs": [],
   "source": [
    "mothly_datasets[1].shape"
   ]
  },
  {
   "cell_type": "code",
   "execution_count": null,
   "metadata": {},
   "outputs": [],
   "source": [
    "df = mothly_datasets[1]"
   ]
  },
  {
   "cell_type": "code",
   "execution_count": null,
   "metadata": {},
   "outputs": [],
   "source": [
    "df.shape"
   ]
  },
  {
   "cell_type": "code",
   "execution_count": null,
   "metadata": {},
   "outputs": [],
   "source": [
    "# len(df[(df['posts_number'] == 0) & (df['received_posts_responses_avg'] == 0) & (df['received_posts_responses_stddev'] == 0) & (df['received_posts_responses_max'] == 0) & (df['own_posts_responses_q3'] == 0) & (df['written_comments_number'] == 0) & (df['written_comments_word_count_median'] == 0) & (df['posts_word_count_avg'] == 0) & (df['received_posts_responses_word_count_q3'] == 0) & (df['own_posts_responses_word_count_q3'] == 0) & (df['posts_activity_time'] == 0) & (df['posts_freq_stddev'] == 0) & (df['posts_freq_q3'] == 0)& (df['comments_freq_q3'] == 0)& (df['received_comment_responses_q3'] == 0)& (df['received_comment_responses_max'] == 0)])"
   ]
  },
  {
   "cell_type": "code",
   "execution_count": null,
   "metadata": {},
   "outputs": [],
   "source": [
    "# len(df[~(df==0).all(axis=1)])"
   ]
  },
  {
   "cell_type": "code",
   "execution_count": null,
   "metadata": {},
   "outputs": [],
   "source": [
    "import numpy as np\n",
    "from matplotlib import pyplot as plt\n",
    "import seaborn as sns\n",
    "sns.set()\n",
    "from sklearn.cluster import AffinityPropagation, MeanShift, estimate_bandwidth"
   ]
  },
  {
   "cell_type": "code",
   "execution_count": null,
   "metadata": {},
   "outputs": [],
   "source": [
    "X = mothly_datasets[1]\n"
   ]
  },
  {
   "cell_type": "code",
   "execution_count": null,
   "metadata": {},
   "outputs": [],
   "source": [
    "X = X.set_index('id')\n",
    "X = X[~(X==0).all(axis=1)].reset_index()"
   ]
  },
  {
   "cell_type": "code",
   "execution_count": null,
   "metadata": {},
   "outputs": [],
   "source": [
    "X.shape"
   ]
  },
  {
   "cell_type": "code",
   "execution_count": null,
   "metadata": {},
   "outputs": [],
   "source": [
    "X = X.drop(['id'], axis=1)"
   ]
  },
  {
   "cell_type": "code",
   "execution_count": null,
   "metadata": {},
   "outputs": [],
   "source": [
    "X = X.as_matrix()"
   ]
  },
  {
   "cell_type": "code",
   "execution_count": null,
   "metadata": {},
   "outputs": [],
   "source": [
    "X[:,0]"
   ]
  },
  {
   "cell_type": "code",
   "execution_count": null,
   "metadata": {},
   "outputs": [],
   "source": [
    "# af = AffinityPropagation(preference=-50)\n",
    "\n",
    "# clustering = af.fit(X)"
   ]
  },
  {
   "cell_type": "code",
   "execution_count": null,
   "metadata": {},
   "outputs": [],
   "source": [
    "# bandwidth = estimate_bandwidth(X, quantile=0.2, n_samples=500)\n",
    "# ms = MeanShift(bandwidth=bandwidth, bin_seeding=True)\n",
    "# ms.fit(X)\n",
    "# labels = ms.labels_\n",
    "# cluster_centers = ms.cluster_centers_"
   ]
  },
  {
   "cell_type": "code",
   "execution_count": null,
   "metadata": {},
   "outputs": [],
   "source": [
    "# labels_unique = np.unique(labels)\n",
    "# n_clusters_ = len(labels_unique)"
   ]
  },
  {
   "cell_type": "code",
   "execution_count": null,
   "metadata": {},
   "outputs": [],
   "source": [
    "# n_clusters_"
   ]
  },
  {
   "cell_type": "code",
   "execution_count": null,
   "metadata": {},
   "outputs": [],
   "source": [
    "def count_MeanShift_clusters_for_every_slot(mothly_datasets):\n",
    "    num_of_clusters = []\n",
    "    all_labels = []\n",
    "    for m_set in mothly_datasets:\n",
    "        m_set = m_set.set_index('id')\n",
    "        m_set = m_set[~(m_set==0).all(axis=1)].reset_index()\n",
    "        m_set = m_set.drop(['id'], axis=1)\n",
    "        bandwidth = estimate_bandwidth(X, quantile=0.2, n_samples=500)\n",
    "        ms = MeanShift(bandwidth=bandwidth, bin_seeding=True)\n",
    "        ms.fit(X)\n",
    "        all_labels.append(ms.labels_)\n",
    "        cluster_centers = ms.cluster_centers_\n",
    "        labels_unique = np.unique(labels)\n",
    "        num_of_clusters.append(len(labels_unique))\n",
    "    return (num_of_clusters, all_labels)\n",
    "        "
   ]
  },
  {
   "cell_type": "code",
   "execution_count": null,
   "metadata": {},
   "outputs": [],
   "source": [
    "num_of_clusers, all_labels = count_MeanShift_clusters_for_every_slot(mothly_datasets)"
   ]
  },
  {
   "cell_type": "code",
   "execution_count": null,
   "metadata": {},
   "outputs": [],
   "source": [
    "labels"
   ]
  },
  {
   "cell_type": "code",
   "execution_count": null,
   "metadata": {},
   "outputs": [],
   "source": [
    "print(labels)"
   ]
  },
  {
   "cell_type": "code",
   "execution_count": null,
   "metadata": {},
   "outputs": [],
   "source": [
    "labels_unique = np.unique(labels)"
   ]
  },
  {
   "cell_type": "code",
   "execution_count": null,
   "metadata": {},
   "outputs": [],
   "source": [
    "def count_elements_in_clusters(labels_unique, labels_unique):\n",
    "    groups_labels = []\n",
    "    for lab in labels_unique:\n",
    "        groups_labels.append(lagroups_labelsls.count(lab))\n",
    "    return groups_labels\n",
    "    \n",
    "    "
   ]
  },
  {
   "cell_type": "code",
   "execution_count": null,
   "metadata": {},
   "outputs": [],
   "source": []
  },
  {
   "cell_type": "code",
   "execution_count": null,
   "metadata": {},
   "outputs": [],
   "source": [
    "plt.plot(num_of_clusers)\n",
    "plt.show()"
   ]
  },
  {
   "cell_type": "code",
   "execution_count": null,
   "metadata": {},
   "outputs": [],
   "source": [
    "# y = all_labels\n",
    "# x = range(0,len(all_labels))\n",
    "\n",
    "# for xe, ye in zip(x, y):\n",
    "#     plt.scatter([xe] * len(ye), ye)\n",
    "\n",
    "# plt.figure(figsize=(20,10))\n",
    "# plt.xticks(x)\n",
    "# plt.show()"
   ]
  },
  {
   "cell_type": "code",
   "execution_count": null,
   "metadata": {},
   "outputs": [],
   "source": [
    "def count_AffinityPropagation_clusters_for_every_slot(mothly_datasets):\n",
    "    num_of_clusters = []\n",
    "    for m_set in mothly_datasets:\n",
    "        m_set = m_set.set_index('id')\n",
    "        m_set = m_set[~(m_set==0).all(axis=1)].reset_index()\n",
    "        m_set = m_set.drop(['id'], axis=1)\n",
    "        \n",
    "        af = AffinityPropagation(preference=-50)\n",
    "        clustering = af.fit(X)\n",
    "        labels = clustering.labels_\n",
    "        labels_unique = np.unique(labels)\n",
    "        num_of_clusters.append(len(labels_unique))\n",
    "    return num_of_clusters"
   ]
  },
  {
   "cell_type": "code",
   "execution_count": null,
   "metadata": {},
   "outputs": [],
   "source": [
    "num_of_clusers_AffinityPropagation = count_AffinityPropagation_clusters_for_every_slot(mothly_datasets)"
   ]
  },
  {
   "cell_type": "code",
   "execution_count": null,
   "metadata": {},
   "outputs": [],
   "source": [
    "plt.plot(num_of_clusers_AffinityPropagation)\n",
    "plt.show()"
   ]
  },
  {
   "cell_type": "code",
   "execution_count": null,
   "metadata": {},
   "outputs": [],
   "source": []
  }
 ],
 "metadata": {
  "kernelspec": {
   "display_name": "Python 3",
   "language": "python",
   "name": "python3"
  },
  "language_info": {
   "codemirror_mode": {
    "name": "ipython",
    "version": 3
   },
   "file_extension": ".py",
   "mimetype": "text/x-python",
   "name": "python",
   "nbconvert_exporter": "python",
   "pygments_lexer": "ipython3",
   "version": "3.7.5"
  }
 },
 "nbformat": 4,
 "nbformat_minor": 2
}
