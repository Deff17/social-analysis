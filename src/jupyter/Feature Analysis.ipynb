{
 "cells": [
  {
   "cell_type": "code",
   "execution_count": null,
   "metadata": {},
   "outputs": [],
   "source": [
    "import pandas as pd\n",
    "import numpy as np\n",
    "import matplotlib.pyplot as plt\n",
    "import os\n"
   ]
  },
  {
   "cell_type": "code",
   "execution_count": null,
   "metadata": {},
   "outputs": [],
   "source": [
    "import datetime\n",
    "from datetime import timedelta \n",
    "\n",
    "# start_date_comments = datetime.date(2008, 12, 9) + timedelta(days=15)\n",
    "# end_date_comments = datetime.date(2013, 11, 16)\n",
    "# start_date_comments = datetime.date(2011, 12, 24) + timedelta(days=15)\n",
    "# end_date_comments = datetime.date(2012, 3, 9)\n",
    "\n",
    "# start_date_comments = datetime.date(2008, 12, 9)\n",
    "# end_date_comments = datetime.date(2013,11, 16)\n",
    "\n",
    "start_date_comments = datetime.date(2009, 12, 22)\n",
    "end_date_comments = datetime.date(2013,10, 22)\n"
   ]
  },
  {
   "cell_type": "code",
   "execution_count": null,
   "metadata": {},
   "outputs": [],
   "source": [
    "authors = pd.read_csv(\"Authors/authors.csv\")\n",
    "users_num = authors[\"id\"].size\n",
    "\n",
    "authors[\"zeros\"] = 0.0\n",
    "zeros = authors[\"zeros\"]"
   ]
  },
  {
   "cell_type": "code",
   "execution_count": null,
   "metadata": {},
   "outputs": [],
   "source": []
  },
  {
   "cell_type": "code",
   "execution_count": null,
   "metadata": {},
   "outputs": [],
   "source": [
    "feature_table = pd.read_csv(\"FeatureTableCSV.csv\", sep=\";\")"
   ]
  },
  {
   "cell_type": "code",
   "execution_count": null,
   "metadata": {},
   "outputs": [],
   "source": [
    "def save_data_to_file(folder_name, file_name, data):\n",
    "    try:\n",
    "        # Create target Directory\n",
    "        os.mkdir(folder_name)\n",
    "        print(\"Directory \" , folder_name ,  \" Created \") \n",
    "    except FileExistsError:\n",
    "        e = 1\n",
    "        #print(\"Directory \" , folder_name ,  \" already exists\")\n",
    "    data.to_csv(folder_name + \"/\" + file_name, index=False)"
   ]
  },
  {
   "cell_type": "code",
   "execution_count": null,
   "metadata": {},
   "outputs": [],
   "source": [
    "def merge_stats(start_date):\n",
    "    statistics_to_join = []\n",
    "    for index, row in feature_table.iterrows():\n",
    "        folder = row[[\"NazwaFolderu\",\"NazwaCechy\"]][0]\n",
    "        feature_name = row[[\"NazwaFolderu\",\"NazwaCechy\"]][1]\n",
    "        statistics_to_join.append(pd.read_csv(folder + \"/feature_\" + str(start_date) + \".csv\")[['user_id',feature_name]])\n",
    "    \n",
    "    merged_df = statistics_to_join[0]\n",
    "    for i in range(1, len(statistics_to_join)):\n",
    "        merged_df = pd.merge(merged_df, statistics_to_join[i],how='outer',on=['user_id'])\n",
    "    return merged_df.fillna(0)"
   ]
  },
  {
   "cell_type": "code",
   "execution_count": null,
   "metadata": {},
   "outputs": [],
   "source": [
    "def create_cluster_data(start_date, end_date):\n",
    "    while start_date < end_date:\n",
    "        data = merge_stats(start_date)\n",
    "        #res = pd.concat([res, data], ignore_index=True)\n",
    "        print(str(start_date))\n",
    "        #print(str(len(data)) + \" \" + str(start_date))\n",
    "        save_data_to_file(\"All_Data_In_Slots_Joined\", str(start_date) + \"_joined.csv\", data)\n",
    "        start_date += timedelta(days=14)\n",
    "    "
   ]
  },
  {
   "cell_type": "code",
   "execution_count": null,
   "metadata": {},
   "outputs": [],
   "source": [
    "df = pd.read_csv(\"All_Data_In_Slots_Joined/\" + str(start_date_comments) + \"_joined.csv\")\n",
    "df"
   ]
  },
  {
   "cell_type": "code",
   "execution_count": null,
   "metadata": {},
   "outputs": [],
   "source": []
  },
  {
   "cell_type": "code",
   "execution_count": null,
   "metadata": {},
   "outputs": [],
   "source": [
    "#create_cluster_data(start_date_comments, end_date_comments)"
   ]
  },
  {
   "cell_type": "code",
   "execution_count": null,
   "metadata": {},
   "outputs": [],
   "source": [
    "def generete_data_with_zeros(df, zeros, column_name):\n",
    "    df = df[column_name]\n",
    "    zeros.columns = column_name\n",
    "    res = pd.concat([df,zeros[len(df):]])\n",
    "    return res"
   ]
  },
  {
   "cell_type": "code",
   "execution_count": null,
   "metadata": {},
   "outputs": [],
   "source": [
    "def standard_dev_feat_for_all_slots(folder, feature_name, start_date, end_date):\n",
    "    res = pd.read_csv(folder + \"/feature_\" + str(start_date) + \".csv\")\n",
    "    res_with_zeros = generete_data_with_zeros(res,zeros, feature_name)\n",
    "    start_date += timedelta(days=14)\n",
    "    while start_date < end_date:\n",
    "        df = pd.read_csv(folder + \"/feature_\" + str(start_date) + \".csv\")\n",
    "        data = generete_data_with_zeros(df, zeros, feature_name)\n",
    "        #std = data.std()\n",
    "        #result.append(std)\n",
    "        res_with_zeros = pd.concat([res_with_zeros, data], ignore_index=True)\n",
    "        start_date += timedelta(days=14)\n",
    "    print(len(res_with_zeros.index))\n",
    "    return res_with_zeros.std()"
   ]
  },
  {
   "cell_type": "code",
   "execution_count": null,
   "metadata": {},
   "outputs": [],
   "source": [
    "def non_zero_standard_dev_feat_for_all_slots(folder, feature_name, start_date, end_date):\n",
    "    res = pd.read_csv(folder + \"/feature_\" + str(start_date) + \".csv\")[feature_name]\n",
    "    start_date += timedelta(days=14)\n",
    "    while start_date < end_date:\n",
    "        data = pd.read_csv(folder + \"/feature_\" + str(start_date) + \".csv\")[feature_name]\n",
    "        res = pd.concat([res, data], ignore_index=True)\n",
    "        #std = data[feature_name].std()\n",
    "#         result.append(std)\n",
    "        start_date += timedelta(days=14)\n",
    "    print(len(res.index))\n",
    "    return res.std()"
   ]
  },
  {
   "cell_type": "code",
   "execution_count": null,
   "metadata": {},
   "outputs": [],
   "source": []
  },
  {
   "cell_type": "code",
   "execution_count": null,
   "metadata": {},
   "outputs": [],
   "source": [
    "# def merge_stats(start_date):\n",
    "#     statistics_to_join = []\n",
    "#     for index, row in feature_table.iterrows():\n",
    "#         folder = row[[\"NazwaFolderu\",\"NazwaCechy\"]][0]\n",
    "#         feature_name = row[[\"NazwaFolderu\",\"NazwaCechy\"]][1]\n",
    "#         statistics_to_join.append(pd.read_csv(folder + \"/feature_\" + str(start_date) + \".csv\")[['user_id',feature_name]])\n",
    "    \n",
    "#     merged_df = statistics_to_join[0]\n",
    "#     for i in range(1, len(statistics_to_join)):\n",
    "#         merged_df = pd.merge(merged_df, statistics_to_join[i],how='outer',on=['user_id'])\n",
    "#     return merged_df.fillna(0)"
   ]
  },
  {
   "cell_type": "code",
   "execution_count": null,
   "metadata": {},
   "outputs": [],
   "source": [
    "# def non_zero_feat_for_all_slots(folder, feature_name, start_date, end_date):\n",
    "#     res = merge_stats(start_date)\n",
    "#     start_date += timedelta(days=14)\n",
    "#     while start_date < end_date:\n",
    "#         data = merge_stats(start_date)\n",
    "#         res = pd.concat([res, data], ignore_index=True)\n",
    "#         start_date += timedelta(days=14)\n",
    "#     num = len(res)\n",
    "#     return (num / users_num) * 100"
   ]
  },
  {
   "cell_type": "code",
   "execution_count": null,
   "metadata": {
    "scrolled": true
   },
   "outputs": [],
   "source": [
    "for index, row in feature_table.iterrows():\n",
    "    folder = row[[\"NazwaFolderu\",\"NazwaCechy\"]][0]\n",
    "    feature_name = row[[\"NazwaFolderu\",\"NazwaCechy\"]][1]\n",
    "    if(folder == \"NumberOfReceivedResponsesUnderComments\"):\n",
    "        print(\"TYPE       | \" + feature_name )\n",
    "        print(\"STD ZERO   | \" + str(standard_dev_feat_for_all_slots(folder, feature_name, start_date_comments, end_date_comments)))\n",
    "        print(\"STD NONZERO| \" + str(non_zero_standard_dev_feat_for_all_slots(folder, feature_name, start_date_comments, end_date_comments)))\n",
    "#     print(\"NONZERO    | \" + str(non_zero_feat_for_all_slots(folder, feature_name, start_date_comments, end_date_comments)))"
   ]
  },
  {
   "cell_type": "code",
   "execution_count": null,
   "metadata": {
    "scrolled": false
   },
   "outputs": [],
   "source": [
    "for index, row in feature_table.iterrows():\n",
    "    folder = row[[\"NazwaFolderu\",\"NazwaCechy\"]][0]\n",
    "    feature_name = row[[\"NazwaFolderu\",\"NazwaCechy\"]][1]\n",
    "    print(\"TYPE       | \" + feature_name )\n",
    "    print(\"STD ZERO   | \" + str(standard_dev_feat_for_all_slots(folder, feature_name, start_date_comments, end_date_comments)))\n",
    "    print(\"STD NONZERO| \" + str(non_zero_standard_dev_feat_for_all_slots(folder, feature_name, start_date_comments, end_date_comments)))\n",
    "#     print(\"NONZERO    | \" + str(non_zero_feat_for_all_slots(folder, feature_name, start_date_comments, end_date_comments)))"
   ]
  },
  {
   "cell_type": "code",
   "execution_count": null,
   "metadata": {},
   "outputs": [],
   "source": [
    "def plot_standard_dev_feat_over_months(file_name, feature_name, start_date, end_date):\n",
    "    result = []\n",
    "    while start_date < end_date:\n",
    "        df = pd.read_csv(file_name + \"/feature_\" + str(start_date) + \".csv\")\n",
    "        data = generete_data_with_zeros(df,zeros, feature_name)\n",
    "        std = data.std()\n",
    "        result.append(std)\n",
    "        start_date += timedelta(days=14)\n",
    "    plt.plot(result)\n",
    "    plt.ylabel('STD value of {}'.format(feature_name))\n",
    "    plt.savefig(\"FeatureAnalysisFigs/\" + \"STD_\" + feature_name)\n",
    "    plt.show()"
   ]
  },
  {
   "cell_type": "code",
   "execution_count": null,
   "metadata": {},
   "outputs": [],
   "source": [
    "def plot_non_zero_standard_dev_feat_over_months(file_name, feature_name, start_date, end_date):\n",
    "    result = []\n",
    "    while start_date < end_date:\n",
    "        data = pd.read_csv(file_name + \"/feature_\" + str(start_date) + \".csv\")\n",
    "        std = data[feature_name].std()\n",
    "        result.append(std)\n",
    "        start_date += timedelta(days=14)\n",
    "\n",
    "    plt.plot(result)\n",
    "    plt.ylabel('NON ZERO STD value of {}'.format(feature_name))\n",
    "    plt.savefig(\"FeatureAnalysisFigs/\" + \"NONZERO_STD_\" + feature_name)\n",
    "    plt.show()"
   ]
  },
  {
   "cell_type": "code",
   "execution_count": null,
   "metadata": {},
   "outputs": [],
   "source": [
    "def plot_non_zero_feat_over_months(file_name, feature_name, start_date, end_date):\n",
    "    result = []\n",
    "    while start_date < end_date:\n",
    "        data = pd.read_csv(file_name + \"/feature_\" + str(start_date) + \".csv\")\n",
    "        without_zeros = data.loc[data[feature_name] != 0.0]\n",
    "        num = len(without_zeros)\n",
    "        prec = (num / users_num) * 100\n",
    "        result.append(prec)\n",
    "        start_date += timedelta(days=14)\n",
    "    plt.plot(result)\n",
    "    plt.ylabel('Percentage of non zero value of {}'.format(feature_name))\n",
    "    plt.savefig(\"FeatureAnalysisFigs/\" + \"PROCENTAGE_\" + feature_name)\n",
    "    plt.show()"
   ]
  },
  {
   "cell_type": "code",
   "execution_count": null,
   "metadata": {},
   "outputs": [],
   "source": []
  },
  {
   "cell_type": "code",
   "execution_count": null,
   "metadata": {},
   "outputs": [],
   "source": [
    "# feature_table = pd.read_csv(\"FeatureTableCSV.csv\", sep=\";\")\n",
    "# start_date = start_date_comments\n",
    "# end_date = end_date_comments"
   ]
  },
  {
   "cell_type": "code",
   "execution_count": null,
   "metadata": {},
   "outputs": [],
   "source": [
    "# folder = \"FrequencyOfPosts\"\n",
    "# feature_name = list(feature_table.loc[feature_table[\"NazwaFolderu\"] == \"FrequencyOfPosts\"][\"NazwaCechy\"])[0]"
   ]
  },
  {
   "cell_type": "code",
   "execution_count": null,
   "metadata": {},
   "outputs": [],
   "source": [
    "def plot_histogram(folder, feature_name, start_date, end_date):\n",
    "    \n",
    "    res = pd.read_csv(folder + \"/feature_\" + str(start_date) + \".csv\")[feature_name]\n",
    "    start_date += timedelta(days=14)\n",
    "    while start_date < end_date:\n",
    "        df2 = pd.read_csv(folder + \"/feature_\" + str(start_date) + \".csv\")[feature_name]\n",
    "        res = pd.concat([res, df2], ignore_index=True)\n",
    "        start_date += timedelta(days=14)\n",
    "\n",
    "    plt.gcf().clear()\n",
    "#     binwidth = max(res) / 100\n",
    "#     bins=range(min(res), max(res) + 20, 20)\n",
    "#     plt.gca().set_xlim([0, max(res)])\n",
    "    plt.yscale('log', nonposy='clip')\n",
    "    plt.hist(res.T, label=feature_name, histtype='bar', bins=100, alpha=0.5, edgecolor='black', facecolor='blue')\n",
    "    plt.legend()\n",
    "    plt.savefig(\"FeatureAnalysisFigs/\" + \"HIST_\" + feature_name)\n",
    "    plt.show()"
   ]
  },
  {
   "cell_type": "code",
   "execution_count": null,
   "metadata": {},
   "outputs": [],
   "source": []
  },
  {
   "cell_type": "markdown",
   "metadata": {},
   "source": [
    "# New Feature Names"
   ]
  },
  {
   "cell_type": "code",
   "execution_count": null,
   "metadata": {},
   "outputs": [],
   "source": [
    "feature_table = pd.read_csv(\"FeatureTableCSV.csv\", sep=\";\")"
   ]
  },
  {
   "cell_type": "code",
   "execution_count": null,
   "metadata": {
    "scrolled": false
   },
   "outputs": [],
   "source": [
    "for index, row in feature_table.iterrows():\n",
    "    folder = row[[\"NazwaFolderu\",\"NazwaCechy\"]][0]\n",
    "    feature_name = row[[\"NazwaFolderu\",\"NazwaCechy\"]][1]\n",
    "    \n",
    "    plot_non_zero_feat_over_months(folder, feature_name, start_date_comments, end_date_comments)\n",
    "    plot_non_zero_standard_dev_feat_over_months(folder, feature_name, start_date_comments, end_date_comments)\n",
    "    plot_standard_dev_feat_over_months(folder, feature_name, start_date_comments, end_date_comments)\n",
    "    plot_histogram(folder, feature_name, start_date_comments, end_date_comments)"
   ]
  },
  {
   "cell_type": "code",
   "execution_count": null,
   "metadata": {},
   "outputs": [],
   "source": []
  },
  {
   "cell_type": "code",
   "execution_count": null,
   "metadata": {},
   "outputs": [],
   "source": []
  },
  {
   "cell_type": "code",
   "execution_count": null,
   "metadata": {},
   "outputs": [],
   "source": []
  },
  {
   "cell_type": "code",
   "execution_count": null,
   "metadata": {},
   "outputs": [],
   "source": []
  },
  {
   "cell_type": "code",
   "execution_count": null,
   "metadata": {},
   "outputs": [],
   "source": []
  },
  {
   "cell_type": "code",
   "execution_count": null,
   "metadata": {},
   "outputs": [],
   "source": []
  },
  {
   "cell_type": "code",
   "execution_count": null,
   "metadata": {},
   "outputs": [],
   "source": []
  },
  {
   "cell_type": "code",
   "execution_count": null,
   "metadata": {},
   "outputs": [],
   "source": []
  },
  {
   "cell_type": "code",
   "execution_count": null,
   "metadata": {},
   "outputs": [],
   "source": []
  },
  {
   "cell_type": "code",
   "execution_count": null,
   "metadata": {},
   "outputs": [],
   "source": []
  },
  {
   "cell_type": "code",
   "execution_count": null,
   "metadata": {},
   "outputs": [],
   "source": []
  },
  {
   "cell_type": "code",
   "execution_count": null,
   "metadata": {},
   "outputs": [],
   "source": []
  },
  {
   "cell_type": "code",
   "execution_count": null,
   "metadata": {},
   "outputs": [],
   "source": []
  },
  {
   "cell_type": "code",
   "execution_count": null,
   "metadata": {},
   "outputs": [],
   "source": []
  },
  {
   "cell_type": "code",
   "execution_count": null,
   "metadata": {},
   "outputs": [],
   "source": []
  },
  {
   "cell_type": "markdown",
   "metadata": {},
   "source": [
    " ### FrequencyOfUserComments"
   ]
  },
  {
   "cell_type": "code",
   "execution_count": null,
   "metadata": {},
   "outputs": [],
   "source": [
    "file_name = \"FrequencyOfUserComments\""
   ]
  },
  {
   "cell_type": "code",
   "execution_count": null,
   "metadata": {},
   "outputs": [],
   "source": [
    "feature_name = \"mean_comments_frequency\"\n",
    "plot_non_zero_feat_over_months(file_name, feature_name, start_date_comments, end_date_comments)\n",
    "plot_non_zero_standard_dev_feat_over_months(file_name, feature_name, start_date_comments, end_date_comments)\n",
    "plot_standard_dev_feat_over_months(file_name, feature_name, start_date_comments, end_date_comments)"
   ]
  },
  {
   "cell_type": "code",
   "execution_count": null,
   "metadata": {},
   "outputs": [],
   "source": [
    "feature_name = \"std_comments_frequency\"\n",
    "plot_non_zero_feat_over_months(file_name, feature_name, start_date_comments, end_date_comments)\n",
    "plot_non_zero_standard_dev_feat_over_months(file_name, feature_name, start_date_comments, end_date_comments)\n",
    "plot_standard_dev_feat_over_months(file_name, feature_name, start_date_comments, end_date_comments)"
   ]
  },
  {
   "cell_type": "code",
   "execution_count": null,
   "metadata": {},
   "outputs": [],
   "source": [
    "feature_name = \"median_comments_frequency\"\n",
    "plot_non_zero_feat_over_months(file_name, feature_name, start_date_comments, end_date_comments)\n",
    "plot_non_zero_standard_dev_feat_over_months(file_name, feature_name, start_date_comments, end_date_comments)\n",
    "plot_standard_dev_feat_over_months(file_name, feature_name, start_date_comments, end_date_comments)"
   ]
  },
  {
   "cell_type": "code",
   "execution_count": null,
   "metadata": {},
   "outputs": [],
   "source": [
    "feature_name = \"min_comments_frequency\"\n",
    "plot_non_zero_feat_over_months(file_name, feature_name, start_date_comments, end_date_comments)\n",
    "plot_non_zero_standard_dev_feat_over_months(file_name, feature_name, start_date_comments, end_date_comments)\n",
    "plot_standard_dev_feat_over_months(file_name, feature_name, start_date_comments, end_date_comments)"
   ]
  },
  {
   "cell_type": "code",
   "execution_count": null,
   "metadata": {},
   "outputs": [],
   "source": [
    "feature_name = \"max_comments_frequency\"\n",
    "plot_non_zero_feat_over_months(file_name, feature_name, start_date_comments, end_date_comments)\n",
    "plot_non_zero_standard_dev_feat_over_months(file_name, feature_name, start_date_comments, end_date_comments)\n",
    "plot_standard_dev_feat_over_months(file_name, feature_name, start_date_comments, end_date_comments)"
   ]
  },
  {
   "cell_type": "code",
   "execution_count": null,
   "metadata": {},
   "outputs": [],
   "source": [
    "feature_name = \"q3_comments_frequency\"\n",
    "plot_non_zero_feat_over_months(file_name, feature_name, start_date_comments, end_date_comments)\n",
    "plot_non_zero_standard_dev_feat_over_months(file_name, feature_name, start_date_comments, end_date_comments)\n",
    "plot_standard_dev_feat_over_months(file_name, feature_name, start_date_comments, end_date_comments)"
   ]
  },
  {
   "cell_type": "markdown",
   "metadata": {},
   "source": [
    "### FrequencyOfUserPosts"
   ]
  },
  {
   "cell_type": "code",
   "execution_count": null,
   "metadata": {},
   "outputs": [],
   "source": [
    "file_name = \"FrequencyOfUserPosts\""
   ]
  },
  {
   "cell_type": "code",
   "execution_count": null,
   "metadata": {},
   "outputs": [],
   "source": [
    "feature_name = \"mean_post_frequency\"\n",
    "plot_non_zero_feat_over_months(file_name, feature_name, start_date_comments, end_date_comments)\n",
    "plot_non_zero_standard_dev_feat_over_months(file_name, feature_name, start_date_comments, end_date_comments)\n",
    "plot_standard_dev_feat_over_months(file_name, feature_name, start_date_comments, end_date_comments)"
   ]
  },
  {
   "cell_type": "code",
   "execution_count": null,
   "metadata": {},
   "outputs": [],
   "source": [
    "feature_name = \"std_post_frequency\"\n",
    "plot_non_zero_feat_over_months(file_name, feature_name, start_date_comments, end_date_comments)\n",
    "plot_non_zero_standard_dev_feat_over_months(file_name, feature_name, start_date_comments, end_date_comments)\n",
    "plot_standard_dev_feat_over_months(file_name, feature_name, start_date_comments, end_date_comments)"
   ]
  },
  {
   "cell_type": "code",
   "execution_count": null,
   "metadata": {},
   "outputs": [],
   "source": [
    "feature_name = \"median_post_frequency\"\n",
    "plot_non_zero_feat_over_months(file_name, feature_name, start_date_comments, end_date_comments)\n",
    "plot_non_zero_standard_dev_feat_over_months(file_name, feature_name, start_date_comments, end_date_comments)\n",
    "plot_standard_dev_feat_over_months(file_name, feature_name, start_date_comments, end_date_comments)"
   ]
  },
  {
   "cell_type": "code",
   "execution_count": null,
   "metadata": {},
   "outputs": [],
   "source": [
    "feature_name = \"min_post_frequency\"\n",
    "plot_non_zero_feat_over_months(file_name, feature_name, start_date_comments, end_date_comments)\n",
    "plot_non_zero_standard_dev_feat_over_months(file_name, feature_name, start_date_comments, end_date_comments)\n",
    "plot_standard_dev_feat_over_months(file_name, feature_name, start_date_comments, end_date_comments)"
   ]
  },
  {
   "cell_type": "code",
   "execution_count": null,
   "metadata": {},
   "outputs": [],
   "source": [
    "feature_name = \"max_post_frequency\"\n",
    "plot_non_zero_feat_over_months(file_name, feature_name, start_date_comments, end_date_comments)\n",
    "plot_non_zero_standard_dev_feat_over_months(file_name, feature_name, start_date_comments, end_date_comments)\n",
    "plot_standard_dev_feat_over_months(file_name, feature_name, start_date_comments, end_date_comments)"
   ]
  },
  {
   "cell_type": "code",
   "execution_count": null,
   "metadata": {},
   "outputs": [],
   "source": [
    "feature_name = \"q3_post_frequency\"\n",
    "plot_non_zero_feat_over_months(file_name, feature_name, start_date_comments, end_date_comments)\n",
    "plot_non_zero_standard_dev_feat_over_months(file_name, feature_name, start_date_comments, end_date_comments)\n",
    "plot_standard_dev_feat_over_months(file_name, feature_name, start_date_comments, end_date_comments)"
   ]
  },
  {
   "cell_type": "code",
   "execution_count": null,
   "metadata": {},
   "outputs": [],
   "source": []
  },
  {
   "cell_type": "markdown",
   "metadata": {},
   "source": [
    "### NumberOfCommentsWrittenByUserUnderHisOwnPostsWithoutZeros"
   ]
  },
  {
   "cell_type": "code",
   "execution_count": null,
   "metadata": {},
   "outputs": [],
   "source": [
    "file_name = \"NumberOfCommentsWrittenByUserUnderHisOwnPostsWithoutZeros\""
   ]
  },
  {
   "cell_type": "code",
   "execution_count": null,
   "metadata": {},
   "outputs": [],
   "source": [
    "feature_name = \"number_of_comments_written_by_user_under_his_own_posts_avg\"\n",
    "plot_non_zero_feat_over_months(file_name, feature_name, start_date_comments, end_date_comments)\n",
    "plot_non_zero_standard_dev_feat_over_months(file_name, feature_name, start_date_comments, end_date_comments)\n",
    "plot_standard_dev_feat_over_months(file_name, feature_name, start_date_comments, end_date_comments)"
   ]
  },
  {
   "cell_type": "code",
   "execution_count": null,
   "metadata": {},
   "outputs": [],
   "source": [
    "feature_name = \"number_of_comments_written_by_user_under_his_own_posts_std\"\n",
    "plot_non_zero_feat_over_months(file_name, feature_name, start_date_comments, end_date_comments)\n",
    "plot_non_zero_standard_dev_feat_over_months(file_name, feature_name, start_date_comments, end_date_comments)\n",
    "plot_standard_dev_feat_over_months(file_name, feature_name, start_date_comments, end_date_comments)"
   ]
  },
  {
   "cell_type": "code",
   "execution_count": null,
   "metadata": {},
   "outputs": [],
   "source": [
    "feature_name = \"number_of_comments_written_by_user_under_his_own_posts_median\"\n",
    "plot_non_zero_feat_over_months(file_name, feature_name, start_date_comments, end_date_comments)\n",
    "plot_non_zero_standard_dev_feat_over_months(file_name, feature_name, start_date_comments, end_date_comments)\n",
    "plot_standard_dev_feat_over_months(file_name, feature_name, start_date_comments, end_date_comments)"
   ]
  },
  {
   "cell_type": "code",
   "execution_count": null,
   "metadata": {},
   "outputs": [],
   "source": [
    "feature_name = \"number_of_comments_written_by_user_under_his_own_posts_q3\"\n",
    "plot_non_zero_feat_over_months(file_name, feature_name, start_date_comments, end_date_comments)\n",
    "plot_non_zero_standard_dev_feat_over_months(file_name, feature_name, start_date_comments, end_date_comments)\n",
    "plot_standard_dev_feat_over_months(file_name, feature_name, start_date_comments, end_date_comments)"
   ]
  },
  {
   "cell_type": "code",
   "execution_count": null,
   "metadata": {},
   "outputs": [],
   "source": [
    "feature_name = \"number_of_comments_written_by_user_under_his_own_posts_max\"\n",
    "plot_non_zero_feat_over_months(file_name, feature_name, start_date_comments, end_date_comments)\n",
    "plot_non_zero_standard_dev_feat_over_months(file_name, feature_name, start_date_comments, end_date_comments)\n",
    "plot_standard_dev_feat_over_months(file_name, feature_name, start_date_comments, end_date_comments)"
   ]
  },
  {
   "cell_type": "code",
   "execution_count": null,
   "metadata": {},
   "outputs": [],
   "source": [
    "feature_name = \"number_of_comments_written_by_user_under_his_own_posts_min\"\n",
    "plot_non_zero_feat_over_months(file_name, feature_name, start_date_comments, end_date_comments)\n",
    "plot_non_zero_standard_dev_feat_over_months(file_name, feature_name, start_date_comments, end_date_comments)\n",
    "plot_standard_dev_feat_over_months(file_name, feature_name, start_date_comments, end_date_comments)"
   ]
  },
  {
   "cell_type": "code",
   "execution_count": null,
   "metadata": {},
   "outputs": [],
   "source": []
  },
  {
   "cell_type": "code",
   "execution_count": null,
   "metadata": {},
   "outputs": [],
   "source": []
  },
  {
   "cell_type": "markdown",
   "metadata": {},
   "source": [
    "### NumberOfReceivedResponsesToUsersPostsWithoutZeros"
   ]
  },
  {
   "cell_type": "code",
   "execution_count": null,
   "metadata": {},
   "outputs": [],
   "source": [
    "file_name = \"NumberOfReceivedResponsesToUsersPostsWithoutZeros\"\n",
    "#features = [\"number_of_received_responses_to_users_posts_avg\",\"number_of_received_responses_to_users_posts_std\",\"number_of_received_responses_to_users_posts_median\",\"number_of_received_responses_to_users_posts_q3\",\"number_of_received_responses_to_users_posts_max\",\"number_of_received_responses_to_users_posts_min\"]"
   ]
  },
  {
   "cell_type": "code",
   "execution_count": null,
   "metadata": {},
   "outputs": [],
   "source": [
    "feature_name = \"number_of_received_responses_to_users_posts_avg\"\n",
    "plot_non_zero_feat_over_months(file_name, feature_name, start_date_comments, end_date_comments)\n",
    "plot_non_zero_standard_dev_feat_over_months(file_name, feature_name, start_date_comments, end_date_comments)\n",
    "plot_standard_dev_feat_over_months(file_name, feature_name, start_date_comments, end_date_comments)"
   ]
  },
  {
   "cell_type": "code",
   "execution_count": null,
   "metadata": {},
   "outputs": [],
   "source": [
    "feature_name = \"number_of_received_responses_to_users_posts_std\"\n",
    "plot_non_zero_feat_over_months(file_name, feature_name, start_date_comments, end_date_comments)\n",
    "plot_non_zero_standard_dev_feat_over_months(file_name, feature_name, start_date_comments, end_date_comments)\n",
    "plot_standard_dev_feat_over_months(file_name, feature_name, start_date_comments, end_date_comments)"
   ]
  },
  {
   "cell_type": "code",
   "execution_count": null,
   "metadata": {},
   "outputs": [],
   "source": [
    "feature_name = \"number_of_received_responses_to_users_posts_median\"\n",
    "plot_non_zero_feat_over_months(file_name, feature_name, start_date_comments, end_date_comments)\n",
    "plot_non_zero_standard_dev_feat_over_months(file_name, feature_name, start_date_comments, end_date_comments)\n",
    "plot_standard_dev_feat_over_months(file_name, feature_name, start_date_comments, end_date_comments)"
   ]
  },
  {
   "cell_type": "code",
   "execution_count": null,
   "metadata": {},
   "outputs": [],
   "source": [
    "feature_name = \"number_of_received_responses_to_users_posts_q3\"\n",
    "plot_non_zero_feat_over_months(file_name, feature_name, start_date_comments, end_date_comments)\n",
    "plot_non_zero_standard_dev_feat_over_months(file_name, feature_name, start_date_comments, end_date_comments)\n",
    "plot_standard_dev_feat_over_months(file_name, feature_name, start_date_comments, end_date_comments)"
   ]
  },
  {
   "cell_type": "code",
   "execution_count": null,
   "metadata": {},
   "outputs": [],
   "source": [
    "feature_name = \"number_of_received_responses_to_users_posts_max\"\n",
    "plot_non_zero_feat_over_months(file_name, feature_name, start_date_comments, end_date_comments)\n",
    "plot_non_zero_standard_dev_feat_over_months(file_name, feature_name, start_date_comments, end_date_comments)\n",
    "plot_standard_dev_feat_over_months(file_name, feature_name, start_date_comments, end_date_comments)"
   ]
  },
  {
   "cell_type": "code",
   "execution_count": null,
   "metadata": {},
   "outputs": [],
   "source": [
    "feature_name = \"number_of_received_responses_to_users_posts_min\"\n",
    "plot_non_zero_feat_over_months(file_name, feature_name, start_date_comments, end_date_comments)\n",
    "plot_non_zero_standard_dev_feat_over_months(file_name, feature_name, start_date_comments, end_date_comments)\n",
    "plot_standard_dev_feat_over_months(file_name, feature_name, start_date_comments, end_date_comments)"
   ]
  },
  {
   "cell_type": "code",
   "execution_count": null,
   "metadata": {},
   "outputs": [],
   "source": []
  },
  {
   "cell_type": "markdown",
   "metadata": {},
   "source": [
    "### NumberOfReceivedResponsesUnderUsersCommentsWithoutZeros"
   ]
  },
  {
   "cell_type": "code",
   "execution_count": null,
   "metadata": {},
   "outputs": [],
   "source": [
    "file_name = \"NumberOfReceivedResponsesUnderUsersCommentsWithoutZeros\""
   ]
  },
  {
   "cell_type": "code",
   "execution_count": null,
   "metadata": {},
   "outputs": [],
   "source": [
    "feature_name = \"number_of_received_responses_under_users_comments_avg\"\n",
    "plot_non_zero_feat_over_months(file_name, feature_name, start_date_comments, end_date_comments)\n",
    "plot_non_zero_standard_dev_feat_over_months(file_name, feature_name, start_date_comments, end_date_comments)\n",
    "plot_standard_dev_feat_over_months(file_name, feature_name, start_date_comments, end_date_comments)"
   ]
  },
  {
   "cell_type": "code",
   "execution_count": null,
   "metadata": {},
   "outputs": [],
   "source": [
    "feature_name = \"number_of_received_responses_under_users_comments_std\"\n",
    "plot_non_zero_feat_over_months(file_name, feature_name, start_date_comments, end_date_comments)\n",
    "plot_non_zero_standard_dev_feat_over_months(file_name, feature_name, start_date_comments, end_date_comments)\n",
    "plot_standard_dev_feat_over_months(file_name, feature_name, start_date_comments, end_date_comments)"
   ]
  },
  {
   "cell_type": "code",
   "execution_count": null,
   "metadata": {},
   "outputs": [],
   "source": [
    "feature_name = \"number_of_received_responses_under_users_comments_median\"\n",
    "plot_non_zero_feat_over_months(file_name, feature_name, start_date_comments, end_date_comments)\n",
    "plot_non_zero_standard_dev_feat_over_months(file_name, feature_name, start_date_comments, end_date_comments)\n",
    "plot_standard_dev_feat_over_months(file_name, feature_name, start_date_comments, end_date_comments)"
   ]
  },
  {
   "cell_type": "code",
   "execution_count": null,
   "metadata": {},
   "outputs": [],
   "source": [
    "feature_name = \"number_of_received_responses_under_users_comments_q3\"\n",
    "plot_non_zero_feat_over_months(file_name, feature_name, start_date_comments, end_date_comments)\n",
    "plot_non_zero_standard_dev_feat_over_months(file_name, feature_name, start_date_comments, end_date_comments)\n",
    "plot_standard_dev_feat_over_months(file_name, feature_name, start_date_comments, end_date_comments)"
   ]
  },
  {
   "cell_type": "code",
   "execution_count": null,
   "metadata": {},
   "outputs": [],
   "source": [
    "feature_name = \"number_of_received_responses_under_users_comments_max\"\n",
    "plot_non_zero_feat_over_months(file_name, feature_name, start_date_comments, end_date_comments)\n",
    "plot_non_zero_standard_dev_feat_over_months(file_name, feature_name, start_date_comments, end_date_comments)\n",
    "plot_standard_dev_feat_over_months(file_name, feature_name, start_date_comments, end_date_comments)"
   ]
  },
  {
   "cell_type": "code",
   "execution_count": null,
   "metadata": {},
   "outputs": [],
   "source": [
    "feature_name = \"number_of_received_responses_under_users_comments_min\"\n",
    "plot_non_zero_feat_over_months(file_name, feature_name, start_date_comments, end_date_comments)\n",
    "plot_non_zero_standard_dev_feat_over_months(file_name, feature_name, start_date_comments, end_date_comments)\n",
    "plot_standard_dev_feat_over_months(file_name, feature_name, start_date_comments, end_date_comments)"
   ]
  },
  {
   "cell_type": "code",
   "execution_count": null,
   "metadata": {},
   "outputs": [],
   "source": []
  },
  {
   "cell_type": "markdown",
   "metadata": {},
   "source": [
    "### NumberOfUsersPostsWithoutZeros"
   ]
  },
  {
   "cell_type": "code",
   "execution_count": null,
   "metadata": {},
   "outputs": [],
   "source": [
    "file_name = \"NumberOfUsersPostsWithoutZeros\""
   ]
  },
  {
   "cell_type": "code",
   "execution_count": null,
   "metadata": {},
   "outputs": [],
   "source": [
    "feature_name = \"number_of_posts\"\n",
    "plot_non_zero_feat_over_months(file_name, feature_name, start_date_comments, end_date_comments)\n",
    "plot_non_zero_standard_dev_feat_over_months(file_name, feature_name, start_date_comments, end_date_comments)\n",
    "plot_standard_dev_feat_over_months(file_name, feature_name, start_date_comments, end_date_comments)"
   ]
  },
  {
   "cell_type": "code",
   "execution_count": null,
   "metadata": {},
   "outputs": [],
   "source": []
  },
  {
   "cell_type": "markdown",
   "metadata": {},
   "source": [
    "### NumberOfWordsInOwnResponsesOfUsersPostsWithoutZeros"
   ]
  },
  {
   "cell_type": "code",
   "execution_count": null,
   "metadata": {},
   "outputs": [],
   "source": [
    "file_name = \"NumberOfWordsInOwnResponsesOfUsersPostsWithoutZeros\""
   ]
  },
  {
   "cell_type": "code",
   "execution_count": null,
   "metadata": {},
   "outputs": [],
   "source": [
    "feature_name = \"number_of_words_in_own_responses_of_users_posts_avg\"\n",
    "plot_non_zero_feat_over_months(file_name, feature_name, start_date_comments, end_date_comments)\n",
    "plot_non_zero_standard_dev_feat_over_months(file_name, feature_name, start_date_comments, end_date_comments)\n",
    "plot_standard_dev_feat_over_months(file_name, feature_name, start_date_comments, end_date_comments)"
   ]
  },
  {
   "cell_type": "code",
   "execution_count": null,
   "metadata": {},
   "outputs": [],
   "source": [
    "feature_name = \"number_of_words_in_own_responses_of_users_posts_std\"\n",
    "plot_non_zero_feat_over_months(file_name, feature_name, start_date_comments, end_date_comments)\n",
    "plot_non_zero_standard_dev_feat_over_months(file_name, feature_name, start_date_comments, end_date_comments)\n",
    "plot_standard_dev_feat_over_months(file_name, feature_name, start_date_comments, end_date_comments)"
   ]
  },
  {
   "cell_type": "code",
   "execution_count": null,
   "metadata": {},
   "outputs": [],
   "source": [
    "feature_name = \"nnumber_of_words_in_own_responses_of_users_posts_median\"\n",
    "plot_non_zero_feat_over_months(file_name, feature_name, start_date_comments, end_date_comments)\n",
    "plot_non_zero_standard_dev_feat_over_months(file_name, feature_name, start_date_comments, end_date_comments)\n",
    "plot_standard_dev_feat_over_months(file_name, feature_name, start_date_comments, end_date_comments)"
   ]
  },
  {
   "cell_type": "code",
   "execution_count": null,
   "metadata": {},
   "outputs": [],
   "source": [
    "feature_name = \"number_of_words_in_own_responses_of_users_posts_q3\"\n",
    "plot_non_zero_feat_over_months(file_name, feature_name, start_date_comments, end_date_comments)\n",
    "plot_non_zero_standard_dev_feat_over_months(file_name, feature_name, start_date_comments, end_date_comments)\n",
    "plot_standard_dev_feat_over_months(file_name, feature_name, start_date_comments, end_date_comments)"
   ]
  },
  {
   "cell_type": "code",
   "execution_count": null,
   "metadata": {},
   "outputs": [],
   "source": [
    "feature_name = \"number_of_words_in_own_responses_of_users_posts_max\"\n",
    "plot_non_zero_feat_over_months(file_name, feature_name, start_date_comments, end_date_comments)\n",
    "plot_non_zero_standard_dev_feat_over_months(file_name, feature_name, start_date_comments, end_date_comments)\n",
    "plot_standard_dev_feat_over_months(file_name, feature_name, start_date_comments, end_date_comments)"
   ]
  },
  {
   "cell_type": "code",
   "execution_count": null,
   "metadata": {},
   "outputs": [],
   "source": [
    "feature_name = \"number_of_words_in_own_responses_of_users_posts_min\"\n",
    "plot_non_zero_feat_over_months(file_name, feature_name, start_date_comments, end_date_comments)\n",
    "plot_non_zero_standard_dev_feat_over_months(file_name, feature_name, start_date_comments, end_date_comments)\n",
    "plot_standard_dev_feat_over_months(file_name, feature_name, start_date_comments, end_date_comments)"
   ]
  },
  {
   "cell_type": "code",
   "execution_count": null,
   "metadata": {},
   "outputs": [],
   "source": []
  },
  {
   "cell_type": "markdown",
   "metadata": {},
   "source": [
    "### NumberOfWordsInResponsesOfUsersPostsWithoutZeros"
   ]
  },
  {
   "cell_type": "code",
   "execution_count": null,
   "metadata": {},
   "outputs": [],
   "source": [
    "file_name = \"NumberOfWordsInResponsesOfUsersPostsWithoutZeros\""
   ]
  },
  {
   "cell_type": "code",
   "execution_count": null,
   "metadata": {},
   "outputs": [],
   "source": [
    "feature_name = \"number_of_words_in_responses_of_users_posts_avg\"\n",
    "plot_non_zero_feat_over_months(file_name, feature_name, start_date_comments, end_date_comments)\n",
    "plot_non_zero_standard_dev_feat_over_months(file_name, feature_name, start_date_comments, end_date_comments)\n",
    "plot_standard_dev_feat_over_months(file_name, feature_name, start_date_comments, end_date_comments)"
   ]
  },
  {
   "cell_type": "code",
   "execution_count": null,
   "metadata": {},
   "outputs": [],
   "source": [
    "feature_name = \"number_of_words_in_responses_of_users_posts_std\"\n",
    "plot_non_zero_feat_over_months(file_name, feature_name, start_date_comments, end_date_comments)\n",
    "plot_non_zero_standard_dev_feat_over_months(file_name, feature_name, start_date_comments, end_date_comments)\n",
    "plot_standard_dev_feat_over_months(file_name, feature_name, start_date_comments, end_date_comments)"
   ]
  },
  {
   "cell_type": "code",
   "execution_count": null,
   "metadata": {},
   "outputs": [],
   "source": [
    "feature_name = \"nnumber_of_words_in_responses_of_users_posts_median\"\n",
    "plot_non_zero_feat_over_months(file_name, feature_name, start_date_comments, end_date_comments)\n",
    "plot_non_zero_standard_dev_feat_over_months(file_name, feature_name, start_date_comments, end_date_comments)\n",
    "plot_standard_dev_feat_over_months(file_name, feature_name, start_date_comments, end_date_comments)"
   ]
  },
  {
   "cell_type": "code",
   "execution_count": null,
   "metadata": {},
   "outputs": [],
   "source": [
    "feature_name = \"number_of_words_in_responses_of_users_posts_q3\"\n",
    "plot_non_zero_feat_over_months(file_name, feature_name, start_date_comments, end_date_comments)\n",
    "plot_non_zero_standard_dev_feat_over_months(file_name, feature_name, start_date_comments, end_date_comments)\n",
    "plot_standard_dev_feat_over_months(file_name, feature_name, start_date_comments, end_date_comments)"
   ]
  },
  {
   "cell_type": "code",
   "execution_count": null,
   "metadata": {},
   "outputs": [],
   "source": [
    "feature_name = \"number_of_words_in_responses_of_users_posts_max\"\n",
    "plot_non_zero_feat_over_months(file_name, feature_name, start_date_comments, end_date_comments)\n",
    "plot_non_zero_standard_dev_feat_over_months(file_name, feature_name, start_date_comments, end_date_comments)\n",
    "plot_standard_dev_feat_over_months(file_name, feature_name, start_date_comments, end_date_comments)"
   ]
  },
  {
   "cell_type": "code",
   "execution_count": null,
   "metadata": {},
   "outputs": [],
   "source": [
    "feature_name = \"number_of_words_in_responses_of_users_posts_min\"\n",
    "plot_non_zero_feat_over_months(file_name, feature_name, start_date_comments, end_date_comments)\n",
    "plot_non_zero_standard_dev_feat_over_months(file_name, feature_name, start_date_comments, end_date_comments)\n",
    "plot_standard_dev_feat_over_months(file_name, feature_name, start_date_comments, end_date_comments)"
   ]
  },
  {
   "cell_type": "code",
   "execution_count": null,
   "metadata": {},
   "outputs": [],
   "source": []
  },
  {
   "cell_type": "code",
   "execution_count": null,
   "metadata": {},
   "outputs": [],
   "source": []
  },
  {
   "cell_type": "code",
   "execution_count": null,
   "metadata": {},
   "outputs": [],
   "source": []
  },
  {
   "cell_type": "code",
   "execution_count": null,
   "metadata": {},
   "outputs": [],
   "source": []
  },
  {
   "cell_type": "code",
   "execution_count": null,
   "metadata": {},
   "outputs": [],
   "source": []
  },
  {
   "cell_type": "code",
   "execution_count": null,
   "metadata": {},
   "outputs": [],
   "source": []
  },
  {
   "cell_type": "code",
   "execution_count": null,
   "metadata": {},
   "outputs": [],
   "source": []
  },
  {
   "cell_type": "code",
   "execution_count": null,
   "metadata": {},
   "outputs": [],
   "source": []
  },
  {
   "cell_type": "code",
   "execution_count": null,
   "metadata": {},
   "outputs": [],
   "source": []
  },
  {
   "cell_type": "code",
   "execution_count": null,
   "metadata": {},
   "outputs": [],
   "source": []
  },
  {
   "cell_type": "code",
   "execution_count": null,
   "metadata": {},
   "outputs": [],
   "source": []
  },
  {
   "cell_type": "code",
   "execution_count": null,
   "metadata": {},
   "outputs": [],
   "source": []
  },
  {
   "cell_type": "code",
   "execution_count": null,
   "metadata": {},
   "outputs": [],
   "source": []
  },
  {
   "cell_type": "code",
   "execution_count": null,
   "metadata": {},
   "outputs": [],
   "source": []
  },
  {
   "cell_type": "code",
   "execution_count": null,
   "metadata": {},
   "outputs": [],
   "source": []
  },
  {
   "cell_type": "code",
   "execution_count": null,
   "metadata": {},
   "outputs": [],
   "source": []
  },
  {
   "cell_type": "code",
   "execution_count": null,
   "metadata": {},
   "outputs": [],
   "source": []
  },
  {
   "cell_type": "code",
   "execution_count": null,
   "metadata": {},
   "outputs": [],
   "source": []
  },
  {
   "cell_type": "code",
   "execution_count": null,
   "metadata": {},
   "outputs": [],
   "source": []
  },
  {
   "cell_type": "code",
   "execution_count": null,
   "metadata": {},
   "outputs": [],
   "source": []
  },
  {
   "cell_type": "markdown",
   "metadata": {},
   "source": [
    "### NumberOfWordsInUsersCommentsWithoutZeros"
   ]
  },
  {
   "cell_type": "code",
   "execution_count": null,
   "metadata": {},
   "outputs": [],
   "source": [
    "file_name = \"NumberOfWordsInUsersCommentsWithoutZeros\""
   ]
  },
  {
   "cell_type": "code",
   "execution_count": null,
   "metadata": {},
   "outputs": [],
   "source": [
    "feature_name = \"number_of_words_in_users_comments_avg\"\n",
    "plot_non_zero_feat_over_months(file_name, feature_name, start_date_comments, end_date_comments)\n",
    "plot_non_zero_standard_dev_feat_over_months(file_name, feature_name, start_date_comments, end_date_comments)\n",
    "plot_standard_dev_feat_over_months(file_name, feature_name, start_date_comments, end_date_comments)"
   ]
  },
  {
   "cell_type": "code",
   "execution_count": null,
   "metadata": {},
   "outputs": [],
   "source": [
    "feature_name = \"number_of_words_in_users_comments_std\"\n",
    "plot_non_zero_feat_over_months(file_name, feature_name, start_date_comments, end_date_comments)\n",
    "plot_non_zero_standard_dev_feat_over_months(file_name, feature_name, start_date_comments, end_date_comments)\n",
    "plot_standard_dev_feat_over_months(file_name, feature_name, start_date_comments, end_date_comments)"
   ]
  },
  {
   "cell_type": "code",
   "execution_count": null,
   "metadata": {},
   "outputs": [],
   "source": [
    "feature_name = \"number_of_words_in_users_comments_median\"\n",
    "plot_non_zero_feat_over_months(file_name, feature_name, start_date_comments, end_date_comments)\n",
    "plot_non_zero_standard_dev_feat_over_months(file_name, feature_name, start_date_comments, end_date_comments)\n",
    "plot_standard_dev_feat_over_months(file_name, feature_name, start_date_comments, end_date_comments)"
   ]
  },
  {
   "cell_type": "code",
   "execution_count": null,
   "metadata": {},
   "outputs": [],
   "source": [
    "feature_name = \"number_of_words_in_users_comments_q3\"\n",
    "plot_non_zero_feat_over_months(file_name, feature_name, start_date_comments, end_date_comments)\n",
    "plot_non_zero_standard_dev_feat_over_months(file_name, feature_name, start_date_comments, end_date_comments)\n",
    "plot_standard_dev_feat_over_months(file_name, feature_name, start_date_comments, end_date_comments)"
   ]
  },
  {
   "cell_type": "code",
   "execution_count": null,
   "metadata": {},
   "outputs": [],
   "source": [
    "feature_name = \"number_of_words_in_users_comments_max\"\n",
    "plot_non_zero_feat_over_months(file_name, feature_name, start_date_comments, end_date_comments)\n",
    "plot_non_zero_standard_dev_feat_over_months(file_name, feature_name, start_date_comments, end_date_comments)\n",
    "plot_standard_dev_feat_over_months(file_name, feature_name, start_date_comments, end_date_comments)"
   ]
  },
  {
   "cell_type": "code",
   "execution_count": null,
   "metadata": {},
   "outputs": [],
   "source": [
    "feature_name = \"number_of_words_in_users_comments_min\"\n",
    "plot_non_zero_feat_over_months(file_name, feature_name, start_date_comments, end_date_comments)\n",
    "plot_non_zero_standard_dev_feat_over_months(file_name, feature_name, start_date_comments, end_date_comments)\n",
    "plot_standard_dev_feat_over_months(file_name, feature_name, start_date_comments, end_date_comments)"
   ]
  },
  {
   "cell_type": "code",
   "execution_count": null,
   "metadata": {},
   "outputs": [],
   "source": []
  },
  {
   "cell_type": "markdown",
   "metadata": {},
   "source": [
    "### NumberOfWordsInUsersPostsWithoutZeros"
   ]
  },
  {
   "cell_type": "code",
   "execution_count": null,
   "metadata": {},
   "outputs": [],
   "source": [
    "file_name = \"NumberOfWordsInUsersPostsWithoutZeros\""
   ]
  },
  {
   "cell_type": "code",
   "execution_count": null,
   "metadata": {},
   "outputs": [],
   "source": [
    "feature_name = \"number_of_words_in_users_posts_avg\"\n",
    "plot_non_zero_feat_over_months(file_name, feature_name, start_date_comments, end_date_comments)\n",
    "plot_non_zero_standard_dev_feat_over_months(file_name, feature_name, start_date_comments, end_date_comments)\n",
    "plot_standard_dev_feat_over_months(file_name, feature_name, start_date_comments, end_date_comments)"
   ]
  },
  {
   "cell_type": "code",
   "execution_count": null,
   "metadata": {},
   "outputs": [],
   "source": [
    "feature_name = \"number_of_words_in_users_posts_std\"\n",
    "plot_non_zero_feat_over_months(file_name, feature_name, start_date_comments, end_date_comments)\n",
    "plot_non_zero_standard_dev_feat_over_months(file_name, feature_name, start_date_comments, end_date_comments)\n",
    "plot_standard_dev_feat_over_months(file_name, feature_name, start_date_comments, end_date_comments)"
   ]
  },
  {
   "cell_type": "code",
   "execution_count": null,
   "metadata": {},
   "outputs": [],
   "source": [
    "feature_name = \"number_of_words_in_users_posts_median\"\n",
    "plot_non_zero_feat_over_months(file_name, feature_name, start_date_comments, end_date_comments)\n",
    "plot_non_zero_standard_dev_feat_over_months(file_name, feature_name, start_date_comments, end_date_comments)\n",
    "plot_standard_dev_feat_over_months(file_name, feature_name, start_date_comments, end_date_comments)"
   ]
  },
  {
   "cell_type": "code",
   "execution_count": null,
   "metadata": {},
   "outputs": [],
   "source": [
    "feature_name = \"number_of_words_in_users_posts_q3\"\n",
    "plot_non_zero_feat_over_months(file_name, feature_name, start_date_comments, end_date_comments)\n",
    "plot_non_zero_standard_dev_feat_over_months(file_name, feature_name, start_date_comments, end_date_comments)\n",
    "plot_standard_dev_feat_over_months(file_name, feature_name, start_date_comments, end_date_comments)"
   ]
  },
  {
   "cell_type": "code",
   "execution_count": null,
   "metadata": {},
   "outputs": [],
   "source": [
    "feature_name = \"number_of_words_in_users_posts_max\"\n",
    "plot_non_zero_feat_over_months(file_name, feature_name, start_date_comments, end_date_comments)\n",
    "plot_non_zero_standard_dev_feat_over_months(file_name, feature_name, start_date_comments, end_date_comments)\n",
    "plot_standard_dev_feat_over_months(file_name, feature_name, start_date_comments, end_date_comments)"
   ]
  },
  {
   "cell_type": "code",
   "execution_count": null,
   "metadata": {},
   "outputs": [],
   "source": [
    "feature_name = \"number_of_words_in_users_posts_min\"\n",
    "plot_non_zero_feat_over_months(file_name, feature_name, start_date_comments, end_date_comments)\n",
    "plot_non_zero_standard_dev_feat_over_months(file_name, feature_name, start_date_comments, end_date_comments)\n",
    "plot_standard_dev_feat_over_months(file_name, feature_name, start_date_comments, end_date_comments)"
   ]
  },
  {
   "cell_type": "code",
   "execution_count": null,
   "metadata": {},
   "outputs": [],
   "source": []
  },
  {
   "cell_type": "markdown",
   "metadata": {},
   "source": [
    "### NumberOfWrittenCommentsToOtherUsersPostsWithoutZeros"
   ]
  },
  {
   "cell_type": "code",
   "execution_count": null,
   "metadata": {},
   "outputs": [],
   "source": [
    "file_name = \"NumberOfWrittenCommentsToOtherUsersPostsWithoutZeros\""
   ]
  },
  {
   "cell_type": "code",
   "execution_count": null,
   "metadata": {},
   "outputs": [],
   "source": [
    "feature_name = \"number_of_written_comments_to_other_users_posts\"\n",
    "plot_non_zero_feat_over_months(file_name, feature_name, start_date_comments, end_date_comments)\n",
    "plot_non_zero_standard_dev_feat_over_months(file_name, feature_name, start_date_comments, end_date_comments)\n",
    "plot_standard_dev_feat_over_months(file_name, feature_name, start_date_comments, end_date_comments)"
   ]
  },
  {
   "cell_type": "code",
   "execution_count": null,
   "metadata": {},
   "outputs": [],
   "source": []
  },
  {
   "cell_type": "markdown",
   "metadata": {},
   "source": [
    "### SentimentOfUsersCommentsWithoutZeros"
   ]
  },
  {
   "cell_type": "code",
   "execution_count": null,
   "metadata": {},
   "outputs": [],
   "source": [
    "file_name = \"SentimentOfUsersCommentsWithoutZeros\""
   ]
  },
  {
   "cell_type": "code",
   "execution_count": null,
   "metadata": {},
   "outputs": [],
   "source": [
    "feature_name = \"comments_sentiment_avg\"\n",
    "plot_non_zero_feat_over_months(file_name, feature_name, start_date_comments, end_date_comments)\n",
    "plot_non_zero_standard_dev_feat_over_months(file_name, feature_name, start_date_comments, end_date_comments)\n",
    "plot_standard_dev_feat_over_months(file_name, feature_name, start_date_comments, end_date_comments)"
   ]
  },
  {
   "cell_type": "code",
   "execution_count": null,
   "metadata": {},
   "outputs": [],
   "source": [
    "feature_name = \"comments_sentiment_stddev\"\n",
    "plot_non_zero_feat_over_months(file_name, feature_name, start_date_comments, end_date_comments)\n",
    "plot_non_zero_standard_dev_feat_over_months(file_name, feature_name, start_date_comments, end_date_comments)\n",
    "plot_standard_dev_feat_over_months(file_name, feature_name, start_date_comments, end_date_comments)"
   ]
  },
  {
   "cell_type": "code",
   "execution_count": null,
   "metadata": {},
   "outputs": [],
   "source": [
    "feature_name = \"comments_sentiment_median\"\n",
    "plot_non_zero_feat_over_months(file_name, feature_name, start_date_comments, end_date_comments)\n",
    "plot_non_zero_standard_dev_feat_over_months(file_name, feature_name, start_date_comments, end_date_comments)\n",
    "plot_standard_dev_feat_over_months(file_name, feature_name, start_date_comments, end_date_comments)"
   ]
  },
  {
   "cell_type": "code",
   "execution_count": null,
   "metadata": {},
   "outputs": [],
   "source": [
    "feature_name = \"comments_sentiment_q3\"\n",
    "plot_non_zero_feat_over_months(file_name, feature_name, start_date_comments, end_date_comments)\n",
    "plot_non_zero_standard_dev_feat_over_months(file_name, feature_name, start_date_comments, end_date_comments)\n",
    "plot_standard_dev_feat_over_months(file_name, feature_name, start_date_comments, end_date_comments)"
   ]
  },
  {
   "cell_type": "code",
   "execution_count": null,
   "metadata": {},
   "outputs": [],
   "source": [
    "feature_name = \"comments_sentiment_max\"\n",
    "plot_non_zero_feat_over_months(file_name, feature_name, start_date_comments, end_date_comments)\n",
    "plot_non_zero_standard_dev_feat_over_months(file_name, feature_name, start_date_comments, end_date_comments)\n",
    "plot_standard_dev_feat_over_months(file_name, feature_name, start_date_comments, end_date_comments)"
   ]
  },
  {
   "cell_type": "code",
   "execution_count": null,
   "metadata": {},
   "outputs": [],
   "source": [
    "feature_name = \"comments_sentiment_min\"\n",
    "plot_non_zero_feat_over_months(file_name, feature_name, start_date_comments, end_date_comments)\n",
    "plot_non_zero_standard_dev_feat_over_months(file_name, feature_name, start_date_comments, end_date_comments)\n",
    "plot_standard_dev_feat_over_months(file_name, feature_name, start_date_comments, end_date_comments)"
   ]
  },
  {
   "cell_type": "code",
   "execution_count": null,
   "metadata": {},
   "outputs": [],
   "source": []
  },
  {
   "cell_type": "markdown",
   "metadata": {},
   "source": [
    "### SentimentOfUsersPostsWithoutZeros"
   ]
  },
  {
   "cell_type": "code",
   "execution_count": null,
   "metadata": {},
   "outputs": [],
   "source": [
    "file_name = \"SentimentOfUsersPostsWithoutZeros\""
   ]
  },
  {
   "cell_type": "code",
   "execution_count": null,
   "metadata": {},
   "outputs": [],
   "source": [
    "feature_name = \"posts_sentiment_avg\"\n",
    "plot_non_zero_feat_over_months(file_name, feature_name, start_date_comments, end_date_comments)\n",
    "plot_non_zero_standard_dev_feat_over_months(file_name, feature_name, start_date_comments, end_date_comments)\n",
    "plot_standard_dev_feat_over_months(file_name, feature_name, start_date_comments, end_date_comments)"
   ]
  },
  {
   "cell_type": "code",
   "execution_count": null,
   "metadata": {},
   "outputs": [],
   "source": [
    "feature_name = \"posts_sentiment_stddev\"\n",
    "plot_non_zero_feat_over_months(file_name, feature_name, start_date_comments, end_date_comments)\n",
    "plot_non_zero_standard_dev_feat_over_months(file_name, feature_name, start_date_comments, end_date_comments)\n",
    "plot_standard_dev_feat_over_months(file_name, feature_name, start_date_comments, end_date_comments)"
   ]
  },
  {
   "cell_type": "code",
   "execution_count": null,
   "metadata": {},
   "outputs": [],
   "source": [
    "feature_name = \"posts_sentiment_median\"\n",
    "plot_non_zero_feat_over_months(file_name, feature_name, start_date_comments, end_date_comments)\n",
    "plot_non_zero_standard_dev_feat_over_months(file_name, feature_name, start_date_comments, end_date_comments)\n",
    "plot_standard_dev_feat_over_months(file_name, feature_name, start_date_comments, end_date_comments)"
   ]
  },
  {
   "cell_type": "code",
   "execution_count": null,
   "metadata": {},
   "outputs": [],
   "source": [
    "feature_name = \"posts_sentiment_q3\"\n",
    "plot_non_zero_feat_over_months(file_name, feature_name, start_date_comments, end_date_comments)\n",
    "plot_non_zero_standard_dev_feat_over_months(file_name, feature_name, start_date_comments, end_date_comments)\n",
    "plot_standard_dev_feat_over_months(file_name, feature_name, start_date_comments, end_date_comments)"
   ]
  },
  {
   "cell_type": "code",
   "execution_count": null,
   "metadata": {},
   "outputs": [],
   "source": [
    "feature_name = \"posts_sentiment_max\"\n",
    "plot_non_zero_feat_over_months(file_name, feature_name, start_date_comments, end_date_comments)\n",
    "plot_non_zero_standard_dev_feat_over_months(file_name, feature_name, start_date_comments, end_date_comments)\n",
    "plot_standard_dev_feat_over_months(file_name, feature_name, start_date_comments, end_date_comments)"
   ]
  },
  {
   "cell_type": "code",
   "execution_count": null,
   "metadata": {},
   "outputs": [],
   "source": [
    "feature_name = \"posts_sentiment_min\"\n",
    "plot_non_zero_feat_over_months(file_name, feature_name, start_date_comments, end_date_comments)\n",
    "plot_non_zero_standard_dev_feat_over_months(file_name, feature_name, start_date_comments, end_date_comments)\n",
    "plot_standard_dev_feat_over_months(file_name, feature_name, start_date_comments, end_date_comments)"
   ]
  },
  {
   "cell_type": "code",
   "execution_count": null,
   "metadata": {},
   "outputs": [],
   "source": []
  },
  {
   "cell_type": "markdown",
   "metadata": {},
   "source": [
    "### SentimentOfUsersResponsesToUserPostsWithoutZeros"
   ]
  },
  {
   "cell_type": "code",
   "execution_count": null,
   "metadata": {},
   "outputs": [],
   "source": [
    "file_name = \"SentimentOfUsersResponsesToUserPostsWithoutZeros\""
   ]
  },
  {
   "cell_type": "code",
   "execution_count": null,
   "metadata": {},
   "outputs": [],
   "source": [
    "feature_name = \"received_comments_sentiment_avg\"\n",
    "plot_non_zero_feat_over_months(file_name, feature_name, start_date_comments, end_date_comments)\n",
    "plot_non_zero_standard_dev_feat_over_months(file_name, feature_name, start_date_comments, end_date_comments)\n",
    "plot_standard_dev_feat_over_months(file_name, feature_name, start_date_comments, end_date_comments)"
   ]
  },
  {
   "cell_type": "code",
   "execution_count": null,
   "metadata": {},
   "outputs": [],
   "source": [
    "feature_name = \"received_comments_sentiment_stddev\"\n",
    "plot_non_zero_feat_over_months(file_name, feature_name, start_date_comments, end_date_comments)\n",
    "plot_non_zero_standard_dev_feat_over_months(file_name, feature_name, start_date_comments, end_date_comments)\n",
    "plot_standard_dev_feat_over_months(file_name, feature_name, start_date_comments, end_date_comments)"
   ]
  },
  {
   "cell_type": "code",
   "execution_count": null,
   "metadata": {},
   "outputs": [],
   "source": [
    "feature_name = \"received_comments_sentiment__median\"\n",
    "plot_non_zero_feat_over_months(file_name, feature_name, start_date_comments, end_date_comments)\n",
    "plot_non_zero_standard_dev_feat_over_months(file_name, feature_name, start_date_comments, end_date_comments)\n",
    "plot_standard_dev_feat_over_months(file_name, feature_name, start_date_comments, end_date_comments)"
   ]
  },
  {
   "cell_type": "code",
   "execution_count": null,
   "metadata": {},
   "outputs": [],
   "source": [
    "feature_name = \"received_comments_sentiment_q3\"\n",
    "plot_non_zero_feat_over_months(file_name, feature_name, start_date_comments, end_date_comments)\n",
    "plot_non_zero_standard_dev_feat_over_months(file_name, feature_name, start_date_comments, end_date_comments)\n",
    "plot_standard_dev_feat_over_months(file_name, feature_name, start_date_comments, end_date_comments)"
   ]
  },
  {
   "cell_type": "code",
   "execution_count": null,
   "metadata": {},
   "outputs": [],
   "source": [
    "feature_name = \"received_comments_sentiment_max\"\n",
    "plot_non_zero_feat_over_months(file_name, feature_name, start_date_comments, end_date_comments)\n",
    "plot_non_zero_standard_dev_feat_over_months(file_name, feature_name, start_date_comments, end_date_comments)\n",
    "plot_standard_dev_feat_over_months(file_name, feature_name, start_date_comments, end_date_comments)"
   ]
  },
  {
   "cell_type": "code",
   "execution_count": null,
   "metadata": {},
   "outputs": [],
   "source": [
    "feature_name = \"received_comments_sentiment_min\"\n",
    "plot_non_zero_feat_over_months(file_name, feature_name, start_date_comments, end_date_comments)\n",
    "plot_non_zero_standard_dev_feat_over_months(file_name, feature_name, start_date_comments, end_date_comments)\n",
    "plot_standard_dev_feat_over_months(file_name, feature_name, start_date_comments, end_date_comments)"
   ]
  },
  {
   "cell_type": "code",
   "execution_count": null,
   "metadata": {},
   "outputs": [],
   "source": []
  },
  {
   "cell_type": "code",
   "execution_count": null,
   "metadata": {},
   "outputs": [],
   "source": []
  }
 ],
 "metadata": {
  "kernelspec": {
   "display_name": "Python 3",
   "language": "python",
   "name": "python3"
  },
  "language_info": {
   "codemirror_mode": {
    "name": "ipython",
    "version": 3
   },
   "file_extension": ".py",
   "mimetype": "text/x-python",
   "name": "python",
   "nbconvert_exporter": "python",
   "pygments_lexer": "ipython3",
   "version": "3.7.5"
  }
 },
 "nbformat": 4,
 "nbformat_minor": 2
}
