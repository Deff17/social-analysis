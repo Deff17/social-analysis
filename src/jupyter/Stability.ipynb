{
 "cells": [
  {
   "cell_type": "code",
   "execution_count": null,
   "metadata": {},
   "outputs": [],
   "source": [
    "import psycopg2\n",
    "import pandas as pd\n",
    "import os\n",
    "import itertools\n",
    "import numpy as np\n",
    "import matplotlib.pyplot as plt"
   ]
  },
  {
   "cell_type": "code",
   "execution_count": null,
   "metadata": {},
   "outputs": [],
   "source": [
    "conn = psycopg2.connect(\n",
    "    host='localhost',\n",
    "    port=54320,\n",
    "    dbname='my_database',\n",
    "    password='pass',\n",
    "    user='user',\n",
    "    )"
   ]
  },
  {
   "cell_type": "code",
   "execution_count": null,
   "metadata": {},
   "outputs": [],
   "source": [
    "def get_ordered_users_with_roles():\n",
    "    cur = conn.cursor()\n",
    "    query = \"\"\"\n",
    "    SELECT user_id, label, date\n",
    "    FROM user_mapping\n",
    "    ORDER BY user_id, date\n",
    "    \"\"\"\n",
    "    cur.execute(query)\n",
    "    res = cur.fetchall()\n",
    "    conn.commit()\n",
    "    cur.close()\n",
    "    return res"
   ]
  },
  {
   "cell_type": "code",
   "execution_count": null,
   "metadata": {},
   "outputs": [],
   "source": [
    "user_mappings = get_ordered_users_with_roles()"
   ]
  },
  {
   "cell_type": "code",
   "execution_count": null,
   "metadata": {},
   "outputs": [],
   "source": [
    "df = pd.DataFrame(user_mappings, columns = [\"user_id\", \"label\", \"date\"] )"
   ]
  },
  {
   "cell_type": "code",
   "execution_count": null,
   "metadata": {},
   "outputs": [],
   "source": [
    "def count_stability(df):\n",
    "    leng = len(df)\n",
    "    \n",
    "    first_row = df.iloc[0]\n",
    "    tail = df[1:]\n",
    "    changes = {}\n",
    "    stability = {}\n",
    "    count = 1\n",
    "    for index, row in tail.iterrows():\n",
    "        \n",
    "        if index % 100000 == 0:\n",
    "            print(str(index /leng))\n",
    "        \n",
    "        if first_row[\"user_id\"] == row[\"user_id\"]:\n",
    "            keyChange = first_row[\"label\"] + \" -> \" + row[\"label\"]\n",
    "            keyStability = first_row[\"label\"] + \" -> \" + first_row[\"label\"]\n",
    "        \n",
    "            if first_row[\"label\"] != row[\"label\"]:\n",
    "            \n",
    "                if stability.get(keyStability):\n",
    "                    stability.get(keyStability).append(count)\n",
    "                else:\n",
    "                    stability[keyStability] = [count]\n",
    "                \n",
    "            \n",
    "                if changes.get(keyChange):\n",
    "                    changes[keyChange] = changes.get(keyChange) + 1\n",
    "                else:\n",
    "                    changes[keyChange] = 1\n",
    "                \n",
    "                count = 1\n",
    "            else:\n",
    "                count = count + 1\n",
    "        else:\n",
    "            count = 1\n",
    "            \n",
    "        first_row = row\n",
    "    return changes, stability\n",
    "\n"
   ]
  },
  {
   "cell_type": "code",
   "execution_count": null,
   "metadata": {
    "scrolled": false
   },
   "outputs": [],
   "source": [
    "changes, stability = count_stability(df)"
   ]
  },
  {
   "cell_type": "code",
   "execution_count": null,
   "metadata": {},
   "outputs": [],
   "source": [
    "changes_df = pd.DataFrame(changes, index=[0]).T"
   ]
  },
  {
   "cell_type": "code",
   "execution_count": null,
   "metadata": {
    "scrolled": true
   },
   "outputs": [],
   "source": [
    "changes_df_sorted = changes_df.sort_values(0, ascending=False)"
   ]
  },
  {
   "cell_type": "code",
   "execution_count": null,
   "metadata": {},
   "outputs": [],
   "source": [
    "changes_df_sorted.columns = [\"number of changes\"]"
   ]
  },
  {
   "cell_type": "code",
   "execution_count": null,
   "metadata": {},
   "outputs": [],
   "source": [
    "changes_df_sorted # moze warto dodac tu procentowo ile to bylo zmian czyli 3 -> 0 = ilosc zmian / ilosc klastrow 3 *100"
   ]
  },
  {
   "cell_type": "code",
   "execution_count": null,
   "metadata": {},
   "outputs": [],
   "source": [
    "stability_stats = pd.DataFrame()\n",
    "for key in stability:\n",
    "    stability_stats[key] = pd.Series(stability.get(key)).describe()"
   ]
  },
  {
   "cell_type": "code",
   "execution_count": null,
   "metadata": {},
   "outputs": [],
   "source": [
    "stability_stats[1:]"
   ]
  },
  {
   "cell_type": "markdown",
   "metadata": {},
   "source": [
    "### Changes in influential roles"
   ]
  },
  {
   "cell_type": "code",
   "execution_count": null,
   "metadata": {},
   "outputs": [],
   "source": [
    "def flat(list2):\n",
    "    return [e[0] for e in list2]"
   ]
  },
  {
   "cell_type": "code",
   "execution_count": null,
   "metadata": {},
   "outputs": [],
   "source": [
    "def get_all_users_with_role(role):\n",
    "    cur = conn.cursor()\n",
    "    query = f\"\"\"\n",
    "    SELECT DISTINCT user_id\n",
    "    FROM user_mapping\n",
    "    WHERE label = '{role}'\n",
    "    \"\"\"\n",
    "    cur.execute(query)\n",
    "    res = cur.fetchall()\n",
    "    conn.commit()\n",
    "    cur.close()\n",
    "    return res"
   ]
  },
  {
   "cell_type": "code",
   "execution_count": null,
   "metadata": {},
   "outputs": [],
   "source": []
  },
  {
   "cell_type": "code",
   "execution_count": null,
   "metadata": {},
   "outputs": [],
   "source": [
    "users_with_role_6 = get_all_users_with_role(\"6\")"
   ]
  },
  {
   "cell_type": "code",
   "execution_count": null,
   "metadata": {},
   "outputs": [],
   "source": [
    "users_with_role_6 = flat(users_with_role_6)"
   ]
  },
  {
   "cell_type": "code",
   "execution_count": null,
   "metadata": {},
   "outputs": [],
   "source": [
    "users_with_role_6"
   ]
  },
  {
   "cell_type": "code",
   "execution_count": null,
   "metadata": {},
   "outputs": [],
   "source": [
    "def get_all_dates():\n",
    "    cur = conn.cursor()\n",
    "    query = f\"\"\"\n",
    "    SELECT DISTINCT date \n",
    "    FROM user_mapping \n",
    "    WHERE user_id = '625'\n",
    "    ORDER BY date;\n",
    "    \"\"\"\n",
    "    cur.execute(query)\n",
    "    res = cur.fetchall()\n",
    "    conn.commit()\n",
    "    cur.close()\n",
    "    return res"
   ]
  },
  {
   "cell_type": "code",
   "execution_count": null,
   "metadata": {},
   "outputs": [],
   "source": [
    "dates = pd.DataFrame(get_all_dates(), columns=[\"date\"])"
   ]
  },
  {
   "cell_type": "code",
   "execution_count": null,
   "metadata": {},
   "outputs": [],
   "source": [
    "def get_all_labels_for_user(user_id):\n",
    "    cur = conn.cursor()\n",
    "    query = f\"\"\"\n",
    "    SELECT date, label\n",
    "    FROM user_mapping \n",
    "    WHERE user_id = '{user_id}'\n",
    "    ORDER BY date;\n",
    "    \"\"\"\n",
    "    cur.execute(query)\n",
    "    res = cur.fetchall()\n",
    "    conn.commit()\n",
    "    cur.close()\n",
    "    return res"
   ]
  },
  {
   "cell_type": "code",
   "execution_count": null,
   "metadata": {},
   "outputs": [],
   "source": [
    "user_labels = get_all_labels_for_user(856)"
   ]
  },
  {
   "cell_type": "code",
   "execution_count": null,
   "metadata": {},
   "outputs": [],
   "source": [
    "user_labels_df = pd.DataFrame(user_labels, columns=[\"date\", \"label\" ])"
   ]
  },
  {
   "cell_type": "code",
   "execution_count": null,
   "metadata": {},
   "outputs": [],
   "source": [
    "user_labels_df"
   ]
  },
  {
   "cell_type": "code",
   "execution_count": null,
   "metadata": {},
   "outputs": [],
   "source": [
    "pd.merge(dates, user_labels_df, on='date', how='left')"
   ]
  },
  {
   "cell_type": "code",
   "execution_count": null,
   "metadata": {},
   "outputs": [],
   "source": [
    "def prepare_slots_for_users_with_label(label):\n",
    "    base = pd.DataFrame(get_all_dates(), columns=[\"date\"])\n",
    "    users_with_role = flat(get_all_users_with_role(label))\n",
    "    for user_id in users_with_role:\n",
    "        user_labels = get_all_labels_for_user(user_id)\n",
    "        user_labels_df = pd.DataFrame(user_labels, columns=[\"date\", \"label\" ])\n",
    "        base = pd.merge(base, user_labels_df, on='date', how='left')\n",
    "    base = base.fillna(-1)\n",
    "    columns = [\"date\"]\n",
    "    columns.extend(users_with_role)\n",
    "    base.columns = columns\n",
    "    \n",
    "    conv_dict = { feat : int for feat in users_with_role }\n",
    "    \n",
    "    base = base.astype(conv_dict)\n",
    "    \n",
    "    plt.figure(figsize=(20,10))\n",
    "    for user_id in users_with_role:\n",
    "        plt.plot(base.index, base[user_id])\n",
    "        \n",
    "    plt.title(\"Roles of users who were at least once in role of {}\".format(label))\n",
    "    plt.ylabel(\"Role number\")\n",
    "    plt.xlabel(\"Slot number\")\n",
    "    plt.legend()\n",
    "    plt.show()\n",
    "    return base"
   ]
  },
  {
   "cell_type": "code",
   "execution_count": null,
   "metadata": {},
   "outputs": [],
   "source": [
    "slots_df = prepare_slots_for_users_with_label(6)"
   ]
  },
  {
   "cell_type": "code",
   "execution_count": null,
   "metadata": {},
   "outputs": [],
   "source": [
    "slots_df = prepare_slots_for_users_with_label(1)"
   ]
  },
  {
   "cell_type": "code",
   "execution_count": null,
   "metadata": {},
   "outputs": [],
   "source": [
    "slots_df = prepare_slots_for_users_with_label(4)"
   ]
  },
  {
   "cell_type": "code",
   "execution_count": null,
   "metadata": {},
   "outputs": [],
   "source": []
  },
  {
   "cell_type": "code",
   "execution_count": null,
   "metadata": {},
   "outputs": [],
   "source": []
  },
  {
   "cell_type": "code",
   "execution_count": null,
   "metadata": {},
   "outputs": [],
   "source": []
  },
  {
   "cell_type": "code",
   "execution_count": null,
   "metadata": {},
   "outputs": [],
   "source": [
    "user_mappings = get_ordered_users_with_roles()"
   ]
  },
  {
   "cell_type": "code",
   "execution_count": null,
   "metadata": {},
   "outputs": [],
   "source": [
    "df = pd.DataFrame(user_mappings, columns = [\"user_id\", \"label\", \"date\"] )"
   ]
  },
  {
   "cell_type": "code",
   "execution_count": null,
   "metadata": {
    "scrolled": true
   },
   "outputs": [],
   "source": [
    "len(df[\"user_id\"].unique())"
   ]
  },
  {
   "cell_type": "code",
   "execution_count": null,
   "metadata": {},
   "outputs": [],
   "source": [
    "start_date = datetime.date(2009,12,22)\n",
    "end_date = start_date + timedelta((2 - 1)*14)"
   ]
  },
  {
   "cell_type": "code",
   "execution_count": null,
   "metadata": {},
   "outputs": [],
   "source": [
    "mappings_for_n = df[(df['date'] >= str(start_date)) & (df['date'] <= str(end_date)) & (df['user_id'] == 590)]"
   ]
  },
  {
   "cell_type": "code",
   "execution_count": null,
   "metadata": {},
   "outputs": [],
   "source": [
    "mappings_for_n"
   ]
  },
  {
   "cell_type": "code",
   "execution_count": null,
   "metadata": {},
   "outputs": [],
   "source": [
    "l = df[5:10]"
   ]
  },
  {
   "cell_type": "code",
   "execution_count": null,
   "metadata": {},
   "outputs": [],
   "source": [
    "df.loc[590]"
   ]
  },
  {
   "cell_type": "code",
   "execution_count": null,
   "metadata": {},
   "outputs": [],
   "source": [
    "for index, row in l.iterrows():\n",
    "    print(row[\"label\"])"
   ]
  },
  {
   "cell_type": "code",
   "execution_count": null,
   "metadata": {},
   "outputs": [],
   "source": [
    "def is_the_same(mappings, n):\n",
    "    if len(mappings) < n:\n",
    "        return False\n",
    "    \n",
    "    if n == 0:\n",
    "        return True\n",
    "    \n",
    "    first_row = mappings.iloc[0]\n",
    "    tail = mappings[1:]\n",
    "    \n",
    "    for index, row in tail.iterrows():\n",
    "        if row[\"user_id\"] != first_row[\"user_id\"]:\n",
    "            return False\n",
    "        if row[\"label\"] != first_row[\"label\"]:\n",
    "            return False\n",
    "        first_row = row\n",
    "    return True"
   ]
  },
  {
   "cell_type": "code",
   "execution_count": null,
   "metadata": {},
   "outputs": [],
   "source": [
    "is_the_same(l, 5)"
   ]
  },
  {
   "cell_type": "code",
   "execution_count": null,
   "metadata": {},
   "outputs": [],
   "source": [
    "import datetime\n",
    "from datetime import timedelta "
   ]
  },
  {
   "cell_type": "code",
   "execution_count": null,
   "metadata": {},
   "outputs": [],
   "source": [
    "def count_numer_of_users_in_roles_for(slot_nums, user_mappings, role):\n",
    "    result = []\n",
    "    user_mappings = user_mappings[(user_mappings['label'] == str(role))]\n",
    "    \n",
    "    start_date = datetime.date(2009,12,22)\n",
    "    end_date = start_date + timedelta((slot_nums - 1)*14)\n",
    "    final_date = datetime.date(2013,10, 8)\n",
    "    \n",
    "    \n",
    "    list_of_users = user_mappings[\"user_id\"].unique()\n",
    "    while(start_date <= final_date):\n",
    "        count = 0\n",
    "        for user in list_of_users:\n",
    "            mappings_for_n = user_mappings[(user_mappings['date'] >= str(start_date)) & (user_mappings['date'] <= str(end_date)) & (user_mappings['user_id'] == user)]\n",
    "            \n",
    "            if is_the_same(mappings_for_n, slot_nums):\n",
    "                count+=1\n",
    "        \n",
    "        result.append(count)\n",
    "        start_date += timedelta(14)\n",
    "        end_date += timedelta(14)\n",
    "    print(f\"Role {role} with slot_nums: {slot_nums} is finished\")\n",
    "    return result\n",
    "    "
   ]
  },
  {
   "cell_type": "code",
   "execution_count": null,
   "metadata": {},
   "outputs": [],
   "source": [
    "user_mappings = get_ordered_users_with_roles()"
   ]
  },
  {
   "cell_type": "code",
   "execution_count": null,
   "metadata": {},
   "outputs": [],
   "source": [
    "df_stability = pd.DataFrame(user_mappings, columns = [\"user_id\", \"label\", \"date\"] )"
   ]
  },
  {
   "cell_type": "code",
   "execution_count": null,
   "metadata": {},
   "outputs": [],
   "source": [
    "def plot_stability(role, df):\n",
    "    dict_of_stab = {\n",
    "            'the_same_role_for_2_slots': count_numer_of_users_in_roles_for(1, df, role),\n",
    "            'the_same_role_for_3_slots': count_numer_of_users_in_roles_for(2, df, role),\n",
    "            'the_same_role_for_4_slots': count_numer_of_users_in_roles_for(3, df, role),\n",
    "            'the_same_role_for_5_slots': count_numer_of_users_in_roles_for(4, df, role),\n",
    "            'the_same_role_for_6_slots': count_numer_of_users_in_roles_for(5, df, role),\n",
    "            'the_same_role_for_7_slots': count_numer_of_users_in_roles_for(6, df, role)\n",
    "    }\n",
    "        \n",
    "    return pd.DataFrame.from_dict(dict_of_stab)\n",
    "        \n",
    "\n",
    "    \n",
    "\n",
    "\n"
   ]
  },
  {
   "cell_type": "code",
   "execution_count": null,
   "metadata": {},
   "outputs": [],
   "source": [
    "role = 6\n",
    "to_plot = plot_stability(role, df_stability)\n",
    "to_plot.plot.line(figsize=(20,10),title=\"Stability for role {}\".format(role))"
   ]
  },
  {
   "cell_type": "code",
   "execution_count": null,
   "metadata": {},
   "outputs": [],
   "source": [
    "role = 4\n",
    "to_plot = plot_stability(role, df_stability)\n",
    "to_plot.plot.line(figsize=(20,10),title=\"Stability for role {}\".format(role))"
   ]
  },
  {
   "cell_type": "code",
   "execution_count": null,
   "metadata": {},
   "outputs": [],
   "source": [
    "role = 1\n",
    "to_plot = plot_stability(role, df_stability)\n",
    "to_plot.plot.line(figsize=(20,10),title=\"Stability for role {}\".format(role))"
   ]
  },
  {
   "cell_type": "code",
   "execution_count": null,
   "metadata": {},
   "outputs": [],
   "source": [
    "role = 2\n",
    "to_plot = plot_stability(role, df_stability)\n",
    "to_plot.plot.line(figsize=(20,10),title=\"Stability for role {}\".format(role))"
   ]
  },
  {
   "cell_type": "code",
   "execution_count": null,
   "metadata": {},
   "outputs": [],
   "source": [
    "role = 5\n",
    "to_plot = plot_stability(role, df_stability)\n",
    "to_plot.plot.line(figsize=(20,10),title=\"Stability for role {}\".format(role))"
   ]
  },
  {
   "cell_type": "code",
   "execution_count": null,
   "metadata": {},
   "outputs": [],
   "source": [
    "role = 3\n",
    "to_plot = plot_stability(role, df_stability)\n",
    "to_plot.plot.line(figsize=(20,10),title=\"Stability for role {}\".format(role))"
   ]
  },
  {
   "cell_type": "code",
   "execution_count": null,
   "metadata": {},
   "outputs": [],
   "source": [
    "role = 1\n",
    "to_plot = plot_stability(role, df_stability)\n",
    "to_plot.plot.line(figsize=(20,10),title=\"Stability for role {}\".format(role))"
   ]
  },
  {
   "cell_type": "code",
   "execution_count": null,
   "metadata": {},
   "outputs": [],
   "source": []
  },
  {
   "cell_type": "code",
   "execution_count": null,
   "metadata": {},
   "outputs": [],
   "source": []
  },
  {
   "cell_type": "code",
   "execution_count": null,
   "metadata": {},
   "outputs": [],
   "source": []
  },
  {
   "cell_type": "code",
   "execution_count": null,
   "metadata": {},
   "outputs": [],
   "source": [
    "user_mappings = get_ordered_users_with_roles()"
   ]
  },
  {
   "cell_type": "code",
   "execution_count": null,
   "metadata": {},
   "outputs": [],
   "source": [
    "df = pd.DataFrame(user_mappings, columns = [\"user_id\", \"label\", \"date\"] )"
   ]
  },
  {
   "cell_type": "code",
   "execution_count": null,
   "metadata": {},
   "outputs": [],
   "source": [
    "def count_stability_with_break(df):\n",
    "    leng = len(df)\n",
    "    \n",
    "    first_row = df.iloc[0]\n",
    "    second_row = df.iloc[1]\n",
    "    tail = df[2:]\n",
    "    changes = {}\n",
    "    stability = {}\n",
    "    breaks = {}\n",
    "    count = 1\n",
    "    break_num = 0\n",
    "    \n",
    "    for index, row in tail.iterrows():\n",
    "        \n",
    "        if index % 100000 == 0:\n",
    "            print(str(index /leng))\n",
    "        \n",
    "        if first_row[\"user_id\"] == second_row[\"user_id\"] and first_row[\"user_id\"] == row[\"user_id\"]:\n",
    "            #keyChange = first_row[\"label\"] + \" -> \" + row[\"label\"]\n",
    "            keyStability = first_row[\"label\"] + \" -> \" + first_row[\"label\"]\n",
    "        \n",
    "            # dwa kolejne sa rozne od pierwszego \n",
    "            if first_row[\"label\"] != second_row[\"label\"] and first_row[\"label\"] != row[\"label\"]:\n",
    "            \n",
    "                if stability.get(keyStability):\n",
    "                    stability.get(keyStability).append(count)\n",
    "                else:\n",
    "                    stability[keyStability] = [count]\n",
    "                \n",
    "                #liczone przerwy tylko jezeli sa 3 slotowe ciagi niezmienne \n",
    "                if count >= 3:\n",
    "                    if breaks.get(keyStability):\n",
    "                        breaks.get(keyStability).append(break_num)\n",
    "                    else:\n",
    "                        breaks[keyStability] = [break_num]\n",
    "                \n",
    "            \n",
    "#                 if changes.get(keyChange):\n",
    "#                     changes[keyChange] = changes.get(keyChange) + 1\n",
    "#                 else:\n",
    "#                     changes[keyChange] = 1\n",
    "\n",
    "                count = 1\n",
    "            else:\n",
    "                count = count + 1\n",
    "            \n",
    "            ### Number of breaks\n",
    "            \n",
    "            if (first_row[\"label\"] != second_row[\"label\"] or second_row[\"label\"] != row[\"label\"]):     \n",
    "                break_num = break_num + 1\n",
    "                \n",
    "            \n",
    "        else:\n",
    "            keyStability = first_row[\"label\"] + \" -> \" + first_row[\"label\"]\n",
    "            #add last result \n",
    "            if stability.get(keyStability):\n",
    "                stability.get(keyStability).append(count)\n",
    "            else:\n",
    "                stability[keyStability] = [count]\n",
    "                \n",
    "            count = 1\n",
    "            break_num = 0\n",
    "            \n",
    "        first_row = second_row\n",
    "        second_row = row\n",
    "    return breaks, stability"
   ]
  },
  {
   "cell_type": "code",
   "execution_count": null,
   "metadata": {},
   "outputs": [],
   "source": [
    "breaks, stability = count_stability_with_break(df)"
   ]
  },
  {
   "cell_type": "code",
   "execution_count": null,
   "metadata": {},
   "outputs": [],
   "source": [
    "stability_stats = pd.DataFrame()\n",
    "for key in stability:\n",
    "    stability_stats[key] = pd.Series(stability.get(key)).describe()"
   ]
  },
  {
   "cell_type": "code",
   "execution_count": null,
   "metadata": {},
   "outputs": [],
   "source": [
    "breaks_stats = pd.DataFrame()\n",
    "for key in breaks:\n",
    "    breaks_stats[key] = pd.Series(breaks.get(key)).describe()"
   ]
  },
  {
   "cell_type": "code",
   "execution_count": null,
   "metadata": {},
   "outputs": [],
   "source": [
    "stability_stats[1:]"
   ]
  },
  {
   "cell_type": "code",
   "execution_count": null,
   "metadata": {},
   "outputs": [],
   "source": [
    "breaks_stats[1:]"
   ]
  },
  {
   "cell_type": "code",
   "execution_count": null,
   "metadata": {},
   "outputs": [],
   "source": [
    "def count_stability_with_all_kind_of_breaks(df):\n",
    "    leng = len(df)\n",
    "    \n",
    "    first_row = df.iloc[0]\n",
    "    tail = df[1:]\n",
    "    roles = {\"0\":0, \"1\":0, \"2\":0, \"3\":0, \"4\":0, \"5\":0, \"6\":0}\n",
    "    stability = {}\n",
    "    count = 1\n",
    "    for index, row in tail.iterrows():\n",
    "        \n",
    "        if index % 100000 == 0:\n",
    "            print(str(index /leng))\n",
    "        \n",
    "        if first_row[\"user_id\"] == row[\"user_id\"]:\n",
    "            keyStability = first_row[\"label\"]\n",
    "            \n",
    "        \n",
    "            if first_row[\"label\"] != row[\"label\"]:\n",
    "            \n",
    "                if stability.get(keyStability):\n",
    "                    stability.get(keyStability).append(count)\n",
    "                else:\n",
    "                    stability[keyStability] = [count]\n",
    "                \n",
    "            \n",
    "                if changes.get(keyChange):\n",
    "                    changes[keyChange] = changes.get(keyChange) + 1\n",
    "                else:\n",
    "                    changes[keyChange] = 1\n",
    "                \n",
    "                count = 1\n",
    "            else:\n",
    "                count = count + 1\n",
    "        else:\n",
    "            count = 1\n",
    "            \n",
    "        first_row = row\n",
    "    return changes, stability"
   ]
  },
  {
   "cell_type": "code",
   "execution_count": null,
   "metadata": {},
   "outputs": [],
   "source": [
    "def get_general_roles_statistics():\n",
    "    cur = conn.cursor()\n",
    "    query = \"\"\"\n",
    "    WITH \n",
    "    general_stats AS (SELECT COUNT(1) as number_of_slots, label\n",
    "    FROM user_mapping\n",
    "    GROUP BY user_id, label)\n",
    "    \n",
    "    SELECT AVG(number_of_slots), stddev(number_of_slots),\n",
    "    percentile_cont(0.25) WITHIN GROUP (ORDER BY number_of_slots),\n",
    "    percentile_cont(0.5) WITHIN GROUP (ORDER BY number_of_slots),\n",
    "    percentile_cont(0.75) WITHIN GROUP (ORDER BY number_of_slots),\n",
    "    MAX(number_of_slots), MIN(number_of_slots) FROM general_stats\n",
    "    GROUP BY label\n",
    "    \"\"\"\n",
    "    cur.execute(query)\n",
    "    res = cur.fetchall()\n",
    "    conn.commit()\n",
    "    cur.close()\n",
    "    return res"
   ]
  },
  {
   "cell_type": "code",
   "execution_count": null,
   "metadata": {},
   "outputs": [],
   "source": [
    "gen_stats = get_general_roles_statistics()"
   ]
  },
  {
   "cell_type": "code",
   "execution_count": null,
   "metadata": {},
   "outputs": [],
   "source": [
    "general_roles_statistics = pd.DataFrame(gen_stats, columns = [\"mean\", \"stddev\", \"25%\", \"50%\", \"75%\", \"max\", \"min\"] )"
   ]
  },
  {
   "cell_type": "code",
   "execution_count": null,
   "metadata": {},
   "outputs": [],
   "source": [
    "general_roles_statistics"
   ]
  },
  {
   "cell_type": "code",
   "execution_count": null,
   "metadata": {},
   "outputs": [],
   "source": []
  },
  {
   "cell_type": "markdown",
   "metadata": {},
   "source": [
    "#### for n breaks"
   ]
  },
  {
   "cell_type": "code",
   "execution_count": null,
   "metadata": {},
   "outputs": [],
   "source": [
    "user_mappings = get_ordered_users_with_roles()"
   ]
  },
  {
   "cell_type": "code",
   "execution_count": null,
   "metadata": {},
   "outputs": [],
   "source": [
    "df = pd.DataFrame(user_mappings, columns = [\"user_id\", \"label\", \"date\"] )"
   ]
  },
  {
   "cell_type": "code",
   "execution_count": null,
   "metadata": {},
   "outputs": [],
   "source": [
    "def is_break_greater(df, index, n, length):\n",
    "    if index + n < length:\n",
    "        n = length - index - 1\n",
    "    for i in range(1, n + 1):\n",
    "        if df.iloc[index][\"label\"] == df.iloc[index + i][\"label\"]:\n",
    "            return False\n",
    "    return True"
   ]
  },
  {
   "cell_type": "code",
   "execution_count": null,
   "metadata": {},
   "outputs": [],
   "source": [
    "def is_user_the_same(df, index, n, length):\n",
    "    if index + n < length:\n",
    "        n = length - index - 1\n",
    "    for i in range(1, n + 1):\n",
    "        if df.iloc[index][\"user_id\"] != df.iloc[index + i][\"user_id\"]:\n",
    "            return False\n",
    "    return True"
   ]
  },
  {
   "cell_type": "code",
   "execution_count": null,
   "metadata": {},
   "outputs": [],
   "source": [
    "def count_stability_with_break(df, breaks):\n",
    "    leng = len(df)\n",
    "    \n",
    "    first_row = df.iloc[0]\n",
    "    #second_row = df.iloc[1]\n",
    "    tail = df[1:]\n",
    "    changes = {}\n",
    "    stability = {}\n",
    "    count = 1\n",
    "    break_num = 0\n",
    "    \n",
    "    for index, row in tail.iterrows():\n",
    "        \n",
    "        if index % 100000 == 0:\n",
    "            print(str(index /leng))\n",
    "        \n",
    "        if is_user_the_same(df, index, breaks, leng):\n",
    "            #keyChange = first_row[\"label\"] + \" -> \" + row[\"label\"]\n",
    "            keyStability = first_row[\"label\"] + \" -> \" + first_row[\"label\"]\n",
    "        \n",
    "            # dwa kolejne sa rozne od pierwszego \n",
    "            if is_break_greater(df, index - 1, breaks, leng):\n",
    "            \n",
    "                if stability.get(keyStability):\n",
    "                    stability.get(keyStability).append(count)\n",
    "                else:\n",
    "                    stability[keyStability] = [count]\n",
    "                \n",
    "                #liczone przerwy tylko jezeli sa 3 slotowe ciagi niezmienne \n",
    "#                 if count >= 3:\n",
    "#                     if breaks.get(keyStability):\n",
    "#                         breaks.get(keyStability).append(break_num)\n",
    "#                     else:\n",
    "#                         breaks[keyStability] = [break_num]\n",
    "                \n",
    "            \n",
    "#                 if changes.get(keyChange):\n",
    "#                     changes[keyChange] = changes.get(keyChange) + 1\n",
    "#                 else:\n",
    "#                     changes[keyChange] = 1\n",
    "\n",
    "                count = 1\n",
    "            else:\n",
    "                count = count + 1\n",
    "            \n",
    "            ### Number of breaks\n",
    "            \n",
    "#             if (first_row[\"label\"] != second_row[\"label\"] or second_row[\"label\"] != row[\"label\"]):     \n",
    "#                 break_num = break_num + 1\n",
    "                \n",
    "            \n",
    "        else:\n",
    "            keyStability = first_row[\"label\"] + \" -> \" + first_row[\"label\"]\n",
    "            #add last result\n",
    "            \n",
    "            if stability.get(keyStability):\n",
    "                stability.get(keyStability).append(count)\n",
    "            else:\n",
    "                stability[keyStability] = [count]\n",
    "                \n",
    "            count = 1\n",
    "            break_num = 0\n",
    "            \n",
    "        first_row = row\n",
    "    return breaks, stability"
   ]
  },
  {
   "cell_type": "code",
   "execution_count": null,
   "metadata": {},
   "outputs": [],
   "source": [
    "breaks, stability = count_stability_with_break(df, 2)"
   ]
  },
  {
   "cell_type": "code",
   "execution_count": null,
   "metadata": {},
   "outputs": [],
   "source": [
    "stability_stats = pd.DataFrame()\n",
    "for key in stability:\n",
    "    stability_stats[key] = pd.Series(stability.get(key)).describe()"
   ]
  },
  {
   "cell_type": "code",
   "execution_count": null,
   "metadata": {},
   "outputs": [],
   "source": [
    "breaks_stats = pd.DataFrame()\n",
    "for key in breaks:\n",
    "    breaks_stats[key] = pd.Series(breaks.get(key)).describe()"
   ]
  },
  {
   "cell_type": "code",
   "execution_count": null,
   "metadata": {},
   "outputs": [],
   "source": [
    "stability_stats[1:]"
   ]
  },
  {
   "cell_type": "code",
   "execution_count": null,
   "metadata": {},
   "outputs": [],
   "source": []
  },
  {
   "cell_type": "code",
   "execution_count": null,
   "metadata": {},
   "outputs": [],
   "source": [
    "breaks, stability = count_stability_with_break(df, 3)"
   ]
  },
  {
   "cell_type": "code",
   "execution_count": null,
   "metadata": {},
   "outputs": [],
   "source": [
    "stability_stats = pd.DataFrame()\n",
    "for key in stability:\n",
    "    stability_stats[key] = pd.Series(stability.get(key)).describe()"
   ]
  },
  {
   "cell_type": "code",
   "execution_count": null,
   "metadata": {},
   "outputs": [],
   "source": [
    "stability_stats[1:]"
   ]
  },
  {
   "cell_type": "markdown",
   "metadata": {},
   "source": [
    "#### for 2 breaks"
   ]
  },
  {
   "cell_type": "code",
   "execution_count": null,
   "metadata": {},
   "outputs": [],
   "source": [
    "def count_stability_with_break(df):\n",
    "    leng = len(df)\n",
    "    \n",
    "    first_row = df.iloc[0]\n",
    "    second_row = df.iloc[1]\n",
    "    third_row = df.iloc[2]\n",
    "    tail = df[3:]\n",
    "    changes = {}\n",
    "    stability = {}\n",
    "    breaks = {}\n",
    "    count = 1\n",
    "    break_num = 0\n",
    "    \n",
    "    for index, row in tail.iterrows():\n",
    "        \n",
    "        if index % 100000 == 0:\n",
    "            print(str(index /leng))\n",
    "        \n",
    "        if first_row[\"user_id\"] == second_row[\"user_id\"] and first_row[\"user_id\"] == third_row[\"user_id\"] and first_row[\"user_id\"] == row[\"user_id\"]:\n",
    "            #keyChange = first_row[\"label\"] + \" -> \" + row[\"label\"]\n",
    "            keyStability = first_row[\"label\"] + \" -> \" + first_row[\"label\"]\n",
    "        \n",
    "            # dwa kolejne sa rozne od pierwszego \n",
    "            if first_row[\"label\"] != second_row[\"label\"] and first_row[\"label\"] != third_row[\"label\"] and first_row[\"label\"] != row[\"label\"]:\n",
    "            \n",
    "                if stability.get(keyStability):\n",
    "                    stability.get(keyStability).append(count)\n",
    "                else:\n",
    "                    stability[keyStability] = [count]\n",
    "                \n",
    "                #liczone przerwy tylko jezeli sa 3 slotowe ciagi niezmienne \n",
    "                if count >= 3:\n",
    "                    if breaks.get(keyStability):\n",
    "                        breaks.get(keyStability).append(break_num)\n",
    "                    else:\n",
    "                        breaks[keyStability] = [break_num]\n",
    "                \n",
    "            \n",
    "#                 if changes.get(keyChange):\n",
    "#                     changes[keyChange] = changes.get(keyChange) + 1\n",
    "#                 else:\n",
    "#                     changes[keyChange] = 1\n",
    "\n",
    "                count = 1\n",
    "            else:\n",
    "                count = count + 1\n",
    "            \n",
    "            ### Number of breaks\n",
    "            \n",
    "            if (first_row[\"label\"] != second_row[\"label\"] or second_row[\"label\"] != row[\"label\"]):     \n",
    "                break_num = break_num + 1\n",
    "                \n",
    "            \n",
    "        else:\n",
    "            keyStability = first_row[\"label\"] + \" -> \" + first_row[\"label\"]\n",
    "            #add last result \n",
    "            if stability.get(keyStability):\n",
    "                stability.get(keyStability).append(count)\n",
    "            else:\n",
    "                stability[keyStability] = [count]\n",
    "                \n",
    "            count = 1\n",
    "            break_num = 0\n",
    "            \n",
    "        first_row = second_row\n",
    "        second_row = third_row\n",
    "        third_row = row\n",
    "    return breaks, stability"
   ]
  },
  {
   "cell_type": "code",
   "execution_count": null,
   "metadata": {},
   "outputs": [],
   "source": [
    "breaks, stability = count_stability_with_break(df)"
   ]
  },
  {
   "cell_type": "code",
   "execution_count": null,
   "metadata": {},
   "outputs": [],
   "source": [
    "stability_stats = pd.DataFrame()\n",
    "for key in stability:\n",
    "    stability_stats[key] = pd.Series(stability.get(key)).describe()"
   ]
  },
  {
   "cell_type": "code",
   "execution_count": null,
   "metadata": {},
   "outputs": [],
   "source": [
    "stability_stats[1:]"
   ]
  },
  {
   "cell_type": "code",
   "execution_count": null,
   "metadata": {},
   "outputs": [],
   "source": [
    "pd.Series(stability.get('0 -> 0')).describe()"
   ]
  },
  {
   "cell_type": "markdown",
   "metadata": {},
   "source": [
    "#### for 3 breaks"
   ]
  },
  {
   "cell_type": "code",
   "execution_count": null,
   "metadata": {},
   "outputs": [],
   "source": [
    "def count_stability_with_break(df):\n",
    "    leng = len(df)\n",
    "    \n",
    "    first_row = df.iloc[0]\n",
    "    second_row = df.iloc[1]\n",
    "    third_row = df.iloc[2]\n",
    "    forth_row = df.iloc[3]\n",
    "    tail = df[4:]\n",
    "    changes = {}\n",
    "    stability = {}\n",
    "    breaks = {}\n",
    "    count = 1\n",
    "    break_num = 0\n",
    "    \n",
    "    for index, row in tail.iterrows():\n",
    "        \n",
    "        if index % 100000 == 0:\n",
    "            print(str(index /leng))\n",
    "        \n",
    "        if first_row[\"user_id\"] == second_row[\"user_id\"] and first_row[\"user_id\"] == third_row[\"user_id\"] and first_row[\"user_id\"] == forth_row[\"user_id\"] and first_row[\"user_id\"] == row[\"user_id\"]:\n",
    "            #keyChange = first_row[\"label\"] + \" -> \" + row[\"label\"]\n",
    "            keyStability = first_row[\"label\"] + \" -> \" + first_row[\"label\"]\n",
    "        \n",
    "            # dwa kolejne sa rozne od pierwszego \n",
    "            if first_row[\"label\"] != second_row[\"label\"] and first_row[\"label\"] != third_row[\"label\"] and first_row[\"label\"] != first_row[\"label\"] and first_row[\"label\"] != row[\"label\"]:\n",
    "            \n",
    "                if stability.get(keyStability):\n",
    "                    stability.get(keyStability).append(count)\n",
    "                else:\n",
    "                    stability[keyStability] = [count]\n",
    "                \n",
    "                #liczone przerwy tylko jezeli sa 3 slotowe ciagi niezmienne \n",
    "                if count >= 3:\n",
    "                    if breaks.get(keyStability):\n",
    "                        breaks.get(keyStability).append(break_num)\n",
    "                    else:\n",
    "                        breaks[keyStability] = [break_num]\n",
    "                \n",
    "            \n",
    "#                 if changes.get(keyChange):\n",
    "#                     changes[keyChange] = changes.get(keyChange) + 1\n",
    "#                 else:\n",
    "#                     changes[keyChange] = 1\n",
    "\n",
    "                count = 1\n",
    "            else:\n",
    "                count = count + 1\n",
    "            \n",
    "            ### Number of breaks\n",
    "            \n",
    "            if (first_row[\"label\"] != second_row[\"label\"] or second_row[\"label\"] != row[\"label\"]):     \n",
    "                break_num = break_num + 1\n",
    "                \n",
    "            \n",
    "        else:\n",
    "            keyStability = first_row[\"label\"] + \" -> \" + first_row[\"label\"]\n",
    "            #add last result \n",
    "            if stability.get(keyStability):\n",
    "                stability.get(keyStability).append(count)\n",
    "            else:\n",
    "                stability[keyStability] = [count]\n",
    "                \n",
    "            count = 1\n",
    "            break_num = 0\n",
    "            \n",
    "        first_row = second_row\n",
    "        second_row = third_row\n",
    "        third_row = row\n",
    "    return breaks, stability"
   ]
  },
  {
   "cell_type": "code",
   "execution_count": null,
   "metadata": {},
   "outputs": [],
   "source": [
    "breaks, stability = count_stability_with_break(df)"
   ]
  },
  {
   "cell_type": "code",
   "execution_count": null,
   "metadata": {},
   "outputs": [],
   "source": [
    "stability_stats = pd.DataFrame()\n",
    "for key in stability:\n",
    "    stability_stats[key] = pd.Series(stability.get(key)).describe()"
   ]
  },
  {
   "cell_type": "code",
   "execution_count": null,
   "metadata": {},
   "outputs": [],
   "source": [
    "stability_stats[1:]"
   ]
  },
  {
   "cell_type": "code",
   "execution_count": null,
   "metadata": {},
   "outputs": [],
   "source": []
  },
  {
   "cell_type": "markdown",
   "metadata": {},
   "source": [
    "#### Influential users"
   ]
  },
  {
   "cell_type": "markdown",
   "metadata": {},
   "source": [
    "#### Active Blogger"
   ]
  },
  {
   "cell_type": "code",
   "execution_count": null,
   "metadata": {},
   "outputs": [],
   "source": [
    "def get_active_blogger_statistics():\n",
    "    cur = conn.cursor()\n",
    "    query = \"\"\"\n",
    "    WITH\n",
    "    general_stats AS (\n",
    "    SELECT\n",
    "    user_id,\n",
    "    SUM (CASE WHEN label = '0' THEN 1 ELSE 0 END) AS number_of_slots_as_active_commentators,\n",
    "    SUM (CASE WHEN label = '1' THEN 1 ELSE 0 END) AS number_of_slots_as_active_bloggers,\n",
    "    SUM (CASE WHEN label = '2' THEN 1 ELSE 0 END) AS number_of_slots_as_common_bloggers,\n",
    "    SUM (CASE WHEN label = '3' THEN 1 ELSE 0 END) AS number_of_slots_as_low_active_commentators,\n",
    "    SUM (CASE WHEN label = '4' THEN 1 ELSE 0 END) AS number_of_slots_as_influential_bloggers,\n",
    "    SUM (CASE WHEN label = '5' THEN 1 ELSE 0 END) AS number_of_slots_as_engaged_bloggers,\n",
    "    SUM (CASE WHEN label = '6' THEN 1 ELSE 0 END) AS number_of_slots_as_authority_bloggers\n",
    "    FROM user_mapping\n",
    "    GROUP BY user_id)\n",
    "    \n",
    "    SELECT *\n",
    "    FROM general_stats\n",
    "    WHERE number_of_slots_as_active_bloggers != 0\n",
    "    \"\"\"\n",
    "    cur.execute(query)\n",
    "    res = cur.fetchall()\n",
    "    conn.commit()\n",
    "    cur.close()\n",
    "    return res"
   ]
  },
  {
   "cell_type": "code",
   "execution_count": null,
   "metadata": {},
   "outputs": [],
   "source": [
    "active_blogger_results = get_active_blogger_statistics()"
   ]
  },
  {
   "cell_type": "code",
   "execution_count": null,
   "metadata": {},
   "outputs": [],
   "source": [
    "results"
   ]
  },
  {
   "cell_type": "code",
   "execution_count": null,
   "metadata": {},
   "outputs": [],
   "source": [
    "active_blogger_statistics = pd.DataFrame(active_blogger_results, columns = [\"user_id\", \"0\", \"1\", \"2\", \"3\", \"4\", \"5\", \"6\"] )"
   ]
  },
  {
   "cell_type": "code",
   "execution_count": null,
   "metadata": {},
   "outputs": [],
   "source": [
    "active_blogger_statistics.drop(columns = [\"user_id\"]).describe()[1:]"
   ]
  },
  {
   "cell_type": "code",
   "execution_count": null,
   "metadata": {},
   "outputs": [],
   "source": [
    "def get_influential_bloggers_statistics():\n",
    "    cur = conn.cursor()\n",
    "    query = \"\"\"\n",
    "    WITH\n",
    "    general_stats AS (\n",
    "    SELECT\n",
    "    user_id,\n",
    "    SUM (CASE WHEN label = '0' THEN 1 ELSE 0 END) AS number_of_slots_as_active_commentators,\n",
    "    SUM (CASE WHEN label = '1' THEN 1 ELSE 0 END) AS number_of_slots_as_active_bloggers,\n",
    "    SUM (CASE WHEN label = '2' THEN 1 ELSE 0 END) AS number_of_slots_as_common_bloggers,\n",
    "    SUM (CASE WHEN label = '3' THEN 1 ELSE 0 END) AS number_of_slots_as_low_active_commentators,\n",
    "    SUM (CASE WHEN label = '4' THEN 1 ELSE 0 END) AS number_of_slots_as_influential_bloggers,\n",
    "    SUM (CASE WHEN label = '5' THEN 1 ELSE 0 END) AS number_of_slots_as_engaged_bloggers,\n",
    "    SUM (CASE WHEN label = '6' THEN 1 ELSE 0 END) AS number_of_slots_as_authority_bloggers\n",
    "    FROM user_mapping\n",
    "    GROUP BY user_id)\n",
    "    \n",
    "    SELECT *\n",
    "    FROM general_stats\n",
    "    WHERE number_of_slots_as_influential_bloggers != 0\n",
    "    \"\"\"\n",
    "    cur.execute(query)\n",
    "    res = cur.fetchall()\n",
    "    conn.commit()\n",
    "    cur.close()\n",
    "    return res"
   ]
  },
  {
   "cell_type": "code",
   "execution_count": null,
   "metadata": {},
   "outputs": [],
   "source": [
    "influential_bloggers_results = get_influential_bloggers_statistics()"
   ]
  },
  {
   "cell_type": "code",
   "execution_count": null,
   "metadata": {},
   "outputs": [],
   "source": [
    "influential_bloggers_statistics = pd.DataFrame(influential_bloggers_results, columns = [\"user_id\", \"0\", \"1\", \"2\", \"3\", \"4\", \"5\", \"6\"] )"
   ]
  },
  {
   "cell_type": "code",
   "execution_count": null,
   "metadata": {},
   "outputs": [],
   "source": [
    "influential_bloggers_statistics.drop(columns = [\"user_id\"]).describe()[1:]"
   ]
  },
  {
   "cell_type": "code",
   "execution_count": null,
   "metadata": {},
   "outputs": [],
   "source": [
    "def get_authority_bloggers_statistics():\n",
    "    cur = conn.cursor()\n",
    "    query = \"\"\"\n",
    "    WITH\n",
    "    general_stats AS (\n",
    "    SELECT\n",
    "    user_id,\n",
    "    SUM (CASE WHEN label = '0' THEN 1 ELSE 0 END) AS number_of_slots_as_active_commentators,\n",
    "    SUM (CASE WHEN label = '1' THEN 1 ELSE 0 END) AS number_of_slots_as_active_bloggers,\n",
    "    SUM (CASE WHEN label = '2' THEN 1 ELSE 0 END) AS number_of_slots_as_common_bloggers,\n",
    "    SUM (CASE WHEN label = '3' THEN 1 ELSE 0 END) AS number_of_slots_as_low_active_commentators,\n",
    "    SUM (CASE WHEN label = '4' THEN 1 ELSE 0 END) AS number_of_slots_as_influential_bloggers,\n",
    "    SUM (CASE WHEN label = '5' THEN 1 ELSE 0 END) AS number_of_slots_as_engaged_bloggers,\n",
    "    SUM (CASE WHEN label = '6' THEN 1 ELSE 0 END) AS number_of_slots_as_authority_bloggers\n",
    "    FROM user_mapping\n",
    "    GROUP BY user_id)\n",
    "    \n",
    "    SELECT *\n",
    "    FROM general_stats\n",
    "    WHERE number_of_slots_as_authority_bloggers != 0\n",
    "    \"\"\"\n",
    "    cur.execute(query)\n",
    "    res = cur.fetchall()\n",
    "    conn.commit()\n",
    "    cur.close()\n",
    "    return res"
   ]
  },
  {
   "cell_type": "code",
   "execution_count": null,
   "metadata": {},
   "outputs": [],
   "source": [
    "authority_bloggers_results = get_authority_bloggers_statistics()"
   ]
  },
  {
   "cell_type": "code",
   "execution_count": null,
   "metadata": {},
   "outputs": [],
   "source": [
    "authority_bloggers_statistics = pd.DataFrame(authority_bloggers_results, columns = [\"user_id\", \"0\", \"1\", \"2\", \"3\", \"4\", \"5\", \"6\"] )"
   ]
  },
  {
   "cell_type": "code",
   "execution_count": null,
   "metadata": {},
   "outputs": [],
   "source": [
    "authority_bloggers_statistics.drop(columns = [\"user_id\"]).describe()[1:]"
   ]
  },
  {
   "cell_type": "code",
   "execution_count": null,
   "metadata": {},
   "outputs": [],
   "source": []
  }
 ],
 "metadata": {
  "kernelspec": {
   "display_name": "Python 3",
   "language": "python",
   "name": "python3"
  },
  "language_info": {
   "codemirror_mode": {
    "name": "ipython",
    "version": 3
   },
   "file_extension": ".py",
   "mimetype": "text/x-python",
   "name": "python",
   "nbconvert_exporter": "python",
   "pygments_lexer": "ipython3",
   "version": "3.7.5"
  }
 },
 "nbformat": 4,
 "nbformat_minor": 2
}
