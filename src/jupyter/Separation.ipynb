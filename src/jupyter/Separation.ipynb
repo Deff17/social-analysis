{
 "cells": [
  {
   "cell_type": "code",
   "execution_count": null,
   "metadata": {},
   "outputs": [],
   "source": [
    "import psycopg2\n",
    "import pandas as pd\n",
    "import os\n",
    "import itertools\n",
    "import numpy as np\n",
    "\n",
    "\n",
    "conn = psycopg2.connect(\n",
    "    host='localhost',\n",
    "    port=54320,\n",
    "    dbname='my_database',\n",
    "    password='pass',\n",
    "    user='user',\n",
    "    )"
   ]
  },
  {
   "cell_type": "code",
   "execution_count": null,
   "metadata": {},
   "outputs": [],
   "source": [
    "def get_labeled_data():\n",
    "    cur = conn.cursor()\n",
    "    query = \"\"\"\n",
    "    SELECT a.user_id AS user_id, \n",
    "           a.date AS date,\n",
    "           u.label AS label,\n",
    "           posts_activity_time, \n",
    "           frequency_of_posts_avg, \n",
    "           frequency_of_posts_stddev, \n",
    "           frequency_of_comments_q3,\n",
    "           number_of_received_responses_to_post_max,\n",
    "           number_of_received_responses_to_post_stddev,\n",
    "           number_of_received_responses_to_post_avg,\n",
    "           number_of_received_responses_to_post_q3,\n",
    "           number_of_received_responses_under_comments_q3,\n",
    "           number_of_received_responses_under_comments_max,\n",
    "           number_of_own_post_responses_q3,\n",
    "           number_of_words_in_posts_q3,\n",
    "           number_of_words_in_comments_median,\n",
    "           number_of_words_in_responses_to_posts_q3,\n",
    "           number_of_words_in_own_post_responses_q3\n",
    "    FROM all_hp_data a\n",
    "    JOIN user_mapping u ON a.user_id = u.user_id AND a.date = u.date\n",
    "    ORDER BY date\n",
    "    \"\"\"\n",
    "    cur.execute(query)\n",
    "    res = cur.fetchall()\n",
    "    conn.commit()\n",
    "    cur.close()\n",
    "    return res"
   ]
  },
  {
   "cell_type": "code",
   "execution_count": null,
   "metadata": {},
   "outputs": [],
   "source": [
    "def get_number_of_simmilar_roles(row, mins, maxs, feature):\n",
    "    minimum = mins.loc[row[\"label\"]][feature]\n",
    "    maximum = maxs.loc[row[\"label\"]][feature]\n",
    "    count = 0.0\n",
    "    if row[\"label\"] != '0' and minimum <= row[feature] <= maximum:\n",
    "        count +=1\n",
    "    if row[\"label\"] != '1' and minimum <= row[feature] <= maximum:\n",
    "        count +=1\n",
    "    if row[\"label\"] != '2' and minimum <= row[feature] <= maximum:\n",
    "        count +=1\n",
    "    if row[\"label\"] != '3' and minimum <= row[feature] <= maximum:\n",
    "        count +=1\n",
    "    if row[\"label\"] != '4' and minimum <= row[feature] <= maximum:\n",
    "        count +=1\n",
    "    if row[\"label\"] != '5' and minimum <= row[feature] <= maximum:\n",
    "        count +=1\n",
    "    if row[\"label\"] != '6' and minimum <= row[feature] <= maximum:\n",
    "        count +=1\n",
    "    return count\n",
    "\n",
    "        "
   ]
  },
  {
   "cell_type": "code",
   "execution_count": null,
   "metadata": {},
   "outputs": [],
   "source": [
    "label_data = get_labeled_data()"
   ]
  },
  {
   "cell_type": "code",
   "execution_count": null,
   "metadata": {},
   "outputs": [],
   "source": [
    "len(label_data)"
   ]
  },
  {
   "cell_type": "code",
   "execution_count": null,
   "metadata": {},
   "outputs": [],
   "source": [
    "def get_separation(label_data):\n",
    "    df = pd.DataFrame(label_data, columns = [\"user_id\", \"date\", \"label\", \"posts_activity_time\", \"frequency_of_posts_avg\", \"frequency_of_posts_stddev\", \"frequency_of_comments_q3\",\"number_of_received_responses_to_post_max\",\"number_of_received_responses_to_post_stddev\",\"number_of_received_responses_to_post_avg\",\"number_of_received_responses_to_post_q3\",\"number_of_received_responses_under_comments_q3\",\"number_of_received_responses_under_comments_max\",\"number_of_own_post_responses_q3\",\"number_of_words_in_posts_q3\",\"number_of_words_in_comments_median\",\"number_of_words_in_responses_to_posts_q3\",\"number_of_words_in_own_post_responses_q3\"])\n",
    "    leng = len(df)\n",
    "    #max_min_df = df\n",
    "    new_df = pd.DataFrame(columns = [\"user_id\", \"date\", \"label\", \"posts_activity_time\", \"frequency_of_posts_avg\", \"frequency_of_posts_stddev\", \"frequency_of_comments_q3\",\"number_of_received_responses_to_post_max\",\"number_of_received_responses_to_post_stddev\",\"number_of_received_responses_to_post_avg\",\"number_of_received_responses_to_post_q3\",\"number_of_received_responses_under_comments_q3\",\"number_of_received_responses_under_comments_max\",\"number_of_own_post_responses_q3\",\"number_of_words_in_posts_q3\",\"number_of_words_in_comments_median\",\"number_of_words_in_responses_to_posts_q3\",\"number_of_words_in_own_post_responses_q3\"])\n",
    "    mins = df.groupby('label').min()\n",
    "    maxs = df.groupby('label').max()\n",
    "    print(\"Started\")\n",
    "    for index, row in df.iterrows():\n",
    "        new_row = {\"user_id\": row[\"user_id\"],\n",
    "               \"label\": row[\"label\"],\n",
    "               \"date\": row[\"date\"],\n",
    "               \"posts_activity_time\": get_number_of_simmilar_roles(row, mins, maxs, \"posts_activity_time\"),\n",
    "               \"frequency_of_posts_avg\": get_number_of_simmilar_roles(row, mins, maxs,\"frequency_of_posts_avg\"),\n",
    "               \"frequency_of_posts_stddev\": get_number_of_simmilar_roles(row, mins, maxs,\"frequency_of_posts_stddev\"),\n",
    "               \"frequency_of_comments_q3\": get_number_of_simmilar_roles(row, mins, maxs,\"frequency_of_comments_q3\"),\n",
    "               \"number_of_received_responses_to_post_max\": get_number_of_simmilar_roles(row, mins, maxs,\"number_of_received_responses_to_post_max\"),\n",
    "               \"number_of_received_responses_to_post_stddev\": get_number_of_simmilar_roles(row, mins, maxs,\"number_of_received_responses_to_post_stddev\"),\n",
    "               \"number_of_received_responses_to_post_avg\": get_number_of_simmilar_roles(row, mins, maxs,\"number_of_received_responses_to_post_avg\"),\n",
    "               \"number_of_received_responses_to_post_q3\": get_number_of_simmilar_roles(row, mins, maxs,\"number_of_received_responses_to_post_q3\"),\n",
    "               \"number_of_received_responses_under_comments_q3\": get_number_of_simmilar_roles(row, mins, maxs,\"number_of_received_responses_under_comments_q3\"),\n",
    "               \"number_of_received_responses_under_comments_max\": get_number_of_simmilar_roles(row, mins, maxs,\"number_of_received_responses_under_comments_max\"),\n",
    "               \"number_of_own_post_responses_q3\": get_number_of_simmilar_roles(row, mins, maxs,\"number_of_own_post_responses_q3\"),\n",
    "               \"number_of_words_in_posts_q3\": get_number_of_simmilar_roles(row, mins, maxs,\"number_of_words_in_posts_q3\"),\n",
    "               \"number_of_words_in_comments_median\": get_number_of_simmilar_roles(row, mins, maxs,\"number_of_words_in_comments_median\"),\n",
    "               \"number_of_words_in_responses_to_posts_q3\": get_number_of_simmilar_roles(row, mins, maxs,\"number_of_words_in_responses_to_posts_q3\"),\n",
    "               \"number_of_words_in_own_post_responses_q3\": get_number_of_simmilar_roles(row, mins, maxs,\"number_of_words_in_own_post_responses_q3\")\n",
    "              }\n",
    "    \n",
    "        new_df = new_df.append(new_row, ignore_index=True)\n",
    "        if (index % 10000 == 0):\n",
    "            print(str( index / leng))\n",
    "    return new_df\n",
    "    "
   ]
  },
  {
   "cell_type": "code",
   "execution_count": null,
   "metadata": {},
   "outputs": [],
   "source": [
    "separation2 = get_separation(label_data).drop(columns =[\"user_id\", \"date\"])"
   ]
  },
  {
   "cell_type": "code",
   "execution_count": null,
   "metadata": {},
   "outputs": [],
   "source": [
    "separation2.groupby(\"label\").mean().T"
   ]
  },
  {
   "cell_type": "code",
   "execution_count": null,
   "metadata": {},
   "outputs": [],
   "source": []
  },
  {
   "cell_type": "markdown",
   "metadata": {},
   "source": [
    "#### nie usuwac"
   ]
  },
  {
   "cell_type": "code",
   "execution_count": null,
   "metadata": {},
   "outputs": [],
   "source": [
    "separation = get_separation(label_data).drop(columns =[\"user_id\", \"date\"])"
   ]
  },
  {
   "cell_type": "code",
   "execution_count": null,
   "metadata": {},
   "outputs": [],
   "source": [
    "separation.groupby(\"label\").mean().T"
   ]
  },
  {
   "cell_type": "code",
   "execution_count": null,
   "metadata": {},
   "outputs": [],
   "source": []
  },
  {
   "cell_type": "code",
   "execution_count": null,
   "metadata": {},
   "outputs": [],
   "source": []
  }
 ],
 "metadata": {
  "kernelspec": {
   "display_name": "Python 3",
   "language": "python",
   "name": "python3"
  },
  "language_info": {
   "codemirror_mode": {
    "name": "ipython",
    "version": 3
   },
   "file_extension": ".py",
   "mimetype": "text/x-python",
   "name": "python",
   "nbconvert_exporter": "python",
   "pygments_lexer": "ipython3",
   "version": "3.7.5"
  }
 },
 "nbformat": 4,
 "nbformat_minor": 2
}
