{
 "cells": [
  {
   "cell_type": "code",
   "execution_count": null,
   "metadata": {},
   "outputs": [],
   "source": [
    "import psycopg2\n",
    "import pandas as pd\n",
    "import os\n",
    "import itertools\n",
    "import numpy as np\n",
    "import datetime\n",
    "from datetime import timedelta\n",
    "import os\n",
    "import matplotlib.pyplot as plt\n",
    "\n",
    "conn = psycopg2.connect(\n",
    "    host='localhost',\n",
    "    port=54320,\n",
    "    dbname='my_database',\n",
    "    password='pass',\n",
    "    user='user',\n",
    "    )\n",
    "conn.autocommit = False"
   ]
  },
  {
   "cell_type": "code",
   "execution_count": null,
   "metadata": {},
   "outputs": [],
   "source": [
    "start_date_clustering = datetime.date(2009, 12, 8)\n",
    "end_date_clustering = datetime.date(2013,10, 22)"
   ]
  },
  {
   "cell_type": "code",
   "execution_count": null,
   "metadata": {},
   "outputs": [],
   "source": [
    "feature_table = pd.read_csv(\"FeatureTableCSV.csv\", sep=\";\")"
   ]
  },
  {
   "cell_type": "code",
   "execution_count": null,
   "metadata": {},
   "outputs": [],
   "source": [
    "def merge_stats(start_date):\n",
    "    statistics_to_join = []\n",
    "    for index, row in feature_table.iterrows():\n",
    "        folder = row[[\"NazwaFolderu\",\"NazwaCechy\"]][0]\n",
    "        feature_name = row[[\"NazwaFolderu\",\"NazwaCechy\"]][1]\n",
    "        statistics_to_join.append(pd.read_csv(folder + \"/feature_\" + str(start_date) + \".csv\")[['user_id',feature_name]])\n",
    "    \n",
    "    merged_df = statistics_to_join[0]\n",
    "    for i in range(1, len(statistics_to_join)):\n",
    "        merged_df = pd.merge(merged_df, statistics_to_join[i],how='outer',on=['user_id'])\n",
    "    return merged_df.fillna(0)"
   ]
  },
  {
   "cell_type": "code",
   "execution_count": null,
   "metadata": {},
   "outputs": [],
   "source": [
    "def create_cluster_data(start_date, end_date):\n",
    "    data = []\n",
    "    while start_date < end_date:\n",
    "        res = merge_stats(start_date)\n",
    "        data.append(len(res))\n",
    "        print(\"Data appended\")\n",
    "        print(len(res))\n",
    "        #print(str(len(data)) + \" \" + str(start_date))\n",
    "        #save_data_to_file(\"Cluster_Data\", \"cluster\" + str(start_date) + \".csv\", data)\n",
    "        start_date += timedelta(days=14)\n",
    "    return data"
   ]
  },
  {
   "cell_type": "code",
   "execution_count": null,
   "metadata": {},
   "outputs": [],
   "source": [
    "data = create_cluster_data(start_date_clustering, end_date_clustering)"
   ]
  },
  {
   "cell_type": "code",
   "execution_count": null,
   "metadata": {
    "scrolled": true
   },
   "outputs": [],
   "source": [
    "plt.figure(figsize=(12,5))\n",
    "plt.plot(data, color='mediumpurple', linewidth=4)\n",
    "plt.ylabel('Active users')\n",
    "plt.title(\"Huffington post active users\", fontweight='bold')\n",
    "plt.savefig('huff.png', dpi=300)\n",
    "#plt.show()"
   ]
  },
  {
   "cell_type": "code",
   "execution_count": null,
   "metadata": {},
   "outputs": [],
   "source": [
    "def active_users_plot():\n",
    "    data = create_cluster_data(start_date_clustering, end_date_clustering)\n",
    "    plt.plot(data)\n",
    "    plt.ylabel('Active users')\n",
    "    plt.title(\"Huffington post active users\")\n",
    "    plt.show()"
   ]
  },
  {
   "cell_type": "code",
   "execution_count": null,
   "metadata": {},
   "outputs": [],
   "source": [
    "active_users_plot()"
   ]
  },
  {
   "cell_type": "code",
   "execution_count": null,
   "metadata": {},
   "outputs": [],
   "source": []
  }
 ],
 "metadata": {
  "kernelspec": {
   "display_name": "Python 3",
   "language": "python",
   "name": "python3"
  },
  "language_info": {
   "codemirror_mode": {
    "name": "ipython",
    "version": 3
   },
   "file_extension": ".py",
   "mimetype": "text/x-python",
   "name": "python",
   "nbconvert_exporter": "python",
   "pygments_lexer": "ipython3",
   "version": "3.7.5"
  }
 },
 "nbformat": 4,
 "nbformat_minor": 2
}
