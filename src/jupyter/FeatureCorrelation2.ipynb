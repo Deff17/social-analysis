{
 "cells": [
  {
   "cell_type": "code",
   "execution_count": null,
   "metadata": {},
   "outputs": [],
   "source": [
    "import pandas as pd\n",
    "import numpy as np\n",
    "import matplotlib.pyplot as plt\n",
    "import math\n",
    "import datetime\n",
    "from datetime import timedelta \n",
    "from collections import Counter"
   ]
  },
  {
   "cell_type": "code",
   "execution_count": null,
   "metadata": {},
   "outputs": [],
   "source": [
    "start_date_comments = datetime.date(2009, 12, 22)\n",
    "end_date_comments = datetime.date(2013,10, 22)"
   ]
  },
  {
   "cell_type": "code",
   "execution_count": null,
   "metadata": {},
   "outputs": [],
   "source": [
    "#salon\n",
    "start_date_comments = datetime.date(2008, 1, 1) \n",
    "end_date_comments = datetime.date(2013,7, 6)"
   ]
  },
  {
   "cell_type": "code",
   "execution_count": null,
   "metadata": {},
   "outputs": [],
   "source": [
    "# number of posts, \n",
    "# post activity, #\n",
    "# number ofcomments\n",
    "# frequency of posts stddev, #\n",
    "# frequencyof posts max,\n",
    "# frequency of posts q3\n",
    "# frequency of comments q3, #\n",
    "# frequency of comments max,\n",
    "# frequency of comments min\n",
    "# Number of received responses to post max,  #\n",
    "# Number of received responsesto  post  stddev,  #\n",
    "# Number  of  received  responses  to  post  avg,  #\n",
    "# Number  of  receivedresponses to post q3 #\n",
    "# Number of received responses under comments avg, \n",
    "# Number of re-ceived responses under comments stddev,  \n",
    "# Number of received responses undercomments q3,  #\n",
    "# Number of received responses under comments max #\n",
    "# Number of ownpost responses q3,  #\n",
    "# Number of own post responses max\n",
    "# Number of own postresponses standard deviation\n",
    "# Number of words in posts q3, #\n",
    "# Number of words in posts avg\n",
    "# Number of words in posts median\n",
    "# Number  ofwords in comments q3, \n",
    "# Number of words in comments avg\n",
    "# Number of words in comments median, #\n",
    "# Number of words in responsesto post avg,\n",
    "# Number of words in responses to post median,\n",
    "# Number of words inresponses to post q3 #\n",
    "# Number of words in own post re-sponses avg,\n",
    "# Number of words in own post responses q3, #\n",
    "# Number of words in ownpost responses median\n",
    "\n",
    "# - nie ma freq of post avg - !!!!!!!!!!!!!!! to trzeba dodac do analizy (ewentualnie zamienic na q3)\n",
    "\n",
    "\n",
    "#     \"frequency_of_comments_max\",\n",
    "#     \"frequency_of_comments_min\",\n",
    "#     \"number_of_own_post_responses_stddev\",\n",
    "#          \"number_of_received_responses_under_comments_stddev\",\n",
    "new_columns = [\n",
    "        \n",
    "    \"number_of_posts\",\n",
    "    \"posts_activity_time\",\n",
    "    \"number_of_comments\",\n",
    "    \n",
    "    \"frequency_of_posts_stddev\",\n",
    "    \"frequency_of_posts_max\",\n",
    "    \"frequency_of_posts_q3\",\n",
    "    \"frequency_of_posts_median\",\n",
    "    \"frequency_of_posts_avg\",\n",
    "    \n",
    "    \"frequency_of_comments_max\",\n",
    "    \"frequency_of_comments_q3\",\n",
    "    \"frequency_of_comments_median\",\n",
    "\n",
    "    \"number_of_received_responses_to_post_max\",\n",
    "    \"number_of_received_responses_to_post_stddev\",\n",
    "    \"number_of_received_responses_to_post_avg\",\n",
    "    \"number_of_received_responses_to_post_q3\",\n",
    "    \n",
    "    \"number_of_received_responses_under_comments_avg\",\n",
    "    \"number_of_received_responses_under_comments_q3\",\n",
    "    \"number_of_received_responses_under_comments_max\",\n",
    "    \n",
    "    \"number_of_own_post_responses_q3\",\n",
    "\n",
    "    \"number_of_words_in_posts_q3\",\n",
    "    \"number_of_words_in_posts_avg\",\n",
    "    \"number_of_words_in_posts_median\",\n",
    "    \n",
    "    \"number_of_words_in_comments_q3\",\n",
    "    \"number_of_words_in_comments_avg\",\n",
    "    \"number_of_words_in_comments_median\",\n",
    "    \n",
    "    \"number_of_words_in_responses_to_posts_avg\",\n",
    "    \"number_of_words_in_responses_to_posts_median\",\n",
    "    \"number_of_words_in_responses_to_posts_q3\",\n",
    "    \n",
    "    \"number_of_words_in_own_post_responses_avg\",\n",
    "    \"number_of_words_in_own_post_responses_q3\",\n",
    "    \"number_of_words_in_own_post_responses_median\"\n",
    "\n",
    "    \n",
    "]\n",
    "\n",
    "new_columns_salon = [\n",
    "    \"number_of_posts\",\n",
    "    \"posts_activity_time\",\n",
    "    \"number_of_comments\",\n",
    "    \n",
    "    \"frequency_of_posts_stddev\",\n",
    "    \"frequency_of_posts_max\",\n",
    "    \"frequency_of_posts_q3\",\n",
    "    \"frequency_of_posts_median\",\n",
    "    \"frequency_of_posts_avg\",\n",
    "    \n",
    "    \n",
    "    \"frequency_of_comments_q3\",\n",
    "    \"frequency_of_comments_median\",\n",
    "    \"frequency_of_comments_max\",\n",
    "    \"frequency_of_comments_stddev\", # this\n",
    "    \n",
    "    \"number_of_received_responses_to_post_max\",\n",
    "    \"number_of_received_responses_to_post_stddev\",\n",
    "    \"number_of_received_responses_to_post_avg\",\n",
    "    \"number_of_received_responses_to_post_q3\",\n",
    "    \n",
    "       # \"number_of_received_responses_under_comments_avg\", bez tego\n",
    "    \"number_of_received_responses_under_comments_q3\",\n",
    "    \"number_of_received_responses_under_comments_max\",\n",
    "    \n",
    "    \"number_of_own_post_responses_q3\",\n",
    "    \"number_of_own_post_responses_avg\",\n",
    "    \n",
    "    \"number_of_words_in_posts_q3\",\n",
    "    \"number_of_words_in_posts_avg\",\n",
    "    \"number_of_words_in_posts_median\",\n",
    "    \n",
    "    \n",
    "    \"number_of_words_in_comments_q3\",\n",
    "    \"number_of_words_in_comments_avg\",\n",
    "    \"number_of_words_in_comments_median\",\n",
    "    \n",
    "#      \"number_of_words_in_responses_to_posts_avg\",\n",
    "#     \"number_of_words_in_responses_to_posts_median\", te nie \n",
    "    \"number_of_words_in_responses_to_posts_q3\",\n",
    "    \n",
    "#     \"number_of_words_in_own_post_responses_avg\",\n",
    "    \"number_of_words_in_own_post_responses_q3\",\n",
    "#     \"number_of_words_in_own_post_responses_median\"\n",
    "    \n",
    "    \n",
    "]"
   ]
  },
  {
   "cell_type": "code",
   "execution_count": null,
   "metadata": {},
   "outputs": [],
   "source": [
    "columns_without_sentiment = [\"number_of_posts\",\n",
    "           \"posts_activity_time\",\n",
    "           \"number_of_comments\",\n",
    "           \"frequency_of_posts_stddev\",\n",
    "            \"frequency_of_posts_max\",\n",
    "           \"frequency_of_posts_q3\",\n",
    "           \"frequency_of_comments_avg\",\n",
    "           \"frequency_of_comments_stddev\",\n",
    "           \"frequency_of_comments_median\",\n",
    "           \"frequency_of_comments_q3\",\n",
    "           \"number_of_received_responses_to_post_max\",\n",
    "           \"number_of_received_responses_to_post_stddev\",\n",
    "           \"number_of_received_responses_to_post_avg\",\n",
    "           \"number_of_received_responses_to_post_q3\", # tego nie bylo \n",
    "           \"number_of_received_responses_under_comments_avg\",\n",
    "           \"number_of_received_responses_under_comments_stddev\",\n",
    "           \"number_of_received_responses_under_comments_q3\",\n",
    "           \"number_of_received_responses_under_comments_max\",\n",
    "           \"number_of_own_post_responses_q3\",\n",
    "           \"number_of_own_post_responses_max\",\n",
    "           \"number_of_words_in_posts_avg\",\n",
    "           \"number_of_words_in_posts_median\",\n",
    "           \"number_of_words_in_posts_q3\",\n",
    "                             \"number_of_words_in_posts_max\",\n",
    "           \"number_of_words_in_comments_q3\",\n",
    "                             \"number_of_words_in_comments_max\",\n",
    "           \"number_of_words_in_responses_to_posts_q3\",\n",
    "                             \"number_of_words_in_responses_to_posts_max\",\n",
    "           \"number_of_words_in_own_post_responses_q3\",\n",
    "                            \"number_of_words_in_own_post_responses_max\"]"
   ]
  },
  {
   "cell_type": "code",
   "execution_count": null,
   "metadata": {},
   "outputs": [],
   "source": [
    "columns_salon = [\"number_of_posts\",\n",
    "           \"posts_activity_time\",\n",
    "           \"number_of_comments\",\n",
    "           \"frequency_of_posts_avg\",\n",
    "           \"frequency_of_posts_stddev\",\n",
    "           \"frequency_of_posts_median\",\n",
    "           \"frequency_of_posts_q3\",\n",
    "           \"frequency_of_comments_avg\",\n",
    "           \"frequency_of_comments_stddev\",\n",
    "           \"frequency_of_comments_median\",\n",
    "           \"frequency_of_comments_q3\",\n",
    "           \"number_of_received_responses_to_post_max\",\n",
    "           \"number_of_received_responses_to_post_stddev\",\n",
    "           \"number_of_received_responses_to_post_avg\",\n",
    "           \"number_of_received_responses_under_comments_avg\",\n",
    "           \"number_of_received_responses_under_comments_stddev\",\n",
    "           \"number_of_received_responses_under_comments_q3\",\n",
    "           \"number_of_received_responses_under_comments_max\",\n",
    "           \"number_of_own_post_responses_q3\",\n",
    "           \"number_of_own_post_responses_max\",\n",
    "           \"number_of_words_in_posts_avg\",\n",
    "           \"number_of_words_in_posts_median\",\n",
    "           \"number_of_words_in_posts_q3\",\n",
    "           \"number_of_words_in_comments_avg\",\n",
    "           \"number_of_words_in_comments_median\",\n",
    "           \"number_of_words_in_comments_q3\",\n",
    "           \"number_of_words_in_responses_to_posts_avg\",\n",
    "           \"number_of_words_in_responses_to_posts_stddev\",\n",
    "           \"number_of_words_in_responses_to_posts_median\",\n",
    "           \"number_of_words_in_responses_to_posts_q3\",\n",
    "           \"number_of_words_in_own_post_responses_avg\",\n",
    "           \"number_of_words_in_own_post_responses_q3\"]"
   ]
  },
  {
   "cell_type": "code",
   "execution_count": null,
   "metadata": {},
   "outputs": [],
   "source": [
    "#mine\n",
    "columns = [\"number_of_posts\",\n",
    "           \"posts_activity_time\",\n",
    "           \"number_of_comments\",\n",
    "           \"frequency_of_posts_avg\",\n",
    "\n",
    "           \"frequency_of_posts_median\",\n",
    "           \"frequency_of_posts_q3\",\n",
    "           \"frequency_of_comments_avg\",\n",
    "           \"frequency_of_comments_stddev\",\n",
    "           \"frequency_of_comments_median\",\n",
    "           \"frequency_of_comments_q3\",\n",
    "           \"number_of_received_responses_to_post_max\",\n",
    "           \"number_of_received_responses_to_post_stddev\",\n",
    "           \"number_of_received_responses_to_post_avg\",\n",
    "           \"number_of_received_responses_to_post_q3\", # tego nie bylo \n",
    "           \"number_of_received_responses_under_comments_avg\",\n",
    "           \"number_of_received_responses_under_comments_stddev\",\n",
    "           \"number_of_received_responses_under_comments_q3\",\n",
    "           \"number_of_received_responses_under_comments_max\",\n",
    "           \"number_of_own_post_responses_q3\",\n",
    "           \"number_of_own_post_responses_max\",\n",
    "           \"number_of_words_in_posts_avg\",\n",
    "           \"number_of_words_in_posts_median\",\n",
    "           \"number_of_words_in_posts_q3\",\n",
    "           \"number_of_words_in_comments_avg\",\n",
    "           \"number_of_words_in_comments_median\",\n",
    "           \"number_of_words_in_comments_q3\",\n",
    "           'number_of_words_in_responses_to_posts_avg',\n",
    "           \"number_of_words_in_responses_to_posts_stddev\",\n",
    "           \"number_of_words_in_responses_to_posts_median\",\n",
    "           \"number_of_words_in_responses_to_posts_q3\",\n",
    "           \"number_of_words_in_own_post_responses_avg\",\n",
    "           \"number_of_words_in_own_post_responses_q3\",\n",
    "           \"post_sentiment_stddev\",\n",
    "           \"post_sentiment_q3\",\n",
    "           \"comments_sentiment_q3\",\n",
    "           \"comments_sentiment_stddev\",\n",
    "           \"received_response_sentiment_q3\",\n",
    "           \"received_response_sentiment_stddev\"]"
   ]
  },
  {
   "cell_type": "code",
   "execution_count": null,
   "metadata": {},
   "outputs": [],
   "source": [
    "#klaudia's\n",
    "columns = [\"number_of_posts\",\n",
    "           \"posts_activity_time\",\n",
    "           \"number_of_comments\",\n",
    "           \"frequency_of_posts_avg\",\n",
    "           \"frequency_of_posts_stddev\",\n",
    "           \"frequency_of_posts_median\",\n",
    "           \"frequency_of_posts_q3\",\n",
    "           \"frequency_of_comments_avg\",\n",
    "           \"frequency_of_comments_median\",\n",
    "           \"frequency_of_comments_q3\",\n",
    "           \"number_of_received_responses_to_post_max\",\n",
    "           \"number_of_received_responses_to_post_stddev\",\n",
    "           \"number_of_received_responses_to_post_avg\",\n",
    "           \"number_of_received_responses_to_post_q3\",\n",
    "           \"number_of_received_responses_under_comments_avg\",\n",
    "           \"number_of_received_responses_under_comments_median\",\n",
    "           \"number_of_received_responses_under_comments_q3\",\n",
    "           \"number_of_received_responses_under_comments_max\",\n",
    "           \"number_of_own_post_responses_q3\",\n",
    "           \"number_of_own_post_responses_avg\",\n",
    "           \"number_of_words_in_posts_avg\",\n",
    "           \"number_of_words_in_posts_median\",\n",
    "           \"number_of_words_in_posts_q3\",\n",
    "           \"number_of_words_in_comments_avg\",\n",
    "           \"number_of_words_in_comments_median\",\n",
    "           \"number_of_words_in_comments_q3\",\n",
    "           'number_of_words_in_responses_to_posts_avg',\n",
    "           \"number_of_words_in_responses_to_posts_stddev\",\n",
    "           \"number_of_words_in_responses_to_posts_median\",\n",
    "           \"number_of_words_in_responses_to_posts_q3\",\n",
    "           \"number_of_words_in_own_post_responses_avg\",\n",
    "           \"number_of_words_in_own_post_responses_q3\",\n",
    "           \"post_sentiment_avg\",\n",
    "           \"post_sentiment_median\",\n",
    "           \"post_sentiment_min\",\n",
    "           \"comments_sentiment_q3\",\n",
    "           \"comments_sentiment_median\",\n",
    "           \"comments_sentiment_avg\",\n",
    "           \"received_response_sentiment_q3\",\n",
    "           \"received_response_sentiment_stddev\"]"
   ]
  },
  {
   "cell_type": "code",
   "execution_count": null,
   "metadata": {},
   "outputs": [],
   "source": [
    "feature_table = pd.read_csv(\"FeatureTableCSV.csv\", sep=\";\")"
   ]
  },
  {
   "cell_type": "code",
   "execution_count": null,
   "metadata": {},
   "outputs": [],
   "source": [
    "feature_table = pd.read_csv(\"FeatureTable_SALON.csv\", sep=\";\")"
   ]
  },
  {
   "cell_type": "code",
   "execution_count": null,
   "metadata": {},
   "outputs": [],
   "source": [
    "def generate_stats_for_entire_data(feature_table, start_date, end_date):\n",
    "    results = pd.DataFrame()\n",
    "    while start_date < end_date:\n",
    "        features = pd.read_csv(\"All_Data_In_Slots_Joined/\" + str(start_date) + \"_joined.csv\")\n",
    "        results = pd.concat([results, features], ignore_index=True)\n",
    "        start_date += timedelta(days=14)\n",
    "    return results"
   ]
  },
  {
   "cell_type": "code",
   "execution_count": null,
   "metadata": {},
   "outputs": [],
   "source": [
    "alldata = generate_stats_for_entire_data(feature_table, start_date_comments, end_date_comments)"
   ]
  },
  {
   "cell_type": "code",
   "execution_count": null,
   "metadata": {},
   "outputs": [],
   "source": [
    "df_col = alldata[new_columns_salon]"
   ]
  },
  {
   "cell_type": "code",
   "execution_count": null,
   "metadata": {},
   "outputs": [],
   "source": [
    "# tu mozna zamienic kolumny na liczby"
   ]
  },
  {
   "cell_type": "code",
   "execution_count": null,
   "metadata": {},
   "outputs": [],
   "source": [
    "def get_high_corr_features(features, threshold=0.9) -> list(((str, str), float)):\n",
    "    corr = features.corr()\n",
    "    high_corr = {}\n",
    "    for index, row in corr.iterrows():\n",
    "        for col_name, val in row.iteritems():\n",
    "            if val > threshold and col_name != index:\n",
    "                if (col_name, index) not in high_corr:\n",
    "                    high_corr[index, col_name] = val\n",
    "    return high_corr.items()"
   ]
  },
  {
   "cell_type": "code",
   "execution_count": null,
   "metadata": {},
   "outputs": [],
   "source": [
    "def corr_features_selection(features, threshold=0.9):\n",
    "    features_corr = get_high_corr_features(features, threshold=threshold)\n",
    "    features_corr = sorted(features_corr, key=lambda x: x[1], reverse=True)\n",
    "    removed = set()\n",
    "    chosen = set()\n",
    "    while len(features_corr) > 0:\n",
    "        features_corr = sorted(features_corr, key=lambda x: x[1], reverse=True)\n",
    "        a, b = features_corr[0][0]\n",
    "        if a in removed and b in removed:\n",
    "            features_corr.pop(0)\n",
    "        else:\n",
    "            if a in removed:\n",
    "                chosen_feature = b\n",
    "            elif b in removed:\n",
    "                chosen_feature = a\n",
    "            else:\n",
    "                x = [elem[0][0] for elem in features_corr]\n",
    "                x += [elem[0][1] for elem in features_corr]\n",
    "                counter = Counter(x)\n",
    "                if counter[a] == counter[b]:\n",
    "                    a_var = np.std(features[a])\n",
    "                    b_var = np.std(features[b])\n",
    "                    chosen_feature = a if a_var > b_var else b\n",
    "                else:\n",
    "                    chosen_feature = a if counter[a] > counter[b] else b\n",
    "            chosen.add(chosen_feature)\n",
    "            for i,f in enumerate(features_corr):\n",
    "                x = f[0][0]\n",
    "                y = f[0][1]\n",
    "                if x == chosen_feature:\n",
    "                    removed.add(y)\n",
    "                elif y == chosen_feature:\n",
    "                    removed.add(x)\n",
    "            features_corr = list(filter(lambda x: x[0][0] != chosen_feature and x[0][1] != chosen_feature, features_corr))\n",
    "    return removed"
   ]
  },
  {
   "cell_type": "code",
   "execution_count": null,
   "metadata": {},
   "outputs": [],
   "source": [
    "def get_chosen(features, threshold=0.90):\n",
    "    to_rm = corr_features_selection(features, threshold=threshold)\n",
    "    chosen = []\n",
    "    for c in features.columns:\n",
    "        if c not in to_rm:\n",
    "            chosen.append(c)\n",
    "    return features[chosen]"
   ]
  },
  {
   "cell_type": "code",
   "execution_count": null,
   "metadata": {},
   "outputs": [],
   "source": [
    "def plot_corr_matrix(result):\n",
    "    f = plt.figure(figsize=(19, 15))\n",
    "    plt.matshow(result.corr(), fignum=f.number)\n",
    "    plt.xticks(range(result.shape[1]), result.columns, fontsize=14, rotation=45)\n",
    "    plt.yticks(range(result.shape[1]), result.columns, fontsize=14)\n",
    "    cb = plt.colorbar()\n",
    "    cb.ax.tick_params(labelsize=14)\n",
    "    plt.title('Correlation Matrix', fontsize=16);\n",
    "    plt.savefig(\"Correlation.png\")\n",
    "#     corr = result.corr()\n",
    "#     plt.matshow(corr)\n",
    "#     plt.show()"
   ]
  },
  {
   "cell_type": "code",
   "execution_count": null,
   "metadata": {},
   "outputs": [],
   "source": [
    "col = [str(i) for i in range(1,29)]"
   ]
  },
  {
   "cell_type": "code",
   "execution_count": null,
   "metadata": {},
   "outputs": [],
   "source": [
    "col"
   ]
  },
  {
   "cell_type": "code",
   "execution_count": null,
   "metadata": {},
   "outputs": [],
   "source": [
    "df_col.columns = col"
   ]
  },
  {
   "cell_type": "code",
   "execution_count": null,
   "metadata": {},
   "outputs": [],
   "source": [
    "plot_corr_matrix(df_col)"
   ]
  },
  {
   "cell_type": "code",
   "execution_count": null,
   "metadata": {},
   "outputs": [],
   "source": [
    "chosen_featrues = get_chosen(df_col)\n",
    "list(chosen_featrues)"
   ]
  },
  {
   "cell_type": "code",
   "execution_count": null,
   "metadata": {},
   "outputs": [],
   "source": [
    "corr = df_col.corr()\n",
    "corr.style.background_gradient(cmap='coolwarm').set_precision(2)"
   ]
  },
  {
   "cell_type": "code",
   "execution_count": null,
   "metadata": {},
   "outputs": [],
   "source": [
    "corr.style.background_gradient(cmap='coolwarm').set_properties(**{'font-size': '0pt'})"
   ]
  },
  {
   "cell_type": "code",
   "execution_count": null,
   "metadata": {},
   "outputs": [],
   "source": [
    "import seaborn as sns\n",
    "sns.heatmap(corr, mask=np.zeros_like(corr, dtype=np.bool), cmap=sns.diverging_palette(220, 10, as_cmap=True),\n",
    "            square=True, ax=ax)"
   ]
  },
  {
   "cell_type": "code",
   "execution_count": null,
   "metadata": {},
   "outputs": [],
   "source": [
    "chosen_featrues = get_chosen(alldata)"
   ]
  },
  {
   "cell_type": "code",
   "execution_count": null,
   "metadata": {},
   "outputs": [],
   "source": [
    "print(list(chosen_featrues))"
   ]
  },
  {
   "cell_type": "code",
   "execution_count": null,
   "metadata": {},
   "outputs": [],
   "source": [
    "chosen_featrues"
   ]
  },
  {
   "cell_type": "code",
   "execution_count": null,
   "metadata": {},
   "outputs": [],
   "source": [
    "chosen_featrues = get_chosen(alldata)"
   ]
  },
  {
   "cell_type": "code",
   "execution_count": null,
   "metadata": {},
   "outputs": [],
   "source": [
    "chosen_featrues2 = get_chosen(alldata, threshold=0.85)"
   ]
  },
  {
   "cell_type": "code",
   "execution_count": null,
   "metadata": {},
   "outputs": [],
   "source": [
    "print(list(chosen_featrues2))"
   ]
  },
  {
   "cell_type": "code",
   "execution_count": null,
   "metadata": {},
   "outputs": [],
   "source": [
    "print(list(chosen_featrues))"
   ]
  },
  {
   "cell_type": "code",
   "execution_count": null,
   "metadata": {
    "scrolled": false
   },
   "outputs": [],
   "source": [
    "corr = alldata.corr()\n",
    "corr.style.background_gradient(cmap='coolwarm').set_precision(2)"
   ]
  },
  {
   "cell_type": "code",
   "execution_count": null,
   "metadata": {},
   "outputs": [],
   "source": [
    "corr = alldata.corr()\n"
   ]
  },
  {
   "cell_type": "code",
   "execution_count": null,
   "metadata": {},
   "outputs": [],
   "source": [
    "abs(corr).sum().sort_values()"
   ]
  },
  {
   "cell_type": "code",
   "execution_count": null,
   "metadata": {},
   "outputs": [],
   "source": [
    "all_data.columns = list(range(0,38))\n",
    "plot_corr_matrix(all_data)"
   ]
  },
  {
   "cell_type": "code",
   "execution_count": null,
   "metadata": {},
   "outputs": [],
   "source": [
    "get_high_corr_features(alldata, threshold=0.9)"
   ]
  },
  {
   "cell_type": "code",
   "execution_count": null,
   "metadata": {},
   "outputs": [],
   "source": [
    "feature_table_SALON = pd.read_csv(\"FeatureTable_SALON.csv\", sep=\";\")\n",
    "start_date_comments_salon = datetime.date(2008, 1, 1)\n",
    "end_date_comments_salon = datetime.date(2013,7, 6)"
   ]
  },
  {
   "cell_type": "code",
   "execution_count": null,
   "metadata": {},
   "outputs": [],
   "source": [
    "def SALON_generate_stats_for_entire_data(feature_table, start_date, end_date):\n",
    "    results = pd.DataFrame()\n",
    "    while start_date < end_date:\n",
    "        features = pd.read_csv(\"SALON_All_Data_In_Slots_Joined/\" + str(start_date) + \"_joined.csv\")\n",
    "        results = pd.concat([results, features], ignore_index=True)\n",
    "        start_date += timedelta(days=14)\n",
    "    return results"
   ]
  },
  {
   "cell_type": "code",
   "execution_count": null,
   "metadata": {},
   "outputs": [],
   "source": [
    "alldata_SALON = SALON_generate_stats_for_entire_data(feature_table_SALON, start_date_comments_salon, end_date_comments_salon)[columns_salon]"
   ]
  },
  {
   "cell_type": "code",
   "execution_count": null,
   "metadata": {},
   "outputs": [],
   "source": [
    "alldata_SALON = alldata_SALON[columns_salon]"
   ]
  },
  {
   "cell_type": "code",
   "execution_count": null,
   "metadata": {},
   "outputs": [],
   "source": [
    "chosen_featrues_SALON = get_chosen(alldata_SALON)"
   ]
  },
  {
   "cell_type": "code",
   "execution_count": null,
   "metadata": {},
   "outputs": [],
   "source": [
    "list(chosen_featrues_SALON)"
   ]
  },
  {
   "cell_type": "code",
   "execution_count": null,
   "metadata": {},
   "outputs": [],
   "source": [
    "chosen_featrues = get_chosen(alldata)"
   ]
  },
  {
   "cell_type": "code",
   "execution_count": null,
   "metadata": {},
   "outputs": [],
   "source": [
    "list(chosen_featrues)"
   ]
  },
  {
   "cell_type": "code",
   "execution_count": null,
   "metadata": {},
   "outputs": [],
   "source": []
  }
 ],
 "metadata": {
  "kernelspec": {
   "display_name": "Python 3",
   "language": "python",
   "name": "python3"
  },
  "language_info": {
   "codemirror_mode": {
    "name": "ipython",
    "version": 3
   },
   "file_extension": ".py",
   "mimetype": "text/x-python",
   "name": "python",
   "nbconvert_exporter": "python",
   "pygments_lexer": "ipython3",
   "version": "3.7.5"
  }
 },
 "nbformat": 4,
 "nbformat_minor": 2
}
