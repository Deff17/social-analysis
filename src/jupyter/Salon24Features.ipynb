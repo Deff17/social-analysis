{
 "cells": [
  {
   "cell_type": "code",
   "execution_count": null,
   "metadata": {},
   "outputs": [],
   "source": [
    "import psycopg2\n",
    "import pandas as pd\n",
    "import os\n",
    "import itertools\n",
    "import numpy as np\n",
    "\n",
    "conn = psycopg2.connect(\n",
    "    host='localhost',\n",
    "    port=54340,\n",
    "    dbname='salon24',\n",
    "    password='pass',\n",
    "    user='postgres',\n",
    "    )\n",
    "conn.autocommit = False"
   ]
  },
  {
   "cell_type": "code",
   "execution_count": null,
   "metadata": {},
   "outputs": [],
   "source": [
    "import datetime\n",
    "from datetime import timedelta \n",
    "\n",
    "authors = \"authors\"\n",
    "comments = \"comments\"\n",
    "posts = \"posts\"\n",
    "\n",
    "\n",
    "\n",
    "start_date_comments = datetime.date(2008, 1, 1)\n",
    "end_date_comments = datetime.date(2013,7, 6)"
   ]
  },
  {
   "cell_type": "code",
   "execution_count": null,
   "metadata": {},
   "outputs": [],
   "source": [
    "df = pd.read_csv(\"FeatureTable_SALON.csv\", sep=\";\")"
   ]
  },
  {
   "cell_type": "code",
   "execution_count": null,
   "metadata": {},
   "outputs": [],
   "source": [
    "def get_all_users():\n",
    "    cur = conn.cursor()\n",
    "    query = \"\"\"\n",
    "    SELECT id, name FROM {} order by id\n",
    "    \"\"\".format(authors)\n",
    "    cur.execute(query)\n",
    "    res = cur.fetchall()\n",
    "    conn.commit()\n",
    "    cur.close()\n",
    "    return res"
   ]
  },
  {
   "cell_type": "code",
   "execution_count": null,
   "metadata": {},
   "outputs": [],
   "source": [
    "def get_all_ids():\n",
    "    result = get_all_users()\n",
    "    return [x[0] for x in result]"
   ]
  },
  {
   "cell_type": "code",
   "execution_count": null,
   "metadata": {},
   "outputs": [],
   "source": [
    "def save_data_to_file(folder_name, file_name, data):\n",
    "    try:\n",
    "        # Create target Directory\n",
    "        os.mkdir(folder_name)\n",
    "        print(\"Directory \" , folder_name ,  \" Created \") \n",
    "    except FileExistsError:\n",
    "        e = 1\n",
    "        #print(\"Directory \" , folder_name ,  \" already exists\")\n",
    "    data.to_csv(folder_name + \"/\" + file_name, index=False)"
   ]
  },
  {
   "cell_type": "code",
   "execution_count": null,
   "metadata": {},
   "outputs": [],
   "source": [
    "def clear_none_values(results):\n",
    "    data = []\n",
    "    for res in results:\n",
    "        res = [0 if v is None else v for v in res]\n",
    "        data.append(res)\n",
    "    return data"
   ]
  },
  {
   "cell_type": "code",
   "execution_count": null,
   "metadata": {},
   "outputs": [],
   "source": [
    "def generate_feature(start_date, end_date, is_clear, feature_function, columns, folder_name):\n",
    "    \n",
    "    while start_date < end_date:\n",
    "        print(start_date)\n",
    "        results = feature_function(start_date, start_date + timedelta(days=28))\n",
    "        res = []\n",
    "        if is_clear:\n",
    "            res = results\n",
    "        else:\n",
    "            res = clear_none_values(results)\n",
    "        data = []\n",
    "        data.extend(res)\n",
    "        df = pd.DataFrame(data, columns = columns )\n",
    "        df['start_date'] = pd.Series(start_date, index=df.index)\n",
    "        df['end_date'] = pd.Series(end_date, index=df.index)\n",
    "        save_data_to_file(folder_name, \"feature_\" + str(start_date) + \".csv\", df)\n",
    "        start_date += timedelta(days=14)"
   ]
  },
  {
   "cell_type": "code",
   "execution_count": null,
   "metadata": {},
   "outputs": [],
   "source": [
    "def get_number_of_users_posts(start_date, end_date):\n",
    "    cur = conn.cursor()\n",
    "    query = \"\"\"\n",
    "    SELECT author_id, COUNT(*) FROM {}\n",
    "    WHERE date between '{}' and '{}'\n",
    "    GROUP BY author_id\n",
    "    ORDER BY author_id\n",
    "    \"\"\".format(posts, start_date, end_date)\n",
    "    cur.execute(query)\n",
    "    res = cur.fetchall()\n",
    "    conn.commit()\n",
    "    cur.close()\n",
    "    return res"
   ]
  },
  {
   "cell_type": "code",
   "execution_count": null,
   "metadata": {},
   "outputs": [],
   "source": [
    "#\"NumberOfUsersPostsWithoutZeros\"\n",
    "folder = \"SALON_NumberOfUserPosts\"\n",
    "columns = ['user_id']\n",
    "columns.extend(list(df.loc[df[\"NazwaFolderu\"] == folder][\"NazwaCechy\"]))\n",
    "generate_feature(start_date_comments, end_date_comments, True, get_number_of_users_posts, columns, folder)"
   ]
  },
  {
   "cell_type": "code",
   "execution_count": null,
   "metadata": {},
   "outputs": [],
   "source": [
    "def get_number_of_written_comments_to_other_users(start_date, end_date):\n",
    "    cur = conn.cursor()\n",
    "    query = \"\"\"\n",
    "    SELECT c.author_id, COUNT(*) FROM {} c\n",
    "    JOIN {} p ON p.id = c.post_id AND c.author_id <> p.author_id\n",
    "    WHERE c.date between '{}' and '{}'\n",
    "    GROUP BY c.author_id\n",
    "    ORDER BY c.author_id\n",
    "    \"\"\".format(comments, posts, start_date, end_date)\n",
    "    cur.execute(query)\n",
    "    res = cur.fetchall()\n",
    "    conn.commit()\n",
    "    cur.close()\n",
    "    return res"
   ]
  },
  {
   "cell_type": "code",
   "execution_count": null,
   "metadata": {},
   "outputs": [],
   "source": [
    "folder = \"SALON_NumberOfCommentsToOtherUsers\"\n",
    "columns = ['user_id']\n",
    "columns.extend(list(df.loc[df[\"NazwaFolderu\"] == folder][\"NazwaCechy\"]))\n",
    "generate_feature(start_date_comments, end_date_comments, True, get_number_of_written_comments_to_other_users, columns, folder)"
   ]
  },
  {
   "cell_type": "code",
   "execution_count": null,
   "metadata": {},
   "outputs": [],
   "source": [
    "def get_number_of_received_responses_to_users_posts(start_date, end_date):\n",
    "    cur = conn.cursor()\n",
    "    query = \"\"\"\n",
    "    SELECT cs.id, AVG(cs.resp_amount), stddev(cs.resp_amount),\n",
    "    percentile_cont(0.5) WITHIN GROUP (ORDER BY cs.resp_amount),\n",
    "    percentile_cont(0.75) WITHIN GROUP (ORDER BY cs.resp_amount),\n",
    "    MAX(cs.resp_amount), MIN(cs.resp_amount) FROM\n",
    "    (SELECT p.author_id as id, COUNT(*) as resp_amount FROM {} c\n",
    "    JOIN {} p ON p.id = c.post_id AND p.author_id <> c.author_id\n",
    "    WHERE c.date between '{}' and '{}'\n",
    "    GROUP BY p.id, p.author_id) as cs\n",
    "    GROUP BY cs.id\n",
    "    \"\"\".format(comments, posts, start_date, end_date)\n",
    "    cur.execute(query)\n",
    "    res = cur.fetchall()\n",
    "    conn.commit()\n",
    "    cur.close()\n",
    "    return res"
   ]
  },
  {
   "cell_type": "code",
   "execution_count": null,
   "metadata": {},
   "outputs": [],
   "source": [
    "folder = \"SALON_NumberOfReceivedResponsesToPost\"\n",
    "columns = ['user_id']\n",
    "columns.extend(list(df.loc[df[\"NazwaFolderu\"] == folder][\"NazwaCechy\"]))\n",
    "generate_feature(start_date_comments, end_date_comments, False, get_number_of_received_responses_to_users_posts, columns, folder)"
   ]
  },
  {
   "cell_type": "code",
   "execution_count": null,
   "metadata": {},
   "outputs": [],
   "source": [
    "def get_number_of_received_unique_users_responses_to_users_posts(start_date, end_date):\n",
    "    cur = conn.cursor()\n",
    "    query = \"\"\"\n",
    "    SELECT cs.id, AVG(cs.resp_amount), stddev(cs.resp_amount),\n",
    "    percentile_cont(0.5) WITHIN GROUP (ORDER BY cs.resp_amount),\n",
    "    percentile_cont(0.75) WITHIN GROUP (ORDER BY cs.resp_amount),\n",
    "    MAX(cs.resp_amount), MIN(cs.resp_amount) FROM\n",
    "    (SELECT p.author_id as id, COUNT(c.author_id ) as resp_amount \n",
    "    FROM {} c JOIN {} p ON p.id = c.post_id \n",
    "    AND p.author_id <> c.author_id \n",
    "    WHERE c.date between '{}' AND '{}' \n",
    "    GROUP BY p.id, p.author_id) as cs\n",
    "    GROUP BY cs.id\n",
    "    \"\"\".format(comments, posts, start_date, end_date)\n",
    "    cur.execute(query)\n",
    "    res = cur.fetchall()\n",
    "    conn.commit()\n",
    "    cur.close()\n",
    "    return res"
   ]
  },
  {
   "cell_type": "code",
   "execution_count": null,
   "metadata": {},
   "outputs": [],
   "source": [
    "folder = \"SALON_NumberOfReceivedUniqueUsersResponsesToPost\"\n",
    "columns = ['user_id']\n",
    "columns.extend(list(df.loc[df[\"NazwaFolderu\"] == folder][\"NazwaCechy\"]))\n",
    "generate_feature(start_date_comments, end_date_comments, False, get_number_of_received_unique_users_responses_to_users_posts, columns, folder)"
   ]
  },
  {
   "cell_type": "code",
   "execution_count": null,
   "metadata": {},
   "outputs": [],
   "source": [
    "def get_number_of_all_responses_from_unique_users_in_slot(start_date, end_date):\n",
    "    cur = conn.cursor()\n",
    "    query = \"\"\"\n",
    "    SELECT p.author_id as id, COUNT(c.author_id ) as resp_amount \n",
    "    FROM {} c JOIN {} p ON p.id = c.post_id \n",
    "    AND p.author_id <> c.author_id \n",
    "    WHERE c.date between '{}' AND '{}' \n",
    "    GROUP BY p.author_id\n",
    "    \"\"\".format(comments, posts, start_date, end_date)\n",
    "    cur.execute(query)\n",
    "    res = cur.fetchall()\n",
    "    conn.commit()\n",
    "    cur.close()\n",
    "    return res"
   ]
  },
  {
   "cell_type": "code",
   "execution_count": null,
   "metadata": {},
   "outputs": [],
   "source": [
    "folder = \"SALON_NumberOfAllResponsesFromUniqueUsersInSlot\"\n",
    "columns = ['user_id']\n",
    "columns.extend(list(df.loc[df[\"NazwaFolderu\"] == folder][\"NazwaCechy\"]))\n",
    "generate_feature(start_date_comments, end_date_comments, False, get_number_of_all_responses_from_unique_users_in_slot, columns, folder)"
   ]
  },
  {
   "cell_type": "code",
   "execution_count": null,
   "metadata": {},
   "outputs": [],
   "source": [
    "def get_number_of_comments_written_by_user_under_his_own_posts(start_date, end_date):\n",
    "    cur = conn.cursor()\n",
    "    query = \"\"\"\n",
    "    SELECT cs.id, AVG(cs.resp_amount), stddev(cs.resp_amount),\n",
    "    percentile_cont(0.5) WITHIN GROUP (ORDER BY cs.resp_amount),\n",
    "    percentile_cont(0.75) WITHIN GROUP (ORDER BY cs.resp_amount),\n",
    "    MAX(cs.resp_amount), MIN(cs.resp_amount) FROM\n",
    "    (SELECT p.author_id as id, COUNT(*) as resp_amount FROM {} c\n",
    "    JOIN {} p ON p.id = c.post_id AND p.author_id = c.author_id\n",
    "    WHERE c.date between '{}' and '{}'\n",
    "    GROUP BY p.id, p.author_id) as cs\n",
    "    GROUP BY cs.id\n",
    "    \"\"\".format(comments, posts, start_date, end_date)\n",
    "    cur.execute(query)\n",
    "    res = cur.fetchall()\n",
    "    conn.commit()\n",
    "    cur.close()\n",
    "    return res"
   ]
  },
  {
   "cell_type": "code",
   "execution_count": null,
   "metadata": {},
   "outputs": [],
   "source": [
    "folder = \"SALON_NumberOfOwnResponsesToPost\"\n",
    "columns = ['user_id']\n",
    "columns.extend(list(df.loc[df[\"NazwaFolderu\"] == folder][\"NazwaCechy\"]))\n",
    "generate_feature(start_date_comments, end_date_comments, False, get_number_of_comments_written_by_user_under_his_own_posts, columns, folder)"
   ]
  },
  {
   "cell_type": "code",
   "execution_count": null,
   "metadata": {},
   "outputs": [],
   "source": [
    "def get_number_of_received_responses_under_users_comments(start_date, end_date):\n",
    "    cur = conn.cursor()\n",
    "    query = \"\"\"\n",
    "    SELECT aggregate.id, AVG(aggregate.resp_amount), stddev(aggregate.resp_amount),\n",
    "    percentile_cont(0.5) WITHIN GROUP (ORDER BY aggregate.resp_amount),\n",
    "    percentile_cont(0.75) WITHIN GROUP (ORDER BY aggregate.resp_amount),\n",
    "    MAX(aggregate.resp_amount), MIN(aggregate.resp_amount) FROM\n",
    "    (SELECT parent_comments.author_id as id, COUNT(*) as resp_amount FROM {} parent_comments\n",
    "    JOIN {} children_comments ON parent_comments.id = children_comments.parentcomment_id AND parent_comments.author_id <> children_comments.author_id\n",
    "    WHERE children_comments.date between '{}' and '{}'\n",
    "    GROUP BY parent_comments.id, parent_comments.author_id) as aggregate\n",
    "    GROUP BY aggregate.id\n",
    "    \"\"\".format(comments, comments, start_date, end_date)\n",
    "    cur.execute(query)\n",
    "    res = cur.fetchall()\n",
    "    conn.commit()\n",
    "    cur.close()\n",
    "    return res"
   ]
  },
  {
   "cell_type": "code",
   "execution_count": null,
   "metadata": {},
   "outputs": [],
   "source": [
    "folder = \"SALON_NumberOfReceivedResponsesUnderComments\"\n",
    "columns = ['user_id']\n",
    "columns.extend(list(df.loc[df[\"NazwaFolderu\"] == folder][\"NazwaCechy\"]))\n",
    "generate_feature(start_date_comments, end_date_comments, False, get_number_of_received_responses_under_users_comments, columns, folder)"
   ]
  },
  {
   "cell_type": "code",
   "execution_count": null,
   "metadata": {},
   "outputs": [],
   "source": [
    "def get_num_of_words_of_comments(start_date, end_date):\n",
    "    cur = conn.cursor()\n",
    "    query = \"\"\"\n",
    "    SELECT cs.id, AVG(cs.len), stddev(cs.len),\n",
    "                       percentile_cont(0.5) WITHIN GROUP (ORDER BY cs.len), \n",
    "                       percentile_cont(0.75) WITHIN GROUP (ORDER BY cs.len),\n",
    "                       MAX(cs.len), MIN(cs.len) FROM\n",
    "                       (SELECT c.author_id as id, array_length(regexp_split_to_array(c.content, \\'\\s\\'),1) as len FROM {} c \n",
    "                       JOIN {} p ON p.id = c.post_id and c.author_id <> p.author_id\n",
    "                       WHERE c.date between '{}' and '{}') as cs\n",
    "                       GROUP BY cs.id\n",
    "    \"\"\".format(comments, posts, start_date, end_date)\n",
    "    cur.execute(query)\n",
    "    result = cur.fetchall()\n",
    "    conn.commit()\n",
    "    cur.close()\n",
    "    return result"
   ]
  },
  {
   "cell_type": "code",
   "execution_count": null,
   "metadata": {},
   "outputs": [],
   "source": [
    "folder = \"SALON_NumberOfWordsInUserComments\"\n",
    "columns = ['user_id']\n",
    "columns.extend(list(df.loc[df[\"NazwaFolderu\"] == folder][\"NazwaCechy\"]))\n",
    "generate_feature(start_date_comments, end_date_comments, False, get_num_of_words_of_comments, columns, folder)"
   ]
  },
  {
   "cell_type": "code",
   "execution_count": null,
   "metadata": {},
   "outputs": [],
   "source": [
    "def get_num_of_words_of_posts(start_date, end_date):\n",
    "    cur = conn.cursor()\n",
    "    query = \"\"\"\n",
    "    SELECT author_id, AVG(array_length(regexp_split_to_array(content, \\'\\s\\'),1)),\n",
    "                       stddev(array_length(regexp_split_to_array(content, \\'\\s\\'),1)),\n",
    "                       percentile_cont(0.5) WITHIN GROUP (ORDER BY array_length(regexp_split_to_array(content, \\'\\s\\'),1)),\n",
    "                       percentile_cont(0.75) WITHIN GROUP (ORDER BY array_length(regexp_split_to_array(content, \\'\\s\\'),1)),\n",
    "                       MAX(array_length(regexp_split_to_array(content, \\'\\s\\'),1)),\n",
    "                       MIN(array_length(regexp_split_to_array(content, \\'\\s\\'),1))\n",
    "                       FROM {} WHERE date between '{}' and '{}'\n",
    "                       GROUP BY author_id\n",
    "    \"\"\".format(posts, start_date, end_date)\n",
    "    cur.execute(query)\n",
    "    result = cur.fetchall()\n",
    "    conn.commit()\n",
    "    cur.close()\n",
    "    return result"
   ]
  },
  {
   "cell_type": "code",
   "execution_count": null,
   "metadata": {},
   "outputs": [],
   "source": [
    "folder = \"SALON_NumberOfWordsInUserPosts\"\n",
    "columns = ['user_id']\n",
    "columns.extend(list(df.loc[df[\"NazwaFolderu\"] == folder][\"NazwaCechy\"]))\n",
    "generate_feature(start_date_comments, end_date_comments, False, get_num_of_words_of_posts, columns, folder)"
   ]
  },
  {
   "cell_type": "code",
   "execution_count": null,
   "metadata": {},
   "outputs": [],
   "source": [
    "def get_num_of_words_of_received_post_responses(start_date, end_date):\n",
    "    cur = conn.cursor()\n",
    "    query = \"\"\"\n",
    "    SELECT cs.id, AVG(cs.len), stddev(cs.len),\n",
    "                       percentile_cont(0.5) WITHIN GROUP (ORDER BY cs.len),\n",
    "                       percentile_cont(0.75) WITHIN GROUP (ORDER BY cs.len),\n",
    "                       MAX(cs.len), MIN(cs.len) FROM\n",
    "                       (SELECT p.author_id as id, array_length(regexp_split_to_array(c.content, \\'\\s\\'),1) as len FROM {} c\n",
    "                       JOIN {} p ON p.id = c.post_id AND p.author_id <> c.author_id\n",
    "                       WHERE c.date between '{}' and '{}') as cs\n",
    "                       GROUP BY cs.id\n",
    "    \"\"\".format(comments, posts, start_date, end_date)\n",
    "    cur.execute(query)\n",
    "    result = cur.fetchall()\n",
    "    conn.commit()\n",
    "    cur.close()\n",
    "    return result"
   ]
  },
  {
   "cell_type": "code",
   "execution_count": null,
   "metadata": {},
   "outputs": [],
   "source": [
    "folder = \"SALON_NumberOfWordsInResponsesToUserPosts\"\n",
    "columns = ['user_id']\n",
    "columns.extend(list(df.loc[df[\"NazwaFolderu\"] == folder][\"NazwaCechy\"]))\n",
    "generate_feature(start_date_comments, end_date_comments, False, get_num_of_words_of_received_post_responses, columns, folder)"
   ]
  },
  {
   "cell_type": "code",
   "execution_count": null,
   "metadata": {},
   "outputs": [],
   "source": [
    "def get_num_of_words_of_own_post_responses(start_date, end_date):\n",
    "    cur = conn.cursor()\n",
    "    query = \"\"\"\n",
    "    SELECT cs.id, AVG(cs.len), stddev(cs.len),\n",
    "                       percentile_cont(0.5) WITHIN GROUP (ORDER BY cs.len),\n",
    "                       percentile_cont(0.75) WITHIN GROUP (ORDER BY cs.len),\n",
    "                       MAX(cs.len), MIN(cs.len) FROM\n",
    "                       (SELECT p.author_id as id, array_length(regexp_split_to_array(c.content, \\'\\s\\'),1) as len FROM {} c\n",
    "                       JOIN {} p ON p.id = c.post_id AND p.author_id = c.author_id\n",
    "                       WHERE c.date between '{}' and '{}') as cs\n",
    "                       GROUP BY cs.id\n",
    "    \"\"\".format(comments, posts, start_date, end_date)\n",
    "    cur.execute(query)\n",
    "    result = cur.fetchall()\n",
    "    conn.commit()\n",
    "    cur.close()\n",
    "    return result"
   ]
  },
  {
   "cell_type": "code",
   "execution_count": null,
   "metadata": {},
   "outputs": [],
   "source": [
    "folder = \"SALON_NumberOfWordsInOwnPostResponses\"\n",
    "columns = ['user_id']\n",
    "columns.extend(list(df.loc[df[\"NazwaFolderu\"] == folder][\"NazwaCechy\"]))\n",
    "generate_feature(start_date_comments, end_date_comments, False, get_num_of_words_of_own_post_responses, columns, folder)"
   ]
  },
  {
   "cell_type": "code",
   "execution_count": null,
   "metadata": {},
   "outputs": [],
   "source": [
    "def q75(x):\n",
    "    return x.quantile(0.75)"
   ]
  },
  {
   "cell_type": "code",
   "execution_count": null,
   "metadata": {},
   "outputs": [],
   "source": [
    "def generate_frequency_feature(start_date, end_date, feature_frequency_function, columns, final_columns, folder_name):\n",
    "    \n",
    "    while start_date < end_date:\n",
    "        print(start_date)\n",
    "        temp_end_date = start_date + timedelta(days=28)\n",
    "        temp_start_date = start_date\n",
    "        dates = []\n",
    "        while temp_start_date < temp_end_date:\n",
    "            results = feature_frequency_function(start_date, temp_end_date, temp_start_date, temp_start_date + timedelta(days=7))\n",
    "            \n",
    "            data = []\n",
    "            data.extend(results)\n",
    "            df = pd.DataFrame(data, columns = columns )\n",
    "            df['start_date'] = pd.Series(temp_start_date, index=df.index)\n",
    "            df['end_date'] = pd.Series(temp_start_date + timedelta(days=7), index=df.index)\n",
    "            \n",
    "            dates.append(df)\n",
    "            temp_start_date += timedelta(days=7)\n",
    "        res = pd.concat(dates, ignore_index=True)\n",
    "        if res.size != 0:\n",
    "            res[columns[1]] = pd.to_numeric(res[columns[1]])\n",
    "#             quartile = res.groupby(['user_id'])[columns[1]].quantile(0.75)\n",
    "            stats_df = (res.groupby('user_id')[columns[1]].agg(('mean', 'std','median', q75, 'max', 'min')).reset_index())\n",
    "#             merged_df = pd.merge(stats_df, quartile, on='user_id')\n",
    "            final_df = stats_df.fillna(0)\n",
    "            final_df.columns = final_columns\n",
    "            save_data_to_file(folder_name, \"feature_\" + str(start_date) + \".csv\", final_df)\n",
    "        else:\n",
    "            empty = pd.DataFrame(data, columns = final_columns )\n",
    "            save_data_to_file(folder_name, \"feature_\" + str(start_date) + \".csv\", empty)\n",
    "        start_date += timedelta(days=14)"
   ]
  },
  {
   "cell_type": "code",
   "execution_count": null,
   "metadata": {},
   "outputs": [],
   "source": [
    "def get_post_frequency(real_starts_date, real_end_date, start_date, end_date, timedelta_days=28):\n",
    "    cur = conn.cursor()\n",
    "    query = \"\"\"\n",
    "    WITH all_users_in_period AS (\n",
    "    SELECT author_id FROM {} WHERE date between '{}' and '{}' \n",
    "    ),\n",
    "    week AS (SELECT author_id as id, COUNT(*) as num FROM {} \n",
    "    WHERE date between '{}' and '{}' \n",
    "    GROUP BY author_id)\n",
    "    \n",
    "    SELECT a.author_id, coalesce(w.num, 0) as num \n",
    "    FROM all_users_in_period a\n",
    "    LEFT JOIN week w ON a.author_id = w.id\n",
    "    \"\"\".format(posts, real_starts_date, real_end_date, posts, start_date, end_date)\n",
    "    cur.execute(query)\n",
    "    res = cur.fetchall()\n",
    "    conn.commit()\n",
    "    cur.close()\n",
    "    return res"
   ]
  },
  {
   "cell_type": "code",
   "execution_count": null,
   "metadata": {},
   "outputs": [],
   "source": [
    "columns = [\"user_id\", \"number_of_posts\"]\n",
    "folder = \"SALON_FrequencyOfPosts\"\n",
    "final_columns = ['user_id']\n",
    "final_columns.extend(list(df.loc[df[\"NazwaFolderu\"] == folder][\"NazwaCechy\"]))\n",
    "# final_columns = ['user_id', 'mean_post_frequency', 'std_post_frequency','median_post_frequency','min_post_frequency', 'max_post_frequency', 'q3_post_frequency']\n",
    "generate_frequency_feature(start_date_comments, end_date_comments, get_post_frequency, columns, final_columns, folder)"
   ]
  },
  {
   "cell_type": "code",
   "execution_count": null,
   "metadata": {},
   "outputs": [],
   "source": [
    "# frequency of writting comments\n",
    "def get_comments_frequency(real_starts_date, real_end_date, start_date, end_date, timedelta_days=7):\n",
    "    cur = conn.cursor()\n",
    "    query = \"\"\"\n",
    "    WITH all_users_in_period AS (\n",
    "    SELECT author_id FROM {} WHERE date between '{}' and '{}' \n",
    "    ),\n",
    "    week AS (SELECT author_id as id, COUNT(*) as num FROM {} \n",
    "    WHERE date between '{}' and '{}' \n",
    "    GROUP BY author_id)\n",
    "    \n",
    "    SELECT a.author_id, coalesce(w.num, 0) as num \n",
    "    FROM all_users_in_period a\n",
    "    LEFT JOIN week w ON a.author_id = w.id\n",
    "    \"\"\".format(comments, real_starts_date, real_end_date,comments, start_date, end_date)\n",
    "    cur.execute(query)\n",
    "    res = cur.fetchall()\n",
    "    conn.commit()\n",
    "    cur.close()\n",
    "    return res"
   ]
  },
  {
   "cell_type": "code",
   "execution_count": null,
   "metadata": {},
   "outputs": [],
   "source": [
    "columns = [\"user_id\", \"number_of_comments\"]\n",
    "\n",
    "folder = \"SALON_FrequencyOfComments\"\n",
    "final_columns = ['user_id']\n",
    "final_columns.extend(list(df.loc[df[\"NazwaFolderu\"] == folder][\"NazwaCechy\"]))\n",
    "# final_columns = ['user_id', 'mean_comments_frequency', 'std_comments_frequency','median_comments_frequency','min_comments_frequency', 'max_comments_frequency', 'q3_comments_frequency']\n",
    "generate_frequency_feature(start_date_comments, end_date_comments, get_comments_frequency, columns, final_columns, folder)"
   ]
  },
  {
   "cell_type": "code",
   "execution_count": null,
   "metadata": {},
   "outputs": [],
   "source": [
    "def get_post_activity_without_zeros(start_date, end_date):\n",
    "    cur = conn.cursor()\n",
    "    query = \"\"\"\n",
    "    WITH disctinct_months AS (\n",
    "    SELECT DISTINCT author_id, date::date FROM {} WHERE date between '{}' AND '{}'\n",
    "    ) \n",
    "    SELECT author_id as id, count(*) AS post_activity \n",
    "    FROM disctinct_months GROUP BY author_id\n",
    "    \"\"\".format(posts, start_date, end_date)\n",
    "    cur.execute(query)\n",
    "    res = cur.fetchall()\n",
    "    conn.commit()\n",
    "    cur.close()\n",
    "    return res"
   ]
  },
  {
   "cell_type": "code",
   "execution_count": null,
   "metadata": {},
   "outputs": [],
   "source": [
    "folder = \"SALON_PostActivityTime\"\n",
    "columns = ['user_id']\n",
    "columns.extend(list(df.loc[df[\"NazwaFolderu\"] == folder][\"NazwaCechy\"]))\n",
    "generate_feature(start_date_comments, end_date_comments, False, get_post_activity_without_zeros, columns, folder)"
   ]
  },
  {
   "cell_type": "code",
   "execution_count": null,
   "metadata": {},
   "outputs": [],
   "source": []
  }
 ],
 "metadata": {
  "kernelspec": {
   "display_name": "Python 3",
   "language": "python",
   "name": "python3"
  },
  "language_info": {
   "codemirror_mode": {
    "name": "ipython",
    "version": 3
   },
   "file_extension": ".py",
   "mimetype": "text/x-python",
   "name": "python",
   "nbconvert_exporter": "python",
   "pygments_lexer": "ipython3",
   "version": "3.7.5"
  }
 },
 "nbformat": 4,
 "nbformat_minor": 2
}
